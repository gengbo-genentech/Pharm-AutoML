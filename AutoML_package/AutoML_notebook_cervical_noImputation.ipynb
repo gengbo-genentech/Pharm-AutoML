{
 "cells": [
  {
   "cell_type": "code",
   "execution_count": 1,
   "metadata": {},
   "outputs": [
    {
     "name": "stdout",
     "output_type": "stream",
     "text": [
      "/Users/liug28/Downloads/AutoML/AutoML_package\n"
     ]
    }
   ],
   "source": [
    "import os\n",
    "cwd = os.getcwd()\n",
    "import sys\n",
    "sys.path.append(cwd+\"/src_autoML/\")\n",
    "print (cwd)"
   ]
  },
  {
   "cell_type": "code",
   "execution_count": 2,
   "metadata": {},
   "outputs": [
    {
     "name": "stdout",
     "output_type": "stream",
     "text": [
      "WARN: OMP_NUM_THREADS=None =>\n",
      "... If you are using openblas if you are using openblas set OMP_NUM_THREADS=1 or risk subprocess calls hanging indefinitely\n"
     ]
    }
   ],
   "source": [
    "import pandas as pd\n",
    "import numpy as np\n",
    "from PharmAutoML import PharmAutoML"
   ]
  },
  {
   "cell_type": "code",
   "execution_count": 3,
   "metadata": {},
   "outputs": [],
   "source": [
    "categorical_features = []"
   ]
  },
  {
   "cell_type": "code",
   "execution_count": 4,
   "metadata": {},
   "outputs": [
    {
     "name": "stdout",
     "output_type": "stream",
     "text": [
      "{'drop_features': [[]], 'categorical_features': [[]], 'missing_threshold_rows': [0.2], 'missing_threshold_columns': [0.2], 'correlation_threshold': [0.98], 'check_diff_categorical_threshold': [0.1], 'add_nan_label': [False], 'impute_category_strategy': ['most_frequent'], 'impute_numerical_strategy': ['mean']}\n"
     ]
    }
   ],
   "source": [
    "preprocessing_paras = {}\n",
    "preprocessing_paras['drop_features']=[[]]\n",
    "preprocessing_paras['categorical_features']=[categorical_features]\n",
    "preprocessing_paras['missing_threshold_rows']=[0.2]\n",
    "preprocessing_paras['missing_threshold_columns']=[0.2]\n",
    "preprocessing_paras['correlation_threshold']=[0.98]\n",
    "preprocessing_paras['check_diff_categorical_threshold']=[0.1]\n",
    "preprocessing_paras['add_nan_label']=[False]\n",
    "preprocessing_paras['impute_category_strategy']=[\"most_frequent\"]\n",
    "preprocessing_paras['impute_numerical_strategy']=[\"mean\"]\n",
    "print (preprocessing_paras)"
   ]
  },
  {
   "cell_type": "code",
   "execution_count": 5,
   "metadata": {},
   "outputs": [
    {
     "name": "stdout",
     "output_type": "stream",
     "text": [
      "{'PCA_featureReduction_orNot': False, 'PCA_featureReduction_num': None, 'clfs': ['XGboost'], 'n_fold': 5, 'n_repeats': None, 'useDropColFeaImport': False}\n"
     ]
    }
   ],
   "source": [
    "classifier_paras = {}\n",
    "classifier_paras['PCA_featureReduction_orNot']=False\n",
    "classifier_paras['PCA_featureReduction_num']=None\n",
    "classifier_paras['clfs']=['XGboost']\n",
    "classifier_paras['n_fold']=5\n",
    "classifier_paras['n_repeats']=None\n",
    "classifier_paras['useDropColFeaImport']=False\n",
    "print (classifier_paras)"
   ]
  },
  {
   "cell_type": "markdown",
   "metadata": {},
   "source": [
    "## risk factors cervical cancer dataset\n",
    "\n",
    "Numerical data with lots of missings"
   ]
  },
  {
   "cell_type": "code",
   "execution_count": 6,
   "metadata": {},
   "outputs": [],
   "source": [
    "cervical_result_path=cwd+\"/src_autoML/examples/cervical_result\"\n",
    "cervical_data_dir=cwd+\"/src_autoML/examples/data/risk_factors_cervical_cancer.csv\"\n",
    "cervical_target = 'Biopsy'"
   ]
  },
  {
   "cell_type": "code",
   "execution_count": 7,
   "metadata": {},
   "outputs": [
    {
     "data": {
      "text/html": [
       "<div>\n",
       "<style scoped>\n",
       "    .dataframe tbody tr th:only-of-type {\n",
       "        vertical-align: middle;\n",
       "    }\n",
       "\n",
       "    .dataframe tbody tr th {\n",
       "        vertical-align: top;\n",
       "    }\n",
       "\n",
       "    .dataframe thead th {\n",
       "        text-align: right;\n",
       "    }\n",
       "</style>\n",
       "<table border=\"1\" class=\"dataframe\">\n",
       "  <thead>\n",
       "    <tr style=\"text-align: right;\">\n",
       "      <th></th>\n",
       "      <th>Age</th>\n",
       "      <th>Number of sexual partners</th>\n",
       "      <th>First sexual intercourse</th>\n",
       "      <th>Num of pregnancies</th>\n",
       "      <th>Smokes</th>\n",
       "      <th>Smokes (years)</th>\n",
       "      <th>Smokes (packs/year)</th>\n",
       "      <th>Hormonal Contraceptives</th>\n",
       "      <th>Hormonal Contraceptives (years)</th>\n",
       "      <th>IUD</th>\n",
       "      <th>...</th>\n",
       "      <th>STDs: Number of diagnosis</th>\n",
       "      <th>STDs: Time since first diagnosis</th>\n",
       "      <th>STDs: Time since last diagnosis</th>\n",
       "      <th>Dx:Cancer</th>\n",
       "      <th>Dx:CIN</th>\n",
       "      <th>Dx:HPV</th>\n",
       "      <th>Dx</th>\n",
       "      <th>Hinselmann</th>\n",
       "      <th>Schiller</th>\n",
       "      <th>Citology</th>\n",
       "    </tr>\n",
       "  </thead>\n",
       "  <tbody>\n",
       "    <tr>\n",
       "      <th>0</th>\n",
       "      <td>18</td>\n",
       "      <td>4.0</td>\n",
       "      <td>15.0</td>\n",
       "      <td>1.0</td>\n",
       "      <td>0.0</td>\n",
       "      <td>0.0</td>\n",
       "      <td>0.0</td>\n",
       "      <td>0.0</td>\n",
       "      <td>0.0</td>\n",
       "      <td>0.0</td>\n",
       "      <td>...</td>\n",
       "      <td>0</td>\n",
       "      <td>NaN</td>\n",
       "      <td>NaN</td>\n",
       "      <td>0</td>\n",
       "      <td>0</td>\n",
       "      <td>0</td>\n",
       "      <td>0</td>\n",
       "      <td>0</td>\n",
       "      <td>0</td>\n",
       "      <td>0</td>\n",
       "    </tr>\n",
       "    <tr>\n",
       "      <th>1</th>\n",
       "      <td>15</td>\n",
       "      <td>1.0</td>\n",
       "      <td>14.0</td>\n",
       "      <td>1.0</td>\n",
       "      <td>0.0</td>\n",
       "      <td>0.0</td>\n",
       "      <td>0.0</td>\n",
       "      <td>0.0</td>\n",
       "      <td>0.0</td>\n",
       "      <td>0.0</td>\n",
       "      <td>...</td>\n",
       "      <td>0</td>\n",
       "      <td>NaN</td>\n",
       "      <td>NaN</td>\n",
       "      <td>0</td>\n",
       "      <td>0</td>\n",
       "      <td>0</td>\n",
       "      <td>0</td>\n",
       "      <td>0</td>\n",
       "      <td>0</td>\n",
       "      <td>0</td>\n",
       "    </tr>\n",
       "    <tr>\n",
       "      <th>2</th>\n",
       "      <td>34</td>\n",
       "      <td>1.0</td>\n",
       "      <td>NaN</td>\n",
       "      <td>1.0</td>\n",
       "      <td>0.0</td>\n",
       "      <td>0.0</td>\n",
       "      <td>0.0</td>\n",
       "      <td>0.0</td>\n",
       "      <td>0.0</td>\n",
       "      <td>0.0</td>\n",
       "      <td>...</td>\n",
       "      <td>0</td>\n",
       "      <td>NaN</td>\n",
       "      <td>NaN</td>\n",
       "      <td>0</td>\n",
       "      <td>0</td>\n",
       "      <td>0</td>\n",
       "      <td>0</td>\n",
       "      <td>0</td>\n",
       "      <td>0</td>\n",
       "      <td>0</td>\n",
       "    </tr>\n",
       "    <tr>\n",
       "      <th>3</th>\n",
       "      <td>52</td>\n",
       "      <td>5.0</td>\n",
       "      <td>16.0</td>\n",
       "      <td>4.0</td>\n",
       "      <td>1.0</td>\n",
       "      <td>37.0</td>\n",
       "      <td>37.0</td>\n",
       "      <td>1.0</td>\n",
       "      <td>3.0</td>\n",
       "      <td>0.0</td>\n",
       "      <td>...</td>\n",
       "      <td>0</td>\n",
       "      <td>NaN</td>\n",
       "      <td>NaN</td>\n",
       "      <td>1</td>\n",
       "      <td>0</td>\n",
       "      <td>1</td>\n",
       "      <td>0</td>\n",
       "      <td>0</td>\n",
       "      <td>0</td>\n",
       "      <td>0</td>\n",
       "    </tr>\n",
       "    <tr>\n",
       "      <th>4</th>\n",
       "      <td>46</td>\n",
       "      <td>3.0</td>\n",
       "      <td>21.0</td>\n",
       "      <td>4.0</td>\n",
       "      <td>0.0</td>\n",
       "      <td>0.0</td>\n",
       "      <td>0.0</td>\n",
       "      <td>1.0</td>\n",
       "      <td>15.0</td>\n",
       "      <td>0.0</td>\n",
       "      <td>...</td>\n",
       "      <td>0</td>\n",
       "      <td>NaN</td>\n",
       "      <td>NaN</td>\n",
       "      <td>0</td>\n",
       "      <td>0</td>\n",
       "      <td>0</td>\n",
       "      <td>0</td>\n",
       "      <td>0</td>\n",
       "      <td>0</td>\n",
       "      <td>0</td>\n",
       "    </tr>\n",
       "  </tbody>\n",
       "</table>\n",
       "<p>5 rows × 35 columns</p>\n",
       "</div>"
      ],
      "text/plain": [
       "   Age  Number of sexual partners  First sexual intercourse  \\\n",
       "0   18                        4.0                      15.0   \n",
       "1   15                        1.0                      14.0   \n",
       "2   34                        1.0                       NaN   \n",
       "3   52                        5.0                      16.0   \n",
       "4   46                        3.0                      21.0   \n",
       "\n",
       "   Num of pregnancies  Smokes  Smokes (years)  Smokes (packs/year)  \\\n",
       "0                 1.0     0.0             0.0                  0.0   \n",
       "1                 1.0     0.0             0.0                  0.0   \n",
       "2                 1.0     0.0             0.0                  0.0   \n",
       "3                 4.0     1.0            37.0                 37.0   \n",
       "4                 4.0     0.0             0.0                  0.0   \n",
       "\n",
       "   Hormonal Contraceptives  Hormonal Contraceptives (years)  IUD  ...  \\\n",
       "0                      0.0                              0.0  0.0  ...   \n",
       "1                      0.0                              0.0  0.0  ...   \n",
       "2                      0.0                              0.0  0.0  ...   \n",
       "3                      1.0                              3.0  0.0  ...   \n",
       "4                      1.0                             15.0  0.0  ...   \n",
       "\n",
       "   STDs: Number of diagnosis  STDs: Time since first diagnosis  \\\n",
       "0                          0                               NaN   \n",
       "1                          0                               NaN   \n",
       "2                          0                               NaN   \n",
       "3                          0                               NaN   \n",
       "4                          0                               NaN   \n",
       "\n",
       "   STDs: Time since last diagnosis  Dx:Cancer  Dx:CIN  Dx:HPV  Dx  Hinselmann  \\\n",
       "0                              NaN          0       0       0   0           0   \n",
       "1                              NaN          0       0       0   0           0   \n",
       "2                              NaN          0       0       0   0           0   \n",
       "3                              NaN          1       0       1   0           0   \n",
       "4                              NaN          0       0       0   0           0   \n",
       "\n",
       "   Schiller  Citology  \n",
       "0         0         0  \n",
       "1         0         0  \n",
       "2         0         0  \n",
       "3         0         0  \n",
       "4         0         0  \n",
       "\n",
       "[5 rows x 35 columns]"
      ]
     },
     "execution_count": 7,
     "metadata": {},
     "output_type": "execute_result"
    }
   ],
   "source": [
    "cervical_data=pd.read_csv(cervical_data_dir)\n",
    "y_cervical = cervical_data[cervical_target]\n",
    "x_cervical = cervical_data.drop([cervical_target], axis=1)\n",
    "x_cervical.head()"
   ]
  },
  {
   "cell_type": "code",
   "execution_count": 8,
   "metadata": {},
   "outputs": [],
   "source": [
    "aml_cervical=PharmAutoML(x_cervical,y_cervical)"
   ]
  },
  {
   "cell_type": "code",
   "execution_count": 9,
   "metadata": {},
   "outputs": [
    {
     "name": "stdout",
     "output_type": "stream",
     "text": [
      "Preprocessing Step 1: Manually Drop Features\n",
      "manually drop 0 features.\n",
      "Preprocessing Step 2: Find Single Unique Features\n",
      "2 features with a single unique value.\n",
      "Preprocessing Step 4: Find Collinear Features by Pearson Correlations\n",
      "1 features with a correlation magnitude greater than 0.98.\n"
     ]
    },
    {
     "name": "stderr",
     "output_type": "stream",
     "text": [
      "Tight layout not applied. The left and right margins cannot be made large enough to accommodate all axes decorations. \n"
     ]
    },
    {
     "name": "stdout",
     "output_type": "stream",
     "text": [
      "Data Preprocessor Summary\n",
      "3 total features out of 35 identified for removal.\n",
      "{'drop_features': [], 'single_unique': ['STDs:cervical condylomatosis', 'STDs:AIDS'], 'collinear': ['STDs:vulvo-perineal condylomatosis']}\n",
      "0 total instances out of 858 identified for removal.\n",
      "{}\n",
      "imputation for training dataset\n",
      "0 categorical features are dropped due to high number of different values in categorical feature.\n",
      "[]\n",
      "for each preprocessing loop the allow missing classifier tuning record is\n",
      "0\n",
      "100%|██████████| 1/1 [00:01<00:00,  1.51s/trial, best loss: 0.06413994169096215]\n",
      "100%|██████████| 2/2 [00:12<00:00,  6.20s/trial, best loss: 0.05393586005830908]\n",
      "100%|██████████| 3/3 [00:20<00:00,  6.86s/trial, best loss: 0.03790087463556846]\n",
      "100%|██████████| 4/4 [00:19<00:00,  4.94s/trial, best loss: 0.03790087463556846]\n",
      "100%|██████████| 5/5 [00:15<00:00,  3.15s/trial, best loss: 0.03790087463556846]\n",
      "100%|██████████| 6/6 [00:01<00:00,  5.27trial/s, best loss: 0.03790087463556846]\n",
      "100%|██████████| 7/7 [00:18<00:00,  2.62s/trial, best loss: 0.03790087463556846]\n",
      "100%|██████████| 8/8 [00:16<00:00,  2.09s/trial, best loss: 0.03790087463556846]\n",
      "100%|██████████| 9/9 [00:17<00:00,  1.95s/trial, best loss: 0.03790087463556846]\n",
      "100%|██████████| 10/10 [00:22<00:00,  2.25s/trial, best loss: 0.03790087463556846]\n",
      "{'learner': XGBClassifier(base_score=0.5, booster=None,\n",
      "              colsample_bylevel=0.7346955628445081, colsample_bynode=None,\n",
      "              colsample_bytree=0.9934596080476179, gamma=2.29959795618305,\n",
      "              gpu_id=None, importance_type='gain', interaction_constraints=None,\n",
      "              learning_rate=0.0004329641943065416, max_delta_step=0,\n",
      "              max_depth=6, min_child_weight=6, missing=nan,\n",
      "              monotone_constraints=None, n_estimators=5400, n_jobs=None,\n",
      "              num_parallel_tree=None, objective='binary:logistic',\n",
      "              random_state=None, reg_alpha=0.0014198621551037396,\n",
      "              reg_lambda=1.4116890411561478, scale_pos_weight=1, seed=0,\n",
      "              subsample=0.6562778689634738, tree_method=None,\n",
      "              validate_parameters=False, verbosity=None), 'preprocs': (), 'ex_preprocs': ()}\n"
     ]
    },
    {
     "name": "stderr",
     "output_type": "stream",
     "text": [
      "Setting a random_state has no effect since shuffle is False. This will raise an error in 0.24. You should leave random_state to its default (None), or set shuffle=True.\n"
     ]
    },
    {
     "name": "stdout",
     "output_type": "stream",
     "text": [
      "#################################\n",
      "for preprocess strategy number\n",
      "0\n",
      "ROC AUCS\n",
      "{'XGboost': 0.8944173038799207}\n",
      "ROC AUC stdev\n",
      "{'XGboost': 0.059447212407274415}\n",
      "all metrics\n",
      "{'XGboost': {'acc': [0.9565217391304348, 0.9635036496350365, 0.9708029197080292, 0.9635036496350365, 0.9562043795620438], 'auroc': [0.9457364341085271, 0.945736434108527, 0.9418402777777777, 0.9835069444444444, 0.8268229166666667], 'auprc': [0.46671767154223287, 0.5627579365079365, 0.7608641975308643, 0.6883918550585217, 0.42015294515294516], 'f1': [0.7272727272727274, 0.7368421052631579, 0.7777777777777778, 0.782608695652174, 0.7000000000000001], 'sensitivity': [0.8888888888888888, 0.875, 0.7777777777777778, 1.0, 0.7777777777777778], 'precision': [0.6153846153846154, 0.6363636363636364, 0.7777777777777778, 0.6428571428571429, 0.6363636363636364]}}\n",
      "for para_index\n",
      "0\n",
      "['XGboost']\n",
      "[0]\n"
     ]
    },
    {
     "name": "stderr",
     "output_type": "stream",
     "text": [
      "Setting feature_perturbation = \"tree_path_dependent\" because no background data was given.\n",
      "Matplotlib is currently using agg, which is a non-GUI backend, so cannot show the figure.\n"
     ]
    },
    {
     "name": "stdout",
     "output_type": "stream",
     "text": [
      "each preprocessing loop\n",
      "0\n",
      "XGboost\n"
     ]
    },
    {
     "name": "stderr",
     "output_type": "stream",
     "text": [
      "Tight layout not applied. The left and right margins cannot be made large enough to accommodate all axes decorations. \n"
     ]
    },
    {
     "name": "stdout",
     "output_type": "stream",
     "text": [
      "0.9570863918690007\n"
     ]
    }
   ],
   "source": [
    "cervical_allowMissing_path = cervical_result_path+ '/resultAllowMissing'\n",
    "cervical_result_allowMissing = aml_cervical.AutoML_allowMissing(cervical_allowMissing_path, preprocessing_paras, classifier_paras)"
   ]
  },
  {
   "cell_type": "code",
   "execution_count": null,
   "metadata": {},
   "outputs": [],
   "source": []
  }
 ],
 "metadata": {
  "kernelspec": {
   "display_name": "autoMLenv",
   "language": "python",
   "name": "automlenv"
  },
  "language_info": {
   "codemirror_mode": {
    "name": "ipython",
    "version": 3
   },
   "file_extension": ".py",
   "mimetype": "text/x-python",
   "name": "python",
   "nbconvert_exporter": "python",
   "pygments_lexer": "ipython3",
   "version": "3.7.7"
  }
 },
 "nbformat": 4,
 "nbformat_minor": 4
}
