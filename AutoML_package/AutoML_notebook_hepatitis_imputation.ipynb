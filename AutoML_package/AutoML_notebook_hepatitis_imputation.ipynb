{
 "cells": [
  {
   "cell_type": "code",
   "execution_count": 1,
   "metadata": {},
   "outputs": [
    {
     "name": "stdout",
     "output_type": "stream",
     "text": [
      "/Users/liug28/Downloads/AutoML/AutoML_package\n"
     ]
    }
   ],
   "source": [
    "import os\n",
    "cwd = os.getcwd()\n",
    "import sys\n",
    "sys.path.append(cwd+\"/src_autoML/\")\n",
    "print (cwd)"
   ]
  },
  {
   "cell_type": "code",
   "execution_count": 2,
   "metadata": {},
   "outputs": [
    {
     "name": "stdout",
     "output_type": "stream",
     "text": [
      "WARN: OMP_NUM_THREADS=None =>\n",
      "... If you are using openblas if you are using openblas set OMP_NUM_THREADS=1 or risk subprocess calls hanging indefinitely\n"
     ]
    }
   ],
   "source": [
    "import pandas as pd\n",
    "import numpy as np\n",
    "from PharmAutoML import PharmAutoML"
   ]
  },
  {
   "cell_type": "code",
   "execution_count": 3,
   "metadata": {},
   "outputs": [],
   "source": [
    "categorical_features = []"
   ]
  },
  {
   "cell_type": "code",
   "execution_count": 4,
   "metadata": {},
   "outputs": [
    {
     "name": "stdout",
     "output_type": "stream",
     "text": [
      "{'drop_features': [[]], 'categorical_features': [[]], 'missing_threshold_rows': [0.2], 'missing_threshold_columns': [0.2], 'correlation_threshold': [0.98], 'check_diff_categorical_threshold': [0.1], 'add_nan_label': [False], 'impute_category_strategy': ['most_frequent'], 'impute_numerical_strategy': ['mean']}\n"
     ]
    }
   ],
   "source": [
    "preprocessing_paras = {}\n",
    "preprocessing_paras['drop_features']=[[]]\n",
    "preprocessing_paras['categorical_features']=[categorical_features]\n",
    "preprocessing_paras['missing_threshold_rows']=[0.2]\n",
    "preprocessing_paras['missing_threshold_columns']=[0.2]\n",
    "preprocessing_paras['correlation_threshold']=[0.98]\n",
    "preprocessing_paras['check_diff_categorical_threshold']=[0.1]\n",
    "preprocessing_paras['add_nan_label']=[False]\n",
    "preprocessing_paras['impute_category_strategy']=[\"most_frequent\"]\n",
    "preprocessing_paras['impute_numerical_strategy']=[\"mean\"]\n",
    "print (preprocessing_paras)"
   ]
  },
  {
   "cell_type": "code",
   "execution_count": 5,
   "metadata": {},
   "outputs": [
    {
     "name": "stdout",
     "output_type": "stream",
     "text": [
      "{'PCA_featureReduction_orNot': False, 'PCA_featureReduction_num': None, 'clfs': ['SVC', 'KNN', 'RF', 'ET', 'AB', 'GB', 'SGD', 'XGboost', 'LRC'], 'n_fold': 5, 'n_repeats': None, 'useDropColFeaImport': False}\n"
     ]
    }
   ],
   "source": [
    "classifier_paras = {}\n",
    "classifier_paras['PCA_featureReduction_orNot']=False\n",
    "classifier_paras['PCA_featureReduction_num']=None\n",
    "classifier_paras['clfs']=['SVC','KNN','RF','ET','AB','GB','SGD','XGboost','LRC']\n",
    "classifier_paras['n_fold']=5\n",
    "classifier_paras['n_repeats']=None\n",
    "classifier_paras['useDropColFeaImport']=False\n",
    "print (classifier_paras)"
   ]
  },
  {
   "cell_type": "markdown",
   "metadata": {},
   "source": [
    "## hepatitis dataset\n",
    "\n",
    "Numerical data with missings"
   ]
  },
  {
   "cell_type": "code",
   "execution_count": 6,
   "metadata": {},
   "outputs": [],
   "source": [
    "hepatitis_result_path=cwd+\"/src_autoML/examples/hepatitis_result\"\n",
    "hepatitis_data_dir=cwd+\"/src_autoML/examples/data/hepatitis.csv\"\n",
    "hepatitis_target = 'HISTOLOGY'"
   ]
  },
  {
   "cell_type": "code",
   "execution_count": 7,
   "metadata": {},
   "outputs": [
    {
     "data": {
      "text/html": [
       "<div>\n",
       "<style scoped>\n",
       "    .dataframe tbody tr th:only-of-type {\n",
       "        vertical-align: middle;\n",
       "    }\n",
       "\n",
       "    .dataframe tbody tr th {\n",
       "        vertical-align: top;\n",
       "    }\n",
       "\n",
       "    .dataframe thead th {\n",
       "        text-align: right;\n",
       "    }\n",
       "</style>\n",
       "<table border=\"1\" class=\"dataframe\">\n",
       "  <thead>\n",
       "    <tr style=\"text-align: right;\">\n",
       "      <th></th>\n",
       "      <th>Target</th>\n",
       "      <th>AGE</th>\n",
       "      <th>SEX</th>\n",
       "      <th>STEROID</th>\n",
       "      <th>ANTIVIRALS</th>\n",
       "      <th>FATIGUE</th>\n",
       "      <th>MALAISE</th>\n",
       "      <th>ANOREXIA</th>\n",
       "      <th>LIVER BIG</th>\n",
       "      <th>LIVER FIRM</th>\n",
       "      <th>SPLEEN PALPABLE</th>\n",
       "      <th>SPIDERS</th>\n",
       "      <th>ASCITES</th>\n",
       "      <th>VARICES</th>\n",
       "      <th>BILIRUBIN</th>\n",
       "      <th>ALK PHOSPHATE</th>\n",
       "      <th>SGOT</th>\n",
       "      <th>ALBUMIN</th>\n",
       "      <th>PROTIME</th>\n",
       "    </tr>\n",
       "  </thead>\n",
       "  <tbody>\n",
       "    <tr>\n",
       "      <th>0</th>\n",
       "      <td>2</td>\n",
       "      <td>30</td>\n",
       "      <td>1</td>\n",
       "      <td>0.0</td>\n",
       "      <td>1</td>\n",
       "      <td>1.0</td>\n",
       "      <td>1.0</td>\n",
       "      <td>1.0</td>\n",
       "      <td>0.0</td>\n",
       "      <td>1.0</td>\n",
       "      <td>1.0</td>\n",
       "      <td>1.0</td>\n",
       "      <td>1.0</td>\n",
       "      <td>1.0</td>\n",
       "      <td>1.0</td>\n",
       "      <td>85.0</td>\n",
       "      <td>18.0</td>\n",
       "      <td>4.0</td>\n",
       "      <td>NaN</td>\n",
       "    </tr>\n",
       "    <tr>\n",
       "      <th>1</th>\n",
       "      <td>2</td>\n",
       "      <td>50</td>\n",
       "      <td>0</td>\n",
       "      <td>0.0</td>\n",
       "      <td>1</td>\n",
       "      <td>0.0</td>\n",
       "      <td>1.0</td>\n",
       "      <td>1.0</td>\n",
       "      <td>0.0</td>\n",
       "      <td>1.0</td>\n",
       "      <td>1.0</td>\n",
       "      <td>1.0</td>\n",
       "      <td>1.0</td>\n",
       "      <td>1.0</td>\n",
       "      <td>0.9</td>\n",
       "      <td>135.0</td>\n",
       "      <td>42.0</td>\n",
       "      <td>3.5</td>\n",
       "      <td>NaN</td>\n",
       "    </tr>\n",
       "    <tr>\n",
       "      <th>2</th>\n",
       "      <td>2</td>\n",
       "      <td>78</td>\n",
       "      <td>0</td>\n",
       "      <td>1.0</td>\n",
       "      <td>1</td>\n",
       "      <td>0.0</td>\n",
       "      <td>1.0</td>\n",
       "      <td>1.0</td>\n",
       "      <td>1.0</td>\n",
       "      <td>1.0</td>\n",
       "      <td>1.0</td>\n",
       "      <td>1.0</td>\n",
       "      <td>1.0</td>\n",
       "      <td>1.0</td>\n",
       "      <td>0.7</td>\n",
       "      <td>96.0</td>\n",
       "      <td>32.0</td>\n",
       "      <td>4.0</td>\n",
       "      <td>NaN</td>\n",
       "    </tr>\n",
       "    <tr>\n",
       "      <th>3</th>\n",
       "      <td>2</td>\n",
       "      <td>31</td>\n",
       "      <td>0</td>\n",
       "      <td>NaN</td>\n",
       "      <td>0</td>\n",
       "      <td>1.0</td>\n",
       "      <td>1.0</td>\n",
       "      <td>1.0</td>\n",
       "      <td>1.0</td>\n",
       "      <td>1.0</td>\n",
       "      <td>1.0</td>\n",
       "      <td>1.0</td>\n",
       "      <td>1.0</td>\n",
       "      <td>1.0</td>\n",
       "      <td>0.7</td>\n",
       "      <td>46.0</td>\n",
       "      <td>52.0</td>\n",
       "      <td>4.0</td>\n",
       "      <td>80.0</td>\n",
       "    </tr>\n",
       "    <tr>\n",
       "      <th>4</th>\n",
       "      <td>2</td>\n",
       "      <td>34</td>\n",
       "      <td>0</td>\n",
       "      <td>1.0</td>\n",
       "      <td>1</td>\n",
       "      <td>1.0</td>\n",
       "      <td>1.0</td>\n",
       "      <td>1.0</td>\n",
       "      <td>1.0</td>\n",
       "      <td>1.0</td>\n",
       "      <td>1.0</td>\n",
       "      <td>1.0</td>\n",
       "      <td>1.0</td>\n",
       "      <td>1.0</td>\n",
       "      <td>1.0</td>\n",
       "      <td>NaN</td>\n",
       "      <td>200.0</td>\n",
       "      <td>4.0</td>\n",
       "      <td>NaN</td>\n",
       "    </tr>\n",
       "  </tbody>\n",
       "</table>\n",
       "</div>"
      ],
      "text/plain": [
       "   Target  AGE  SEX  STEROID  ANTIVIRALS  FATIGUE  MALAISE  ANOREXIA  \\\n",
       "0       2   30    1      0.0           1      1.0      1.0       1.0   \n",
       "1       2   50    0      0.0           1      0.0      1.0       1.0   \n",
       "2       2   78    0      1.0           1      0.0      1.0       1.0   \n",
       "3       2   31    0      NaN           0      1.0      1.0       1.0   \n",
       "4       2   34    0      1.0           1      1.0      1.0       1.0   \n",
       "\n",
       "   LIVER BIG  LIVER FIRM  SPLEEN PALPABLE  SPIDERS  ASCITES  VARICES  \\\n",
       "0        0.0         1.0              1.0      1.0      1.0      1.0   \n",
       "1        0.0         1.0              1.0      1.0      1.0      1.0   \n",
       "2        1.0         1.0              1.0      1.0      1.0      1.0   \n",
       "3        1.0         1.0              1.0      1.0      1.0      1.0   \n",
       "4        1.0         1.0              1.0      1.0      1.0      1.0   \n",
       "\n",
       "   BILIRUBIN  ALK PHOSPHATE   SGOT  ALBUMIN  PROTIME  \n",
       "0        1.0           85.0   18.0      4.0      NaN  \n",
       "1        0.9          135.0   42.0      3.5      NaN  \n",
       "2        0.7           96.0   32.0      4.0      NaN  \n",
       "3        0.7           46.0   52.0      4.0     80.0  \n",
       "4        1.0            NaN  200.0      4.0      NaN  "
      ]
     },
     "execution_count": 7,
     "metadata": {},
     "output_type": "execute_result"
    }
   ],
   "source": [
    "hepatitis_data=pd.read_csv(hepatitis_data_dir)\n",
    "y_hepatitis = hepatitis_data[hepatitis_target]\n",
    "x_hepatitis = hepatitis_data.drop([hepatitis_target], axis=1)\n",
    "x_hepatitis.head()"
   ]
  },
  {
   "cell_type": "code",
   "execution_count": 8,
   "metadata": {},
   "outputs": [],
   "source": [
    "aml_hepatitis=PharmAutoML(x_hepatitis,y_hepatitis)"
   ]
  },
  {
   "cell_type": "code",
   "execution_count": 9,
   "metadata": {},
   "outputs": [
    {
     "name": "stdout",
     "output_type": "stream",
     "text": [
      "preprocessing parameter dictionary is\n",
      "{'drop_features': [[]], 'categorical_features': [[]], 'missing_threshold_rows': [0.2], 'missing_threshold_columns': [0.2], 'correlation_threshold': [0.98], 'check_diff_categorical_threshold': [0.1], 'add_nan_label': [False], 'impute_category_strategy': ['most_frequent'], 'impute_numerical_strategy': ['mean']}\n",
      "parameter grid is\n",
      "[{'add_nan_label': False, 'categorical_features': [], 'check_diff_categorical_threshold': 0.1, 'correlation_threshold': 0.98, 'drop_features': [], 'impute_category_strategy': 'most_frequent', 'impute_numerical_strategy': 'mean', 'missing_threshold_columns': 0.2, 'missing_threshold_rows': 0.2}]\n",
      "param\n",
      "{'add_nan_label': False, 'categorical_features': [], 'check_diff_categorical_threshold': 0.1, 'correlation_threshold': 0.98, 'drop_features': [], 'impute_category_strategy': 'most_frequent', 'impute_numerical_strategy': 'mean', 'missing_threshold_columns': 0.2, 'missing_threshold_rows': 0.2}\n",
      "Preprocessing Step 1: Manually Drop Features\n",
      "manually drop 0 features.\n",
      "Preprocessing Step 2: Find Single Unique Features\n",
      "0 features with a single unique value.\n",
      "Preprocessing Step 3: Find Missing\n",
      "14 instances have more than 0.20 fraction of missing values.\n",
      "Preprocessing Step 3: Find Missing\n",
      "1 features have more than 0.20 fraction of missing values.\n",
      "Preprocessing Step 4: Find Collinear Features by Pearson Correlations\n",
      "0 features with a correlation magnitude greater than 0.98.\n",
      "Data Preprocessor Summary\n",
      "1 total features out of 19 identified for removal.\n",
      "{'drop_features': [], 'single_unique': [], 'missing_features': ['PROTIME'], 'collinear': []}\n",
      "14 total instances out of 155 identified for removal.\n",
      "{'missing_instances': [6, 7, 14, 31, 41, 44, 56, 72, 83, 92, 99, 118, 126, 147]}\n",
      "imputation for training dataset\n",
      "0 categorical features are dropped due to high number of different values in categorical feature.\n",
      "[]\n",
      "the imputed numerical features includeSTEROID, LIVER BIG, LIVER FIRM, ALK PHOSPHATE, ALBUMIN, PROTIME\n",
      "data imputation summary\n",
      "{'categorical': [], 'numerical': ['STEROID', 'LIVER BIG', 'LIVER FIRM', 'ALK PHOSPHATE', 'ALBUMIN', 'PROTIME']}\n",
      "for each preprocessing loop the classifier tuning record is\n",
      "0\n",
      "100%|██████████| 1/1 [00:00<00:00, 37.39trial/s, best loss: 0.3214285714285714]\n",
      "100%|██████████| 2/2 [00:00<00:00, 63.77trial/s, best loss: 0.3035714285714286]\n",
      "100%|██████████| 3/3 [00:00<00:00, 98.79trial/s, best loss: 0.2678571428571429]\n",
      "100%|██████████| 4/4 [00:00<00:00, 132.70trial/s, best loss: 0.2678571428571429]\n",
      "100%|██████████| 5/5 [00:00<00:00, 159.67trial/s, best loss: 0.2678571428571429]\n",
      "100%|██████████| 6/6 [00:00<00:00, 196.07trial/s, best loss: 0.2678571428571429]\n",
      "100%|██████████| 7/7 [00:00<00:00, 206.96trial/s, best loss: 0.2678571428571429]\n",
      "100%|██████████| 8/8 [00:00<00:00, 255.67trial/s, best loss: 0.2678571428571429]\n",
      "100%|██████████| 9/9 [00:00<00:00, 297.44trial/s, best loss: 0.2589285714285714]\n",
      "100%|██████████| 10/10 [00:00<00:00, 303.44trial/s, best loss: 0.2589285714285714]\n",
      "{'learner': LogisticRegression(C=0.07508196537031506, class_weight=None, dual=False,\n",
      "                   fit_intercept=True, intercept_scaling=1.4002667262439894,\n",
      "                   l1_ratio=None, max_iter=100, multi_class='auto', n_jobs=None,\n",
      "                   penalty='l2', random_state=0, solver='liblinear',\n",
      "                   tol=7.706580602762088e-05, verbose=0, warm_start=False), 'preprocs': (StandardScaler(copy=True, with_mean=False, with_std=False),), 'ex_preprocs': ()}\n",
      "100%|██████████| 1/1 [00:00<00:00,  3.97trial/s, best loss: 0.2767857142857143]\n",
      " 50%|█████     | 1/2 [00:00<?, ?trial/s, best loss=?]"
     ]
    },
    {
     "name": "stderr",
     "output_type": "stream",
     "text": [
      "Solver terminated early (max_iter=15100163).  Consider pre-processing your data with StandardScaler or MinMaxScaler.\n",
      "\n",
      "Solver terminated early (max_iter=15100163).  Consider pre-processing your data with StandardScaler or MinMaxScaler.\n",
      "\n",
      "Solver terminated early (max_iter=15100163).  Consider pre-processing your data with StandardScaler or MinMaxScaler.\n",
      "\n",
      "Solver terminated early (max_iter=15100163).  Consider pre-processing your data with StandardScaler or MinMaxScaler.\n",
      "\n",
      "Solver terminated early (max_iter=15100163).  Consider pre-processing your data with StandardScaler or MinMaxScaler.\n",
      "\n"
     ]
    },
    {
     "name": "stdout",
     "output_type": "stream",
     "text": [
      "100%|██████████| 2/2 [01:11<00:00, 35.84s/trial, best loss: 0.2767857142857143]\n",
      "100%|██████████| 3/3 [00:00<00:00, 17.20trial/s, best loss: 0.2767857142857143]\n",
      "100%|██████████| 4/4 [00:13<00:00,  3.29s/trial, best loss: 0.2767857142857143]\n",
      "100%|██████████| 5/5 [00:00<00:00, 110.73trial/s, best loss: 0.2767857142857143]\n",
      "100%|██████████| 6/6 [00:00<00:00, 157.87trial/s, best loss: 0.2767857142857143]\n",
      "100%|██████████| 7/7 [00:00<00:00, 181.99trial/s, best loss: 0.2767857142857143]\n",
      "100%|██████████| 8/8 [00:00<00:00, 81.49trial/s, best loss: 0.2767857142857143]\n",
      "100%|██████████| 9/9 [00:00<00:00, 138.27trial/s, best loss: 0.2767857142857143]\n",
      "100%|██████████| 10/10 [00:10<00:00,  1.07s/trial, best loss: 0.2767857142857143]\n",
      "{'learner': SVC(C=0.025700068963917945, break_ties=False, cache_size=512, class_weight=None,\n",
      "    coef0=0.0, decision_function_shape='ovr', degree=1, gamma='auto',\n",
      "    kernel='linear', max_iter=156152107.0, probability=True, random_state=0,\n",
      "    shrinking=False, tol=0.006596447831451691, verbose=False), 'preprocs': (StandardScaler(copy=True, with_mean=False, with_std=False),), 'ex_preprocs': ()}\n",
      "100%|██████████| 1/1 [00:00<00:00, 34.78trial/s, best loss: 0.3571428571428571]\n",
      "100%|██████████| 2/2 [00:00<00:00, 68.79trial/s, best loss: 0.3571428571428571]\n",
      "100%|██████████| 3/3 [00:00<00:00, 94.89trial/s, best loss: 0.3035714285714286]\n",
      "100%|██████████| 4/4 [00:00<00:00, 140.95trial/s, best loss: 0.3035714285714286]\n",
      "100%|██████████| 5/5 [00:00<00:00, 160.06trial/s, best loss: 0.3035714285714286]\n",
      "100%|██████████| 6/6 [00:00<00:00, 186.10trial/s, best loss: 0.3035714285714286]\n",
      "100%|██████████| 7/7 [00:00<00:00, 231.32trial/s, best loss: 0.3035714285714286]\n",
      "100%|██████████| 8/8 [00:00<00:00, 274.62trial/s, best loss: 0.3035714285714286]\n",
      "100%|██████████| 9/9 [00:00<00:00, 281.94trial/s, best loss: 0.3035714285714286]\n",
      "100%|██████████| 10/10 [00:00<00:00, 319.70trial/s, best loss: 0.3035714285714286]\n",
      "{'learner': KNeighborsClassifier(algorithm='auto', leaf_size=30, metric='minkowski',\n",
      "                     metric_params=None, n_jobs=1, n_neighbors=18, p=3.0,\n",
      "                     weights='distance'), 'preprocs': (StandardScaler(copy=True, with_mean=False, with_std=True),), 'ex_preprocs': ()}\n",
      "100%|██████████| 1/1 [00:04<00:00,  4.64s/trial, best loss: 0.375]\n",
      "100%|██████████| 2/2 [00:07<00:00,  3.54s/trial, best loss: 0.3482142857142857]\n",
      "100%|██████████| 3/3 [00:10<00:00,  3.57s/trial, best loss: 0.3125]\n",
      "100%|██████████| 4/4 [00:00<00:00, 36.51trial/s, best loss: 0.3035714285714286]\n",
      "100%|██████████| 5/5 [00:09<00:00,  1.87s/trial, best loss: 0.2678571428571429]\n",
      "100%|██████████| 6/6 [00:02<00:00,  2.35trial/s, best loss: 0.2678571428571429]\n",
      "100%|██████████| 7/7 [00:05<00:00,  1.20trial/s, best loss: 0.2678571428571429]\n",
      "100%|██████████| 8/8 [00:00<00:00, 13.93trial/s, best loss: 0.2678571428571429]\n",
      "100%|██████████| 9/9 [00:03<00:00,  2.80trial/s, best loss: 0.2678571428571429]\n",
      "100%|██████████| 10/10 [00:00<00:00, 16.36trial/s, best loss: 0.2678571428571429]\n",
      "{'learner': RandomForestClassifier(bootstrap=False, ccp_alpha=0.0, class_weight=None,\n",
      "                       criterion='entropy', max_depth=2, max_features='log2',\n",
      "                       max_leaf_nodes=None, max_samples=None,\n",
      "                       min_impurity_decrease=0.0, min_impurity_split=None,\n",
      "                       min_samples_leaf=10, min_samples_split=2,\n",
      "                       min_weight_fraction_leaf=0.0, n_estimators=1347,\n",
      "                       n_jobs=1, oob_score=False, random_state=0, verbose=False,\n",
      "                       warm_start=False), 'preprocs': (StandardScaler(copy=True, with_mean=False, with_std=True),), 'ex_preprocs': ()}\n",
      "100%|██████████| 1/1 [00:00<00:00,  3.50trial/s, best loss: 0.2857142857142857]\n",
      "100%|██████████| 2/2 [00:00<00:00,  5.99trial/s, best loss: 0.2857142857142857]\n",
      "100%|██████████| 3/3 [00:10<00:00,  3.50s/trial, best loss: 0.2857142857142857]\n",
      "100%|██████████| 4/4 [00:00<00:00,  4.54trial/s, best loss: 0.2857142857142857]\n",
      "100%|██████████| 5/5 [00:01<00:00,  4.51trial/s, best loss: 0.2857142857142857]\n",
      "100%|██████████| 6/6 [00:00<00:00,  9.21trial/s, best loss: 0.2857142857142857]\n",
      "100%|██████████| 7/7 [00:00<00:00,  7.62trial/s, best loss: 0.2857142857142857]\n",
      "100%|██████████| 8/8 [00:00<00:00, 11.57trial/s, best loss: 0.2857142857142857]\n",
      "100%|██████████| 9/9 [00:00<00:00, 42.64trial/s, best loss: 0.2857142857142857]\n",
      "100%|██████████| 10/10 [00:06<00:00,  1.63trial/s, best loss: 0.2678571428571429]\n",
      "{'learner': ExtraTreesClassifier(bootstrap=False, ccp_alpha=0.0, class_weight=None,\n",
      "                     criterion='entropy', max_depth=2, max_features='sqrt',\n",
      "                     max_leaf_nodes=None, max_samples=None,\n",
      "                     min_impurity_decrease=0.0, min_impurity_split=None,\n",
      "                     min_samples_leaf=1, min_samples_split=2,\n",
      "                     min_weight_fraction_leaf=0.0, n_estimators=976, n_jobs=1,\n",
      "                     oob_score=False, random_state=0, verbose=False,\n",
      "                     warm_start=False), 'preprocs': (StandardScaler(copy=True, with_mean=False, with_std=False),), 'ex_preprocs': ()}\n",
      "100%|██████████| 1/1 [00:06<00:00,  6.84s/trial, best loss: 0.3571428571428571]\n",
      "100%|██████████| 2/2 [00:00<00:00,  7.43trial/s, best loss: 0.3392857142857143]\n",
      "100%|██████████| 3/3 [00:01<00:00,  1.76trial/s, best loss: 0.3125]\n",
      "100%|██████████| 4/4 [00:01<00:00,  3.04trial/s, best loss: 0.3125]\n",
      "100%|██████████| 5/5 [00:00<00:00, 33.80trial/s, best loss: 0.3125]\n",
      "100%|██████████| 6/6 [00:00<00:00, 44.14trial/s, best loss: 0.3125]\n",
      "100%|██████████| 7/7 [00:00<00:00, 25.79trial/s, best loss: 0.3125]\n",
      "100%|██████████| 8/8 [00:00<00:00, 51.86trial/s, best loss: 0.2946428571428571]\n",
      "100%|██████████| 9/9 [00:00<00:00, 57.72trial/s, best loss: 0.2946428571428571]\n",
      "100%|██████████| 10/10 [00:07<00:00,  1.26trial/s, best loss: 0.2946428571428571]\n",
      "{'learner': AdaBoostClassifier(algorithm='SAMME.R', base_estimator=None,\n",
      "                   learning_rate=0.2595058730026316, n_estimators=13,\n",
      "                   random_state=0), 'preprocs': (StandardScaler(copy=True, with_mean=True, with_std=False),), 'ex_preprocs': ()}\n",
      "100%|██████████| 1/1 [00:00<00:00,  4.97trial/s, best loss: 0.4553571428571429]\n",
      "100%|██████████| 2/2 [00:03<00:00,  1.83s/trial, best loss: 0.4017857142857143]\n",
      "100%|██████████| 3/3 [00:00<00:00, 33.24trial/s, best loss: 0.4017857142857143]\n",
      "100%|██████████| 4/4 [00:00<00:00,  8.39trial/s, best loss: 0.3125]\n",
      "100%|██████████| 5/5 [00:01<00:00,  2.62trial/s, best loss: 0.3125]\n",
      "100%|██████████| 6/6 [00:00<00:00, 32.42trial/s, best loss: 0.3125]\n",
      "100%|██████████| 7/7 [00:01<00:00,  4.87trial/s, best loss: 0.3125]\n",
      "100%|██████████| 8/8 [00:02<00:00,  3.36trial/s, best loss: 0.3125]\n",
      "100%|██████████| 9/9 [00:00<00:00, 14.16trial/s, best loss: 0.3125]\n",
      "100%|██████████| 10/10 [00:01<00:00,  9.93trial/s, best loss: 0.3125]\n",
      "{'learner': GradientBoostingClassifier(ccp_alpha=0.0, criterion='friedman_mse', init=None,\n",
      "                           learning_rate=0.046524512005420765, loss='deviance',\n",
      "                           max_depth=None, max_features=0.3225925385122097,\n",
      "                           max_leaf_nodes=None, min_impurity_decrease=0.0,\n",
      "                           min_impurity_split=None, min_samples_leaf=3,\n",
      "                           min_samples_split=2, min_weight_fraction_leaf=0.0,\n",
      "                           n_estimators=67, n_iter_no_change=None,\n",
      "                           presort='deprecated', random_state=0,\n",
      "                           subsample=0.8057598850259116, tol=0.0001,\n",
      "                           validation_fraction=0.1, verbose=0,\n",
      "                           warm_start=False), 'preprocs': (StandardScaler(copy=True, with_mean=False, with_std=False),), 'ex_preprocs': ()}\n",
      "100%|██████████| 1/1 [00:00<00:00,  8.56trial/s, best loss: 0.2946428571428571]\n",
      "100%|██████████| 2/2 [00:00<00:00, 45.42trial/s, best loss: 0.2946428571428571]\n",
      "100%|██████████| 3/3 [00:00<00:00, 60.35trial/s, best loss: 0.2946428571428571]\n",
      "100%|██████████| 4/4 [00:00<00:00, 85.76trial/s, best loss: 0.2857142857142857]\n",
      "100%|██████████| 5/5 [00:00<00:00, 117.01trial/s, best loss: 0.2857142857142857]\n",
      "100%|██████████| 6/6 [00:00<00:00, 134.57trial/s, best loss: 0.2857142857142857]\n",
      "100%|██████████| 7/7 [00:00<00:00, 151.72trial/s, best loss: 0.2857142857142857]\n",
      "100%|██████████| 8/8 [00:00<00:00, 177.77trial/s, best loss: 0.2857142857142857]\n",
      "100%|██████████| 9/9 [00:00<00:00, 196.68trial/s, best loss: 0.2857142857142857]\n",
      "100%|██████████| 10/10 [00:00<00:00, 218.34trial/s, best loss: 0.2857142857142857]\n",
      "{'learner': SGDClassifier(alpha=1.5716840731182556e-06, average=False, class_weight=None,\n",
      "              early_stopping=False, epsilon=0.1, eta0=0.08848356950243808,\n",
      "              fit_intercept=True, l1_ratio=0.40706957683941536,\n",
      "              learning_rate='constant', loss='log', max_iter=98663907.0,\n",
      "              n_iter_no_change=5, n_jobs=1, penalty='l1',\n",
      "              power_t=0.19627813838304842, random_state=0, shuffle=True,\n",
      "              tol=2.6767280572938306e-05, validation_fraction=0.1,\n",
      "              verbose=False, warm_start=False), 'preprocs': (StandardScaler(copy=True, with_mean=False, with_std=True),), 'ex_preprocs': ()}\n",
      "100%|██████████| 1/1 [00:12<00:00, 12.91s/trial, best loss: 0.4553571428571429]\n",
      "100%|██████████| 2/2 [00:15<00:00,  7.84s/trial, best loss: 0.375]\n",
      "100%|██████████| 3/3 [00:51<00:00, 17.25s/trial, best loss: 0.3214285714285714]\n",
      "100%|██████████| 4/4 [00:07<00:00,  1.79s/trial, best loss: 0.3214285714285714]\n",
      "100%|██████████| 5/5 [00:43<00:00,  8.64s/trial, best loss: 0.3125]\n",
      "100%|██████████| 6/6 [00:02<00:00,  2.15trial/s, best loss: 0.3125]\n",
      "100%|██████████| 7/7 [00:28<00:00,  4.10s/trial, best loss: 0.3125]\n",
      "100%|██████████| 8/8 [00:04<00:00,  1.61trial/s, best loss: 0.3125]\n",
      "100%|██████████| 9/9 [00:15<00:00,  1.73s/trial, best loss: 0.3125]\n",
      "100%|██████████| 10/10 [00:10<00:00,  1.08s/trial, best loss: 0.3125]\n",
      "{'learner': XGBClassifier(base_score=0.5, booster=None,\n",
      "              colsample_bylevel=0.5234445187475831, colsample_bynode=None,\n",
      "              colsample_bytree=0.8690625460682542, gamma=0.0011307319092497751,\n",
      "              gpu_id=None, importance_type='gain', interaction_constraints=None,\n",
      "              learning_rate=0.01582969629194029, max_delta_step=0, max_depth=10,\n",
      "              min_child_weight=2, missing=nan, monotone_constraints=None,\n",
      "              n_estimators=5800, n_jobs=None, num_parallel_tree=None,\n",
      "              objective='binary:logistic', random_state=None,\n",
      "              reg_alpha=4.191502248974915e-05, reg_lambda=7.495192819887037,\n",
      "              scale_pos_weight=1, seed=0, subsample=0.7153369102632094,\n",
      "              tree_method=None, validate_parameters=False, verbosity=None), 'preprocs': (StandardScaler(copy=True, with_mean=True, with_std=True),), 'ex_preprocs': ()}\n"
     ]
    },
    {
     "name": "stderr",
     "output_type": "stream",
     "text": [
      "Setting a random_state has no effect since shuffle is False. This will raise an error in 0.24. You should leave random_state to its default (None), or set shuffle=True.\n",
      "Setting a random_state has no effect since shuffle is False. This will raise an error in 0.24. You should leave random_state to its default (None), or set shuffle=True.\n",
      "Setting a random_state has no effect since shuffle is False. This will raise an error in 0.24. You should leave random_state to its default (None), or set shuffle=True.\n",
      "Setting a random_state has no effect since shuffle is False. This will raise an error in 0.24. You should leave random_state to its default (None), or set shuffle=True.\n",
      "Setting a random_state has no effect since shuffle is False. This will raise an error in 0.24. You should leave random_state to its default (None), or set shuffle=True.\n",
      "Setting a random_state has no effect since shuffle is False. This will raise an error in 0.24. You should leave random_state to its default (None), or set shuffle=True.\n",
      "Setting a random_state has no effect since shuffle is False. This will raise an error in 0.24. You should leave random_state to its default (None), or set shuffle=True.\n",
      "Setting a random_state has no effect since shuffle is False. This will raise an error in 0.24. You should leave random_state to its default (None), or set shuffle=True.\n",
      "Setting a random_state has no effect since shuffle is False. This will raise an error in 0.24. You should leave random_state to its default (None), or set shuffle=True.\n"
     ]
    },
    {
     "name": "stdout",
     "output_type": "stream",
     "text": [
      "#################################\n",
      "for preprocess strategy number\n",
      "0\n",
      "ROC AUCS\n",
      "{'SVC': 0.7369013179042108, 'KNN': 0.7630986820957891, 'RF': 0.7090967534554805, 'ET': 0.7386692381870781, 'AB': 0.6395049823207971, 'GB': 0.6808100289296045, 'SGD': 0.7148826743812279, 'XGboost': 0.6898103503696561, 'LRC': 0.7422050787528126}\n",
      "ROC AUC stdev\n",
      "{'SVC': 0.10307998800686007, 'KNN': 0.11239376199551555, 'RF': 0.06927463821648183, 'ET': 0.09787938880812284, 'AB': 0.10739407940855504, 'GB': 0.09769073886953449, 'SGD': 0.0771467508977936, 'XGboost': 0.0746759912762769, 'LRC': 0.09320158186316957}\n",
      "all metrics\n",
      "{'SVC': {'acc': [0.8695652173913043, 0.6521739130434783, 0.5454545454545454, 0.6363636363636364, 0.6818181818181818], 'auroc': [0.9423076923076923, 0.7727272727272727, 0.6583333333333333, 0.7583333333333333, 0.75], 'auprc': [0.9123595848595848, 0.7126443001443002, 0.6770976684134579, 0.6625627069009422, 0.671421261487051], 'f1': [0.8695652173913044, 0.6666666666666667, 0.5, 0.5, 0.588235294117647], 'sensitivity': [1.0, 0.7272727272727273, 0.5, 0.4, 0.5], 'precision': [0.7692307692307693, 0.6153846153846154, 0.5, 0.6666666666666666, 0.7142857142857143]}, 'KNN': {'acc': [0.6956521739130435, 0.782608695652174, 0.7272727272727273, 0.5909090909090909, 0.6363636363636364], 'auroc': [0.7923076923076923, 0.8863636363636364, 0.7333333333333334, 0.5833333333333333, 0.8], 'auprc': [0.8144895382395381, 0.860947385947386, 0.780548245614035, 0.5744272445820433, 0.69255328005328], 'f1': [0.631578947368421, 0.761904761904762, 0.625, 0.30769230769230765, 0.5], 'sensitivity': [0.6, 0.7272727272727273, 0.5, 0.2, 0.4], 'precision': [0.6666666666666666, 0.8, 0.8333333333333334, 0.6666666666666666, 0.6666666666666666]}, 'RF': {'acc': [0.6521739130434783, 0.8260869565217391, 0.5909090909090909, 0.6363636363636364, 0.5909090909090909], 'auroc': [0.7769230769230769, 0.856060606060606, 0.6833333333333333, 0.7000000000000001, 0.7333333333333333], 'auprc': [0.8067632316084328, 0.8598290598290599, 0.713363254392666, 0.6679129204129204, 0.6328083028083028], 'f1': [0.6363636363636365, 0.8333333333333333, 0.4, 0.4285714285714285, 0.4], 'sensitivity': [0.7, 0.9090909090909091, 0.3, 0.3, 0.3], 'precision': [0.5833333333333334, 0.7692307692307693, 0.6, 0.75, 0.6]}, 'ET': {'acc': [0.4782608695652174, 0.8260869565217391, 0.7272727272727273, 0.6363636363636364, 0.6363636363636364], 'auroc': [0.7307692307692307, 0.9166666666666667, 0.7666666666666667, 0.65, 0.8], 'auprc': [0.7972268907563025, 0.9192279942279944, 0.8111588360040373, 0.6119605394605395, 0.6893253968253967], 'f1': [0.5, 0.7999999999999999, 0.625, 0.4285714285714285, 0.5], 'sensitivity': [0.6, 0.7272727272727273, 0.5, 0.3, 0.4], 'precision': [0.42857142857142855, 0.8888888888888888, 0.8333333333333334, 0.75, 0.6666666666666666]}, 'AB': {'acc': [0.6521739130434783, 0.6956521739130435, 0.5454545454545454, 0.6363636363636364, 0.6363636363636364], 'auroc': [0.75, 0.8295454545454546, 0.65, 0.5791666666666666, 0.5916666666666667], 'auprc': [0.7495238095238095, 0.7646565555656465, 0.6872619047619047, 0.571068376068376, 0.5558333333333334], 'f1': [0.6666666666666666, 0.7407407407407406, 0.37499999999999994, 0.4285714285714285, 0.5], 'sensitivity': [0.8, 0.9090909090909091, 0.3, 0.3, 0.4], 'precision': [0.5714285714285714, 0.625, 0.5, 0.75, 0.6666666666666666]}, 'GB': {'acc': [0.6086956521739131, 0.8260869565217391, 0.6363636363636364, 0.5909090909090909, 0.5909090909090909], 'auroc': [0.7307692307692308, 0.893939393939394, 0.6416666666666666, 0.675, 0.7083333333333334], 'auprc': [0.7288519761971775, 0.8672484081574992, 0.6585730446024562, 0.6364909600203719, 0.6229273504273505], 'f1': [0.64, 0.8181818181818182, 0.5555555555555556, 0.30769230769230765, 0.47058823529411764], 'sensitivity': [0.8, 0.8181818181818182, 0.5, 0.2, 0.4], 'precision': [0.5333333333333333, 0.8181818181818182, 0.625, 0.6666666666666666, 0.5714285714285714]}, 'SGD': {'acc': [0.6521739130434783, 0.6956521739130435, 0.6363636363636364, 0.7272727272727273, 0.5454545454545454], 'auroc': [0.7076923076923076, 0.8712121212121213, 0.7416666666666667, 0.6833333333333333, 0.6916666666666667], 'auprc': [0.6214141414141414, 0.8485504394595305, 0.7920075757575757, 0.6924908424908425, 0.6696398046398047], 'f1': [0.6923076923076923, 0.7586206896551725, 0.6666666666666666, 0.625, 0.6666666666666666], 'sensitivity': [0.9, 1.0, 0.8, 0.5, 1.0], 'precision': [0.5625, 0.6111111111111112, 0.5714285714285714, 0.8333333333333334, 0.5]}, 'XGboost': {'acc': [0.6086956521739131, 0.8260869565217391, 0.5909090909090909, 0.6363636363636364, 0.6363636363636364], 'auroc': [0.7, 0.8257575757575758, 0.6416666666666667, 0.6583333333333333, 0.75], 'auprc': [0.654250700280112, 0.7087402496493405, 0.5914152024446142, 0.6833241758241758, 0.7352505827505827], 'f1': [0.64, 0.8333333333333333, 0.5263157894736842, 0.33333333333333337, 0.5555555555555556], 'sensitivity': [0.8, 0.9090909090909091, 0.5, 0.2, 0.5], 'precision': [0.5333333333333333, 0.7692307692307693, 0.5555555555555556, 1.0, 0.625]}, 'LRC': {'acc': [0.8260869565217391, 0.7391304347826086, 0.5909090909090909, 0.6363636363636364, 0.6818181818181818], 'auroc': [0.9384615384615385, 0.803030303030303, 0.6916666666666667, 0.7666666666666667, 0.7416666666666667], 'auprc': [0.9105880230880231, 0.7554555293191657, 0.6950463343845696, 0.685873015873016, 0.7204933903385916], 'f1': [0.8000000000000002, 0.7692307692307692, 0.5263157894736842, 0.4285714285714285, 0.588235294117647], 'sensitivity': [0.8, 0.9090909090909091, 0.5, 0.3, 0.5], 'precision': [0.8, 0.6666666666666666, 0.5555555555555556, 0.75, 0.7142857142857143]}}\n",
      "for para_index\n",
      "0\n",
      "['KNN', 'LRC', 'ET', 'SVC', 'SGD', 'RF', 'XGboost', 'GB', 'AB']\n",
      "[0 1 2 3 4 5 6 7 8]\n",
      "each preprocessing loop\n",
      "0\n",
      "SVC\n"
     ]
    },
    {
     "name": "stderr",
     "output_type": "stream",
     "text": [
      "Tight layout not applied. The left and right margins cannot be made large enough to accommodate all axes decorations. \n",
      "Tight layout not applied. The left and right margins cannot be made large enough to accommodate all axes decorations. \n"
     ]
    },
    {
     "name": "stdout",
     "output_type": "stream",
     "text": [
      "0.6923076923076923\n",
      "KNN\n",
      "0.7307692307692308\n",
      "RF\n"
     ]
    },
    {
     "name": "stderr",
     "output_type": "stream",
     "text": [
      "Tight layout not applied. The left and right margins cannot be made large enough to accommodate all axes decorations. \n"
     ]
    },
    {
     "name": "stdout",
     "output_type": "stream",
     "text": [
      "0.6634615384615384\n",
      "ET\n"
     ]
    },
    {
     "name": "stderr",
     "output_type": "stream",
     "text": [
      "Tight layout not applied. The left and right margins cannot be made large enough to accommodate all axes decorations. \n",
      "Tight layout not applied. The left and right margins cannot be made large enough to accommodate all axes decorations. \n"
     ]
    },
    {
     "name": "stdout",
     "output_type": "stream",
     "text": [
      "0.7355769230769231\n",
      "AB\n",
      "0.6947115384615384\n",
      "GB\n"
     ]
    },
    {
     "name": "stderr",
     "output_type": "stream",
     "text": [
      "Tight layout not applied. The left and right margins cannot be made large enough to accommodate all axes decorations. \n",
      "Tight layout not applied. The left and right margins cannot be made large enough to accommodate all axes decorations. \n"
     ]
    },
    {
     "name": "stdout",
     "output_type": "stream",
     "text": [
      "0.6875\n",
      "SGD\n",
      "0.6730769230769231\n",
      "XGboost\n"
     ]
    },
    {
     "name": "stderr",
     "output_type": "stream",
     "text": [
      "Tight layout not applied. The left and right margins cannot be made large enough to accommodate all axes decorations. \n"
     ]
    },
    {
     "name": "stdout",
     "output_type": "stream",
     "text": [
      "0.6586538461538461\n",
      "LRC\n"
     ]
    },
    {
     "name": "stderr",
     "output_type": "stream",
     "text": [
      "Tight layout not applied. The left and right margins cannot be made large enough to accommodate all axes decorations. \n"
     ]
    },
    {
     "name": "stdout",
     "output_type": "stream",
     "text": [
      "0.6826923076923077\n"
     ]
    },
    {
     "name": "stderr",
     "output_type": "stream",
     "text": [
      "A column-vector y was passed when a 1d array was expected. Please change the shape of y to (n_samples, ), for example using ravel().\n"
     ]
    }
   ],
   "source": [
    "hepatitis_noMissing_path = hepatitis_result_path+ '/resultImputeMissing'\n",
    "hepatitis_result_noMissingAllow = aml_hepatitis.AutoML_imputeMissing(hepatitis_noMissing_path, preprocessing_paras, classifier_paras)"
   ]
  },
  {
   "cell_type": "code",
   "execution_count": null,
   "metadata": {},
   "outputs": [],
   "source": []
  }
 ],
 "metadata": {
  "kernelspec": {
   "display_name": "autoMLenv",
   "language": "python",
   "name": "automlenv"
  },
  "language_info": {
   "codemirror_mode": {
    "name": "ipython",
    "version": 3
   },
   "file_extension": ".py",
   "mimetype": "text/x-python",
   "name": "python",
   "nbconvert_exporter": "python",
   "pygments_lexer": "ipython3",
   "version": "3.7.7"
  }
 },
 "nbformat": 4,
 "nbformat_minor": 4
}
