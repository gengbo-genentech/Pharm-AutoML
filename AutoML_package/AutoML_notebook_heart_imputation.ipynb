{
 "cells": [
  {
   "cell_type": "code",
   "execution_count": 1,
   "metadata": {},
   "outputs": [
    {
     "name": "stdout",
     "output_type": "stream",
     "text": [
      "/Users/liug28/Downloads/AutoML/AutoML_package\n"
     ]
    }
   ],
   "source": [
    "import os\n",
    "cwd = os.getcwd()\n",
    "import sys\n",
    "sys.path.append(cwd+\"/src_autoML/\")\n",
    "print (cwd)"
   ]
  },
  {
   "cell_type": "code",
   "execution_count": 2,
   "metadata": {},
   "outputs": [
    {
     "name": "stdout",
     "output_type": "stream",
     "text": [
      "WARN: OMP_NUM_THREADS=None =>\n",
      "... If you are using openblas if you are using openblas set OMP_NUM_THREADS=1 or risk subprocess calls hanging indefinitely\n"
     ]
    },
    {
     "name": "stderr",
     "output_type": "stream",
     "text": [
      "assertion is always true, perhaps remove parentheses?\n"
     ]
    }
   ],
   "source": [
    "import pandas as pd\n",
    "import numpy as np\n",
    "from PharmAutoML import PharmAutoML"
   ]
  },
  {
   "cell_type": "code",
   "execution_count": 3,
   "metadata": {},
   "outputs": [],
   "source": [
    "categorical_features = ['cp','restecg','slope','thal']"
   ]
  },
  {
   "cell_type": "code",
   "execution_count": 4,
   "metadata": {},
   "outputs": [
    {
     "name": "stdout",
     "output_type": "stream",
     "text": [
      "{'drop_features': [[]], 'categorical_features': [['cp', 'restecg', 'slope', 'thal']], 'missing_threshold_rows': [0.2], 'missing_threshold_columns': [0.2], 'correlation_threshold': [0.98], 'check_diff_categorical_threshold': [0.1], 'add_nan_label': [False], 'impute_category_strategy': ['most_frequent'], 'impute_numerical_strategy': ['mean']}\n"
     ]
    }
   ],
   "source": [
    "preprocessing_paras = {}\n",
    "preprocessing_paras['drop_features']=[[]]\n",
    "preprocessing_paras['categorical_features']=[categorical_features]\n",
    "preprocessing_paras['missing_threshold_rows']=[0.2]\n",
    "preprocessing_paras['missing_threshold_columns']=[0.2]\n",
    "preprocessing_paras['correlation_threshold']=[0.98]\n",
    "preprocessing_paras['check_diff_categorical_threshold']=[0.1]\n",
    "preprocessing_paras['add_nan_label']=[False]\n",
    "preprocessing_paras['impute_category_strategy']=[\"most_frequent\"]\n",
    "preprocessing_paras['impute_numerical_strategy']=[\"mean\"]\n",
    "print (preprocessing_paras)"
   ]
  },
  {
   "cell_type": "code",
   "execution_count": 5,
   "metadata": {},
   "outputs": [
    {
     "name": "stdout",
     "output_type": "stream",
     "text": [
      "{'PCA_featureReduction_orNot': False, 'PCA_featureReduction_num': None, 'clfs': ['SVC', 'KNN', 'RF', 'ET', 'AB', 'GB', 'SGD', 'XGboost', 'LRC'], 'n_fold': 5, 'n_repeats': None, 'useDropColFeaImport': False}\n"
     ]
    }
   ],
   "source": [
    "classifier_paras = {}\n",
    "classifier_paras['PCA_featureReduction_orNot']=False\n",
    "classifier_paras['PCA_featureReduction_num']=None\n",
    "classifier_paras['clfs']=['SVC','KNN','RF','ET','AB','GB','SGD','XGboost','LRC']\n",
    "classifier_paras['n_fold']=5\n",
    "classifier_paras['n_repeats']=None\n",
    "classifier_paras['useDropColFeaImport']=False\n",
    "print (classifier_paras)"
   ]
  },
  {
   "cell_type": "markdown",
   "metadata": {},
   "source": [
    "## heart dataset"
   ]
  },
  {
   "cell_type": "code",
   "execution_count": 6,
   "metadata": {},
   "outputs": [],
   "source": [
    "heart_result_path=cwd+\"/src_autoML/examples/heart_result\"\n",
    "heart_data_dir=cwd+\"/src_autoML/examples/data/heart.csv\"\n",
    "target = 'target'"
   ]
  },
  {
   "cell_type": "code",
   "execution_count": 7,
   "metadata": {},
   "outputs": [
    {
     "data": {
      "text/html": [
       "<div>\n",
       "<style scoped>\n",
       "    .dataframe tbody tr th:only-of-type {\n",
       "        vertical-align: middle;\n",
       "    }\n",
       "\n",
       "    .dataframe tbody tr th {\n",
       "        vertical-align: top;\n",
       "    }\n",
       "\n",
       "    .dataframe thead th {\n",
       "        text-align: right;\n",
       "    }\n",
       "</style>\n",
       "<table border=\"1\" class=\"dataframe\">\n",
       "  <thead>\n",
       "    <tr style=\"text-align: right;\">\n",
       "      <th></th>\n",
       "      <th>age</th>\n",
       "      <th>sex</th>\n",
       "      <th>cp</th>\n",
       "      <th>trestbps</th>\n",
       "      <th>chol</th>\n",
       "      <th>fbs</th>\n",
       "      <th>restecg</th>\n",
       "      <th>thalach</th>\n",
       "      <th>exang</th>\n",
       "      <th>oldpeak</th>\n",
       "      <th>slope</th>\n",
       "      <th>ca</th>\n",
       "      <th>thal</th>\n",
       "    </tr>\n",
       "  </thead>\n",
       "  <tbody>\n",
       "    <tr>\n",
       "      <th>0</th>\n",
       "      <td>63</td>\n",
       "      <td>1</td>\n",
       "      <td>3</td>\n",
       "      <td>145</td>\n",
       "      <td>233</td>\n",
       "      <td>1</td>\n",
       "      <td>0</td>\n",
       "      <td>150</td>\n",
       "      <td>0</td>\n",
       "      <td>2.3</td>\n",
       "      <td>0</td>\n",
       "      <td>0</td>\n",
       "      <td>1</td>\n",
       "    </tr>\n",
       "    <tr>\n",
       "      <th>1</th>\n",
       "      <td>37</td>\n",
       "      <td>1</td>\n",
       "      <td>2</td>\n",
       "      <td>130</td>\n",
       "      <td>250</td>\n",
       "      <td>0</td>\n",
       "      <td>1</td>\n",
       "      <td>187</td>\n",
       "      <td>0</td>\n",
       "      <td>3.5</td>\n",
       "      <td>0</td>\n",
       "      <td>0</td>\n",
       "      <td>2</td>\n",
       "    </tr>\n",
       "    <tr>\n",
       "      <th>2</th>\n",
       "      <td>41</td>\n",
       "      <td>0</td>\n",
       "      <td>1</td>\n",
       "      <td>130</td>\n",
       "      <td>204</td>\n",
       "      <td>0</td>\n",
       "      <td>0</td>\n",
       "      <td>172</td>\n",
       "      <td>0</td>\n",
       "      <td>1.4</td>\n",
       "      <td>2</td>\n",
       "      <td>0</td>\n",
       "      <td>2</td>\n",
       "    </tr>\n",
       "    <tr>\n",
       "      <th>3</th>\n",
       "      <td>56</td>\n",
       "      <td>1</td>\n",
       "      <td>1</td>\n",
       "      <td>120</td>\n",
       "      <td>236</td>\n",
       "      <td>0</td>\n",
       "      <td>1</td>\n",
       "      <td>178</td>\n",
       "      <td>0</td>\n",
       "      <td>0.8</td>\n",
       "      <td>2</td>\n",
       "      <td>0</td>\n",
       "      <td>2</td>\n",
       "    </tr>\n",
       "    <tr>\n",
       "      <th>4</th>\n",
       "      <td>57</td>\n",
       "      <td>0</td>\n",
       "      <td>0</td>\n",
       "      <td>120</td>\n",
       "      <td>354</td>\n",
       "      <td>0</td>\n",
       "      <td>1</td>\n",
       "      <td>163</td>\n",
       "      <td>1</td>\n",
       "      <td>0.6</td>\n",
       "      <td>2</td>\n",
       "      <td>0</td>\n",
       "      <td>2</td>\n",
       "    </tr>\n",
       "  </tbody>\n",
       "</table>\n",
       "</div>"
      ],
      "text/plain": [
       "   age  sex  cp  trestbps  chol  fbs  restecg  thalach  exang  oldpeak  slope  \\\n",
       "0   63    1   3       145   233    1        0      150      0      2.3      0   \n",
       "1   37    1   2       130   250    0        1      187      0      3.5      0   \n",
       "2   41    0   1       130   204    0        0      172      0      1.4      2   \n",
       "3   56    1   1       120   236    0        1      178      0      0.8      2   \n",
       "4   57    0   0       120   354    0        1      163      1      0.6      2   \n",
       "\n",
       "   ca  thal  \n",
       "0   0     1  \n",
       "1   0     2  \n",
       "2   0     2  \n",
       "3   0     2  \n",
       "4   0     2  "
      ]
     },
     "execution_count": 7,
     "metadata": {},
     "output_type": "execute_result"
    }
   ],
   "source": [
    "heart_data=pd.read_csv(heart_data_dir)\n",
    "y_heart = heart_data[target]\n",
    "x_heart = heart_data.drop([target], axis=1)\n",
    "x_heart.head()"
   ]
  },
  {
   "cell_type": "code",
   "execution_count": 8,
   "metadata": {},
   "outputs": [],
   "source": [
    "aml_heart=PharmAutoML(x_heart,y_heart)"
   ]
  },
  {
   "cell_type": "code",
   "execution_count": 9,
   "metadata": {},
   "outputs": [
    {
     "name": "stdout",
     "output_type": "stream",
     "text": [
      "preprocessing parameter dictionary is\n",
      "{'drop_features': [[]], 'categorical_features': [['cp', 'restecg', 'slope', 'thal']], 'missing_threshold_rows': [0.2], 'missing_threshold_columns': [0.2], 'correlation_threshold': [0.98], 'check_diff_categorical_threshold': [0.1], 'add_nan_label': [False], 'impute_category_strategy': ['most_frequent'], 'impute_numerical_strategy': ['mean']}\n",
      "parameter grid is\n",
      "[{'add_nan_label': False, 'categorical_features': ['cp', 'restecg', 'slope', 'thal'], 'check_diff_categorical_threshold': 0.1, 'correlation_threshold': 0.98, 'drop_features': [], 'impute_category_strategy': 'most_frequent', 'impute_numerical_strategy': 'mean', 'missing_threshold_columns': 0.2, 'missing_threshold_rows': 0.2}]\n",
      "param\n",
      "{'add_nan_label': False, 'categorical_features': ['cp', 'restecg', 'slope', 'thal'], 'check_diff_categorical_threshold': 0.1, 'correlation_threshold': 0.98, 'drop_features': [], 'impute_category_strategy': 'most_frequent', 'impute_numerical_strategy': 'mean', 'missing_threshold_columns': 0.2, 'missing_threshold_rows': 0.2}\n",
      "Preprocessing Step 1: Manually Drop Features\n",
      "manually drop 0 features.\n",
      "Preprocessing Step 2: Find Single Unique Features\n",
      "0 features with a single unique value.\n",
      "Preprocessing Step 3: Find Missing\n",
      "0 instances have more than 0.20 fraction of missing values.\n",
      "Preprocessing Step 3: Find Missing\n",
      "0 features have more than 0.20 fraction of missing values.\n",
      "Preprocessing Step 4: Find Collinear Features by Pearson Correlations\n",
      "0 features with a correlation magnitude greater than 0.98.\n",
      "Data Preprocessor Summary\n",
      "0 total features out of 13 identified for removal.\n",
      "{'drop_features': [], 'single_unique': [], 'missing_features': [], 'collinear': []}\n",
      "0 total instances out of 303 identified for removal.\n",
      "{'missing_instances': []}\n",
      "imputation for training dataset\n",
      "['cp', 'restecg', 'slope', 'thal']\n",
      "0 categorical features are dropped due to high number of different values in categorical feature.\n",
      "[]\n",
      "data imputation summary\n",
      "{'categorical': [], 'numerical': []}\n",
      "for each preprocessing loop the classifier tuning record is\n",
      "0\n",
      "100%|██████████| 1/1 [00:00<00:00, 32.27trial/s, best loss: 0.1900826446280992]\n",
      "100%|██████████| 2/2 [00:00<00:00, 61.94trial/s, best loss: 0.1900826446280992]\n",
      "100%|██████████| 3/3 [00:00<00:00, 94.82trial/s, best loss: 0.1652892561983471]\n",
      "100%|██████████| 4/4 [00:00<00:00, 124.49trial/s, best loss: 0.1652892561983471]\n",
      "100%|██████████| 5/5 [00:00<00:00, 165.31trial/s, best loss: 0.1652892561983471]\n",
      "100%|██████████| 6/6 [00:00<00:00, 190.42trial/s, best loss: 0.1652892561983471]\n",
      "100%|██████████| 7/7 [00:00<00:00, 219.34trial/s, best loss: 0.1652892561983471]\n",
      "100%|██████████| 8/8 [00:00<00:00, 249.57trial/s, best loss: 0.1652892561983471]\n",
      "100%|██████████| 9/9 [00:00<00:00, 288.18trial/s, best loss: 0.1652892561983471]\n",
      "100%|██████████| 10/10 [00:00<00:00, 315.48trial/s, best loss: 0.1652892561983471]\n",
      "{'learner': LogisticRegression(C=0.41980367003944946, class_weight=None, dual=False,\n",
      "                   fit_intercept=True, intercept_scaling=0.31884593085639573,\n",
      "                   l1_ratio=None, max_iter=100, multi_class='auto', n_jobs=None,\n",
      "                   penalty='l2', random_state=0, solver='liblinear',\n",
      "                   tol=1.370851343030675e-05, verbose=0, warm_start=False), 'preprocs': (StandardScaler(copy=True, with_mean=False, with_std=False),), 'ex_preprocs': ()}\n",
      "100%|██████████| 1/1 [00:00<00:00, 18.10trial/s, best loss: 0.4545454545454546]\n",
      "100%|██████████| 2/2 [00:00<00:00, 22.05trial/s, best loss: 0.4545454545454546]\n",
      "100%|██████████| 3/3 [00:00<00:00, 39.26trial/s, best loss: 0.4545454545454546]\n",
      "100%|██████████| 4/4 [00:00<00:00, 27.46trial/s, best loss: 0.2024793388429752]\n",
      "100%|██████████| 5/5 [00:00<00:00, 57.47trial/s, best loss: 0.2024793388429752]\n",
      " 83%|████████▎ | 5/6 [00:00<?, ?trial/s, best loss=?]"
     ]
    },
    {
     "name": "stderr",
     "output_type": "stream",
     "text": [
      "Solver terminated early (max_iter=136275548).  Consider pre-processing your data with StandardScaler or MinMaxScaler.\n",
      "\n",
      "Solver terminated early (max_iter=136275548).  Consider pre-processing your data with StandardScaler or MinMaxScaler.\n",
      "\n"
     ]
    },
    {
     "name": "stdout",
     "output_type": "stream",
     "text": [
      "100%|██████████| 6/6 [12:15<00:00, 122.66s/trial, best loss: 0.2024793388429752]\n",
      "100%|██████████| 7/7 [00:00<00:00, 112.15trial/s, best loss: 0.2024793388429752]\n",
      "100%|██████████| 8/8 [00:00<00:00, 118.78trial/s, best loss: 0.2024793388429752]\n",
      " 89%|████████▉ | 8/9 [00:00<?, ?trial/s, best loss=?]"
     ]
    },
    {
     "name": "stderr",
     "output_type": "stream",
     "text": [
      "Solver terminated early (max_iter=18642090).  Consider pre-processing your data with StandardScaler or MinMaxScaler.\n",
      "\n"
     ]
    },
    {
     "name": "stdout",
     "output_type": "stream",
     "text": [
      "100%|██████████| 9/9 [03:06<00:00, 20.71s/trial, best loss: 0.2024793388429752] \n",
      "100%|██████████| 10/10 [00:00<00:00, 163.64trial/s, best loss: 0.2024793388429752]\n",
      "{'learner': SVC(C=16095.297150632801, break_ties=False, cache_size=512, class_weight=None,\n",
      "    coef0=-0.034231859582568545, decision_function_shape='ovr', degree=1,\n",
      "    gamma=0.009840232023854091, kernel='sigmoid', max_iter=208536999.0,\n",
      "    probability=True, random_state=0, shrinking=True,\n",
      "    tol=0.00014647662362647586, verbose=False), 'preprocs': (StandardScaler(copy=True, with_mean=True, with_std=True),), 'ex_preprocs': ()}\n",
      "100%|██████████| 1/1 [00:00<00:00, 30.97trial/s, best loss: 0.4173553719008265]\n",
      "100%|██████████| 2/2 [00:00<00:00, 60.60trial/s, best loss: 0.3925619834710744]\n",
      "100%|██████████| 3/3 [00:00<00:00, 87.51trial/s, best loss: 0.3842975206611571]\n",
      "100%|██████████| 4/4 [00:00<00:00, 97.73trial/s, best loss: 0.27685950413223137]\n",
      "100%|██████████| 5/5 [00:00<00:00, 123.88trial/s, best loss: 0.26859504132231404]\n",
      "100%|██████████| 6/6 [00:00<00:00, 169.84trial/s, best loss: 0.26859504132231404]\n",
      "100%|██████████| 7/7 [00:00<00:00, 190.33trial/s, best loss: 0.2479338842975206]\n",
      "100%|██████████| 8/8 [00:00<00:00, 182.44trial/s, best loss: 0.1900826446280992]\n",
      "100%|██████████| 9/9 [00:00<00:00, 254.76trial/s, best loss: 0.1900826446280992]\n",
      "100%|██████████| 10/10 [00:00<00:00, 193.60trial/s, best loss: 0.1900826446280992]\n",
      "{'learner': KNeighborsClassifier(algorithm='auto', leaf_size=30, metric='manhattan',\n",
      "                     metric_params=None, n_jobs=1, n_neighbors=22, p=1,\n",
      "                     weights='uniform'), 'preprocs': (StandardScaler(copy=True, with_mean=False, with_std=True),), 'ex_preprocs': ()}\n",
      "100%|██████████| 1/1 [00:00<00:00,  1.33trial/s, best loss: 0.2024793388429752]\n",
      "100%|██████████| 2/2 [00:00<00:00, 10.67trial/s, best loss: 0.2024793388429752]\n",
      "100%|██████████| 3/3 [00:09<00:00,  3.07s/trial, best loss: 0.2024793388429752]\n",
      "100%|██████████| 4/4 [00:00<00:00,  6.24trial/s, best loss: 0.19834710743801653]\n",
      "100%|██████████| 5/5 [00:00<00:00, 51.49trial/s, best loss: 0.19834710743801653]\n",
      "100%|██████████| 6/6 [00:11<00:00,  1.85s/trial, best loss: 0.19834710743801653]\n",
      "100%|██████████| 7/7 [00:00<00:00, 55.51trial/s, best loss: 0.19834710743801653]\n",
      "100%|██████████| 8/8 [00:06<00:00,  1.28trial/s, best loss: 0.19834710743801653]\n",
      "100%|██████████| 9/9 [00:01<00:00,  7.63trial/s, best loss: 0.19834710743801653]\n",
      "100%|██████████| 10/10 [00:00<00:00, 27.91trial/s, best loss: 0.19834710743801653]\n",
      "{'learner': RandomForestClassifier(bootstrap=False, ccp_alpha=0.0, class_weight=None,\n",
      "                       criterion='entropy', max_depth=None,\n",
      "                       max_features=0.4113683198372807, max_leaf_nodes=None,\n",
      "                       max_samples=None, min_impurity_decrease=0.0,\n",
      "                       min_impurity_split=None, min_samples_leaf=8,\n",
      "                       min_samples_split=2, min_weight_fraction_leaf=0.0,\n",
      "                       n_estimators=144, n_jobs=1, oob_score=False,\n",
      "                       random_state=0, verbose=False, warm_start=False), 'preprocs': (StandardScaler(copy=True, with_mean=True, with_std=True),), 'ex_preprocs': ()}\n",
      "100%|██████████| 1/1 [00:00<00:00, 10.68trial/s, best loss: 0.21900826446280997]\n",
      "100%|██████████| 2/2 [00:00<00:00,  5.71trial/s, best loss: 0.19421487603305787]\n",
      "100%|██████████| 3/3 [00:00<00:00, 22.78trial/s, best loss: 0.19421487603305787]\n",
      "100%|██████████| 4/4 [00:07<00:00,  1.87s/trial, best loss: 0.19421487603305787]\n",
      "100%|██████████| 5/5 [00:02<00:00,  2.43trial/s, best loss: 0.19421487603305787]\n",
      "100%|██████████| 6/6 [00:00<00:00, 32.47trial/s, best loss: 0.18595041322314054]\n",
      "100%|██████████| 7/7 [00:00<00:00, 49.63trial/s, best loss: 0.18595041322314054]\n",
      "100%|██████████| 8/8 [00:00<00:00, 20.44trial/s, best loss: 0.18595041322314054]\n",
      "100%|██████████| 9/9 [00:11<00:00,  1.32s/trial, best loss: 0.18595041322314054]\n",
      "100%|██████████| 10/10 [00:04<00:00,  2.16trial/s, best loss: 0.18595041322314054]\n",
      "{'learner': ExtraTreesClassifier(bootstrap=True, ccp_alpha=0.0, class_weight=None,\n",
      "                     criterion='entropy', max_depth=3, max_features='sqrt',\n",
      "                     max_leaf_nodes=None, max_samples=None,\n",
      "                     min_impurity_decrease=0.0, min_impurity_split=None,\n",
      "                     min_samples_leaf=2, min_samples_split=2,\n",
      "                     min_weight_fraction_leaf=0.0, n_estimators=30, n_jobs=1,\n",
      "                     oob_score=False, random_state=0, verbose=False,\n",
      "                     warm_start=False), 'preprocs': (StandardScaler(copy=True, with_mean=False, with_std=False),), 'ex_preprocs': ()}\n",
      "100%|██████████| 1/1 [00:03<00:00,  3.14s/trial, best loss: 0.17355371900826444]\n",
      "100%|██████████| 2/2 [00:00<00:00, 19.48trial/s, best loss: 0.17355371900826444]\n",
      "100%|██████████| 3/3 [00:01<00:00,  1.71trial/s, best loss: 0.17355371900826444]\n",
      "100%|██████████| 4/4 [00:02<00:00,  1.49trial/s, best loss: 0.17355371900826444]\n",
      "100%|██████████| 5/5 [00:01<00:00,  2.95trial/s, best loss: 0.17355371900826444]\n",
      "100%|██████████| 6/6 [00:01<00:00,  3.03trial/s, best loss: 0.17355371900826444]\n",
      "100%|██████████| 7/7 [00:01<00:00,  5.76trial/s, best loss: 0.17355371900826444]\n",
      "100%|██████████| 8/8 [00:00<00:00, 68.94trial/s, best loss: 0.17355371900826444]\n",
      "100%|██████████| 9/9 [00:03<00:00,  2.54trial/s, best loss: 0.17355371900826444]\n",
      "100%|██████████| 10/10 [00:00<00:00, 30.72trial/s, best loss: 0.17355371900826444]\n",
      "{'learner': AdaBoostClassifier(algorithm='SAMME.R', base_estimator=None,\n",
      "                   learning_rate=0.006208195644354391, n_estimators=594,\n",
      "                   random_state=0), 'preprocs': (StandardScaler(copy=True, with_mean=True, with_std=False),), 'ex_preprocs': ()}\n",
      "100%|██████████| 1/1 [00:00<00:00,  5.23trial/s, best loss: 0.4545454545454546]\n",
      "100%|██████████| 2/2 [00:00<00:00,  2.91trial/s, best loss: 0.21074380165289253]\n",
      "100%|██████████| 3/3 [00:00<00:00, 12.74trial/s, best loss: 0.21074380165289253]\n",
      "100%|██████████| 4/4 [00:00<00:00, 11.63trial/s, best loss: 0.21074380165289253]\n",
      "100%|██████████| 5/5 [00:00<00:00, 13.52trial/s, best loss: 0.18595041322314054]\n",
      "100%|██████████| 6/6 [00:00<00:00, 31.72trial/s, best loss: 0.18595041322314054]\n",
      "100%|██████████| 7/7 [00:00<00:00, 92.88trial/s, best loss: 0.18595041322314054]\n",
      "100%|██████████| 8/8 [00:04<00:00,  1.87trial/s, best loss: 0.18595041322314054]\n",
      "100%|██████████| 9/9 [00:00<00:00, 10.84trial/s, best loss: 0.18595041322314054]\n",
      "100%|██████████| 10/10 [00:01<00:00,  6.41trial/s, best loss: 0.18595041322314054]\n",
      "{'learner': GradientBoostingClassifier(ccp_alpha=0.0, criterion='friedman_mse', init=None,\n",
      "                           learning_rate=0.01975037875019109, loss='deviance',\n",
      "                           max_depth=3, max_features=0.10783237433114268,\n",
      "                           max_leaf_nodes=None, min_impurity_decrease=0.0,\n",
      "                           min_impurity_split=None, min_samples_leaf=1,\n",
      "                           min_samples_split=2, min_weight_fraction_leaf=0.0,\n",
      "                           n_estimators=141, n_iter_no_change=None,\n",
      "                           presort='deprecated', random_state=0,\n",
      "                           subsample=0.6592747698895509, tol=0.0001,\n",
      "                           validation_fraction=0.1, verbose=0,\n",
      "                           warm_start=False), 'preprocs': (StandardScaler(copy=True, with_mean=False, with_std=True),), 'ex_preprocs': ()}\n",
      "100%|██████████| 1/1 [00:00<00:00, 26.01trial/s, best loss: 0.27685950413223137]\n",
      "100%|██████████| 2/2 [00:00<00:00, 54.02trial/s, best loss: 0.27685950413223137]\n",
      "100%|██████████| 3/3 [00:00<00:00, 66.05trial/s, best loss: 0.24380165289256195]\n",
      "100%|██████████| 4/4 [00:00<00:00, 94.53trial/s, best loss: 0.18181818181818177]\n",
      "100%|██████████| 5/5 [00:00<00:00, 127.36trial/s, best loss: 0.18181818181818177]\n",
      "100%|██████████| 6/6 [00:00<00:00, 141.23trial/s, best loss: 0.18181818181818177]\n",
      "100%|██████████| 7/7 [00:00<00:00, 176.00trial/s, best loss: 0.18181818181818177]\n",
      "100%|██████████| 8/8 [00:00<00:00, 207.38trial/s, best loss: 0.18181818181818177]\n",
      "100%|██████████| 9/9 [00:00<00:00, 223.57trial/s, best loss: 0.18181818181818177]\n",
      "100%|██████████| 10/10 [00:00<00:00, 262.93trial/s, best loss: 0.18181818181818177]\n",
      "{'learner': SGDClassifier(alpha=0.009249022178635881, average=False,\n",
      "              class_weight='balanced', early_stopping=False, epsilon=0.1,\n",
      "              eta0=0.00023703628166010153, fit_intercept=True,\n",
      "              l1_ratio=0.5420139106590466, learning_rate='constant',\n",
      "              loss='modified_huber', max_iter=23544982.0, n_iter_no_change=5,\n",
      "              n_jobs=1, penalty='elasticnet', power_t=0.9138891690093981,\n",
      "              random_state=0, shuffle=True, tol=0.002426535705466463,\n",
      "              validation_fraction=0.1, verbose=False, warm_start=False), 'preprocs': (StandardScaler(copy=True, with_mean=False, with_std=True),), 'ex_preprocs': ()}\n",
      "100%|██████████| 1/1 [00:00<00:00,  1.12trial/s, best loss: 0.2024793388429752]\n",
      "100%|██████████| 2/2 [00:00<00:00, 10.63trial/s, best loss: 0.19834710743801653]\n",
      "100%|██████████| 3/3 [00:00<00:00,  8.44trial/s, best loss: 0.19834710743801653]\n",
      "100%|██████████| 4/4 [00:00<00:00,  7.02trial/s, best loss: 0.19834710743801653]\n",
      "100%|██████████| 5/5 [00:01<00:00,  2.58trial/s, best loss: 0.18595041322314054]\n",
      "100%|██████████| 6/6 [00:01<00:00,  4.47trial/s, best loss: 0.18595041322314054]\n",
      "100%|██████████| 7/7 [00:01<00:00,  4.32trial/s, best loss: 0.18181818181818177]\n",
      "100%|██████████| 8/8 [00:04<00:00,  1.75trial/s, best loss: 0.18181818181818177]\n",
      "100%|██████████| 9/9 [00:06<00:00,  1.46trial/s, best loss: 0.17355371900826444]\n",
      "100%|██████████| 10/10 [00:01<00:00,  6.99trial/s, best loss: 0.17355371900826444]\n",
      "{'learner': XGBClassifier(base_score=0.5, booster=None,\n",
      "              colsample_bylevel=0.5606128847440313, colsample_bynode=None,\n",
      "              colsample_bytree=0.6025996277700577, gamma=3.0648636911846108,\n",
      "              gpu_id=None, importance_type='gain', interaction_constraints=None,\n",
      "              learning_rate=0.06763590723994001, max_delta_step=0, max_depth=10,\n",
      "              min_child_weight=1, missing=nan, monotone_constraints=None,\n",
      "              n_estimators=5800, n_jobs=None, num_parallel_tree=None,\n",
      "              objective='binary:logistic', random_state=None,\n",
      "              reg_alpha=0.9246703302772467, reg_lambda=3.7810596744726848,\n",
      "              scale_pos_weight=1, seed=0, subsample=0.86115293136361,\n",
      "              tree_method=None, validate_parameters=False, verbosity=None), 'preprocs': (StandardScaler(copy=True, with_mean=True, with_std=True),), 'ex_preprocs': ()}\n"
     ]
    },
    {
     "name": "stderr",
     "output_type": "stream",
     "text": [
      "Setting a random_state has no effect since shuffle is False. This will raise an error in 0.24. You should leave random_state to its default (None), or set shuffle=True.\n",
      "Setting a random_state has no effect since shuffle is False. This will raise an error in 0.24. You should leave random_state to its default (None), or set shuffle=True.\n",
      "Setting a random_state has no effect since shuffle is False. This will raise an error in 0.24. You should leave random_state to its default (None), or set shuffle=True.\n",
      "Setting a random_state has no effect since shuffle is False. This will raise an error in 0.24. You should leave random_state to its default (None), or set shuffle=True.\n",
      "Setting a random_state has no effect since shuffle is False. This will raise an error in 0.24. You should leave random_state to its default (None), or set shuffle=True.\n",
      "Setting a random_state has no effect since shuffle is False. This will raise an error in 0.24. You should leave random_state to its default (None), or set shuffle=True.\n",
      "Setting a random_state has no effect since shuffle is False. This will raise an error in 0.24. You should leave random_state to its default (None), or set shuffle=True.\n",
      "Setting a random_state has no effect since shuffle is False. This will raise an error in 0.24. You should leave random_state to its default (None), or set shuffle=True.\n",
      "Setting a random_state has no effect since shuffle is False. This will raise an error in 0.24. You should leave random_state to its default (None), or set shuffle=True.\n"
     ]
    },
    {
     "name": "stdout",
     "output_type": "stream",
     "text": [
      "#################################\n",
      "for preprocess strategy number\n",
      "0\n",
      "ROC AUCS\n",
      "{'SVC': 0.831129476584022, 'KNN': 0.903340220385675, 'RF': 0.8913911845730027, 'ET': 0.8964187327823693, 'AB': 0.8995179063360881, 'GB': 0.9116391184573004, 'SGD': 0.8825413223140497, 'XGboost': 0.8974517906336088, 'LRC': 0.8943526170798899}\n",
      "ROC AUC stdev\n",
      "{'SVC': 0.05006035169073545, 'KNN': 0.04553231274998211, 'RF': 0.04781970045253538, 'ET': 0.050855032271064665, 'AB': 0.04817721594940863, 'GB': 0.04320276973080557, 'SGD': 0.052728405300545, 'XGboost': 0.04650376516770641, 'LRC': 0.046200067345895844}\n",
      "all metrics\n",
      "{'SVC': {'acc': [0.6530612244897959, 0.8163265306122449, 0.8541666666666666, 0.75, 0.7708333333333334], 'auroc': [0.8838383838383836, 0.8787878787878787, 0.9335664335664337, 0.8006993006993006, 0.8391608391608392], 'auprc': [0.9081791237460275, 0.9105197598794073, 0.9384517515250715, 0.8076498626302797, 0.8637473212428852], 'f1': [0.5853658536585367, 0.823529411764706, 0.8510638297872339, 0.7857142857142856, 0.8070175438596492], 'sensitivity': [0.4444444444444444, 0.7777777777777778, 0.7692307692307693, 0.8461538461538461, 0.8846153846153846], 'precision': [0.8571428571428571, 0.875, 0.9523809523809523, 0.7333333333333333, 0.7419354838709677]}, 'KNN': {'acc': [0.8163265306122449, 0.8571428571428571, 0.8125, 0.7291666666666666, 0.7916666666666666], 'auroc': [0.9309764309764309, 0.9528619528619529, 0.9108391608391608, 0.8321678321678322, 0.9073426573426573], 'auprc': [0.9404823571490237, 0.9588048274510599, 0.9231317151950287, 0.8235600079724269, 0.9191769830145627], 'f1': [0.8163265306122449, 0.8727272727272727, 0.830188679245283, 0.7450980392156863, 0.8214285714285715], 'sensitivity': [0.7407407407407407, 0.8888888888888888, 0.8461538461538461, 0.7307692307692307, 0.8846153846153846], 'precision': [0.9090909090909091, 0.8571428571428571, 0.8148148148148148, 0.76, 0.7666666666666667]}, 'RF': {'acc': [0.8571428571428571, 0.7959183673469388, 0.8541666666666666, 0.7916666666666666, 0.7916666666666666], 'auroc': [0.9107744107744108, 0.936026936026936, 0.9335664335664337, 0.8216783216783218, 0.9248251748251748], 'auprc': [0.9164473175531551, 0.9541180386838806, 0.9504614679591904, 0.846562435781006, 0.9416418231163892], 'f1': [0.8679245283018868, 0.8148148148148148, 0.8679245283018868, 0.8214285714285715, 0.8275862068965517], 'sensitivity': [0.8518518518518519, 0.8148148148148148, 0.8846153846153846, 0.8846153846153846, 0.9230769230769231], 'precision': [0.8846153846153846, 0.8148148148148148, 0.8518518518518519, 0.7666666666666667, 0.75]}, 'ET': {'acc': [0.9183673469387755, 0.7959183673469388, 0.875, 0.75, 0.7916666666666666], 'auroc': [0.9107744107744108, 0.9158249158249158, 0.9370629370629371, 0.8146853146853147, 0.9370629370629371], 'auprc': [0.9301446278820109, 0.9368441652334354, 0.9498596205236581, 0.8539270544480579, 0.9587800060833279], 'f1': [0.9259259259259259, 0.8214285714285715, 0.8846153846153846, 0.7692307692307693, 0.8275862068965517], 'sensitivity': [0.9259259259259259, 0.8518518518518519, 0.8846153846153846, 0.7692307692307693, 0.9230769230769231], 'precision': [0.9259259259259259, 0.7931034482758621, 0.8846153846153846, 0.7692307692307693, 0.75]}, 'AB': {'acc': [0.8163265306122449, 0.7959183673469388, 0.8958333333333334, 0.8125, 0.8125], 'auroc': [0.9225589225589225, 0.9208754208754208, 0.9685314685314685, 0.8356643356643356, 0.9213286713286712], 'auprc': [0.9439581064556695, 0.93509045954632, 0.9727374491242555, 0.8304349310713863, 0.9381727590324875], 'f1': [0.823529411764706, 0.8148148148148148, 0.9090909090909091, 0.8421052631578947, 0.8421052631578947], 'sensitivity': [0.7777777777777778, 0.8148148148148148, 0.9615384615384616, 0.9230769230769231, 0.9230769230769231], 'precision': [0.875, 0.8148148148148148, 0.8620689655172413, 0.7741935483870968, 0.7741935483870968]}, 'GB': {'acc': [0.8367346938775511, 0.8775510204081632, 0.8541666666666666, 0.7708333333333334, 0.8333333333333334], 'auroc': [0.9074074074074074, 0.9562289562289562, 0.9475524475524475, 0.8479020979020978, 0.9283216783216783], 'auprc': [0.9307951624257811, 0.969022742493262, 0.9577445546163109, 0.8777210814943723, 0.9467716480763562], 'f1': [0.84, 0.8928571428571429, 0.8627450980392156, 0.8, 0.8620689655172413], 'sensitivity': [0.7777777777777778, 0.9259259259259259, 0.8461538461538461, 0.8461538461538461, 0.9615384615384616], 'precision': [0.9130434782608695, 0.8620689655172413, 0.88, 0.7586206896551724, 0.78125]}, 'SGD': {'acc': [0.8163265306122449, 0.7959183673469388, 0.8125, 0.75, 0.7708333333333334], 'auroc': [0.8905723905723906, 0.9225589225589225, 0.9090909090909091, 0.8033216783216783, 0.937062937062937], 'auprc': [0.9120622664669308, 0.9413267523262167, 0.9231606963338645, 0.7711285867983058, 0.9535467770548373], 'f1': [0.823529411764706, 0.8148148148148148, 0.8421052631578947, 0.7931034482758621, 0.8135593220338984], 'sensitivity': [0.7777777777777778, 0.8148148148148148, 0.9230769230769231, 0.8846153846153846, 0.9230769230769231], 'precision': [0.875, 0.8148148148148148, 0.7741935483870968, 0.71875, 0.7272727272727273]}, 'XGboost': {'acc': [0.8367346938775511, 0.7755102040816326, 0.875, 0.7916666666666666, 0.8125], 'auroc': [0.9175084175084175, 0.9259259259259259, 0.944055944055944, 0.8251748251748252, 0.9178321678321679], 'auprc': [0.9359594128413893, 0.9468180541148326, 0.9539462201678217, 0.8473611951539617, 0.9332671187748792], 'f1': [0.8461538461538461, 0.8070175438596491, 0.888888888888889, 0.8214285714285715, 0.8421052631578947], 'sensitivity': [0.8148148148148148, 0.8518518518518519, 0.9230769230769231, 0.8846153846153846, 0.9230769230769231], 'precision': [0.88, 0.7666666666666667, 0.8571428571428571, 0.7666666666666667, 0.7741935483870968]}, 'LRC': {'acc': [0.8367346938775511, 0.8163265306122449, 0.8125, 0.7916666666666666, 0.7916666666666666], 'auroc': [0.8872053872053871, 0.930976430976431, 0.9265734265734267, 0.8304195804195804, 0.944055944055944], 'auprc': [0.9124004690721217, 0.9510557647038489, 0.9345701100069536, 0.8571635377630915, 0.9596035789248458], 'f1': [0.84, 0.8421052631578948, 0.8235294117647058, 0.8214285714285715, 0.8333333333333333], 'sensitivity': [0.7777777777777778, 0.8888888888888888, 0.8076923076923077, 0.8846153846153846, 0.9615384615384616], 'precision': [0.9130434782608695, 0.8, 0.84, 0.7666666666666667, 0.7352941176470589]}}\n",
      "for para_index\n",
      "0\n",
      "['GB', 'KNN', 'AB', 'XGboost', 'ET', 'LRC', 'RF', 'SGD', 'SVC']\n",
      "[0 1 2 3 4 5 6 7 8]\n",
      "the following model for shap analysis\n",
      "GradientBoostingClassifier(ccp_alpha=0.0, criterion='friedman_mse', init=None,\n",
      "                           learning_rate=0.01975037875019109, loss='deviance',\n",
      "                           max_depth=3, max_features=0.10783237433114268,\n",
      "                           max_leaf_nodes=None, min_impurity_decrease=0.0,\n",
      "                           min_impurity_split=None, min_samples_leaf=1,\n",
      "                           min_samples_split=2, min_weight_fraction_leaf=0.0,\n",
      "                           n_estimators=141, n_iter_no_change=None,\n",
      "                           presort='deprecated', random_state=0,\n",
      "                           subsample=0.6592747698895509, tol=0.0001,\n",
      "                           validation_fraction=0.1, verbose=0,\n",
      "                           warm_start=False)\n"
     ]
    },
    {
     "name": "stderr",
     "output_type": "stream",
     "text": [
      "Setting feature_perturbation = \"tree_path_dependent\" because no background data was given.\n",
      "The sklearn.ensemble.gradient_boosting module is  deprecated in version 0.22 and will be removed in version 0.24. The corresponding classes / functions should instead be imported from sklearn.ensemble. Anything that cannot be imported from sklearn.ensemble is now part of the private API.\n",
      "Matplotlib is currently using agg, which is a non-GUI backend, so cannot show the figure.\n"
     ]
    },
    {
     "name": "stdout",
     "output_type": "stream",
     "text": [
      "each preprocessing loop\n",
      "0\n",
      "SVC\n"
     ]
    },
    {
     "name": "stderr",
     "output_type": "stream",
     "text": [
      "Tight layout not applied. The left and right margins cannot be made large enough to accommodate all axes decorations. \n"
     ]
    },
    {
     "name": "stdout",
     "output_type": "stream",
     "text": [
      "0.8874458874458875\n",
      "KNN\n"
     ]
    },
    {
     "name": "stderr",
     "output_type": "stream",
     "text": [
      "Tight layout not applied. The left and right margins cannot be made large enough to accommodate all axes decorations. \n"
     ]
    },
    {
     "name": "stdout",
     "output_type": "stream",
     "text": [
      "0.9042207792207793\n",
      "RF\n"
     ]
    },
    {
     "name": "stderr",
     "output_type": "stream",
     "text": [
      "Tight layout not applied. The left and right margins cannot be made large enough to accommodate all axes decorations. \n",
      "Tight layout not applied. The left and right margins cannot be made large enough to accommodate all axes decorations. \n"
     ]
    },
    {
     "name": "stdout",
     "output_type": "stream",
     "text": [
      "0.8777056277056278\n",
      "ET\n",
      "0.8603896103896105\n",
      "AB\n"
     ]
    },
    {
     "name": "stderr",
     "output_type": "stream",
     "text": [
      "Tight layout not applied. The left and right margins cannot be made large enough to accommodate all axes decorations. \n"
     ]
    },
    {
     "name": "stdout",
     "output_type": "stream",
     "text": [
      "0.8793290043290043\n",
      "GB\n"
     ]
    },
    {
     "name": "stderr",
     "output_type": "stream",
     "text": [
      "Tight layout not applied. The left and right margins cannot be made large enough to accommodate all axes decorations. \n",
      "Tight layout not applied. The left and right margins cannot be made large enough to accommodate all axes decorations. \n"
     ]
    },
    {
     "name": "stdout",
     "output_type": "stream",
     "text": [
      "0.9015151515151515\n",
      "SGD\n",
      "0.8917748917748918\n",
      "XGboost\n"
     ]
    },
    {
     "name": "stderr",
     "output_type": "stream",
     "text": [
      "Tight layout not applied. The left and right margins cannot be made large enough to accommodate all axes decorations. \n"
     ]
    },
    {
     "name": "stdout",
     "output_type": "stream",
     "text": [
      "0.9015151515151516\n",
      "LRC\n",
      "0.8906926406926406\n"
     ]
    },
    {
     "name": "stderr",
     "output_type": "stream",
     "text": [
      "Tight layout not applied. The left and right margins cannot be made large enough to accommodate all axes decorations. \n"
     ]
    },
    {
     "name": "stdout",
     "output_type": "stream",
     "text": [
      "feature importance only works when the kernal of SVC is linear\n"
     ]
    }
   ],
   "source": [
    "noMissing_path = heart_result_path+ '/resultImputeMissing'\n",
    "result_noMissingAllow = aml_heart.AutoML_imputeMissing(noMissing_path, preprocessing_paras, classifier_paras)\n"
   ]
  },
  {
   "cell_type": "code",
   "execution_count": null,
   "metadata": {},
   "outputs": [],
   "source": []
  }
 ],
 "metadata": {
  "kernelspec": {
   "display_name": "autoMLenv",
   "language": "python",
   "name": "automlenv"
  },
  "language_info": {
   "codemirror_mode": {
    "name": "ipython",
    "version": 3
   },
   "file_extension": ".py",
   "mimetype": "text/x-python",
   "name": "python",
   "nbconvert_exporter": "python",
   "pygments_lexer": "ipython3",
   "version": "3.7.7"
  }
 },
 "nbformat": 4,
 "nbformat_minor": 4
}
