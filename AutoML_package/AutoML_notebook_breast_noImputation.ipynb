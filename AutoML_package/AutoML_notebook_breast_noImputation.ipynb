{
 "cells": [
  {
   "cell_type": "code",
   "execution_count": 1,
   "metadata": {},
   "outputs": [
    {
     "name": "stdout",
     "output_type": "stream",
     "text": [
      "/Users/liug28/Downloads/AutoML/AutoML_package\n"
     ]
    }
   ],
   "source": [
    "import os\n",
    "cwd = os.getcwd()\n",
    "import sys\n",
    "sys.path.append(cwd+\"/src_autoML/\")\n",
    "print (cwd)"
   ]
  },
  {
   "cell_type": "code",
   "execution_count": 2,
   "metadata": {},
   "outputs": [
    {
     "name": "stdout",
     "output_type": "stream",
     "text": [
      "WARN: OMP_NUM_THREADS=None =>\n",
      "... If you are using openblas if you are using openblas set OMP_NUM_THREADS=1 or risk subprocess calls hanging indefinitely\n"
     ]
    },
    {
     "name": "stderr",
     "output_type": "stream",
     "text": [
      "assertion is always true, perhaps remove parentheses?\n"
     ]
    }
   ],
   "source": [
    "import pandas as pd\n",
    "import numpy as np\n",
    "from PharmAutoML import PharmAutoML"
   ]
  },
  {
   "cell_type": "code",
   "execution_count": 3,
   "metadata": {},
   "outputs": [],
   "source": [
    "categorical_features = []"
   ]
  },
  {
   "cell_type": "code",
   "execution_count": 4,
   "metadata": {},
   "outputs": [
    {
     "name": "stdout",
     "output_type": "stream",
     "text": [
      "{'drop_features': [[]], 'categorical_features': [[]], 'missing_threshold_rows': [0.2], 'missing_threshold_columns': [0.2], 'correlation_threshold': [0.98], 'check_diff_categorical_threshold': [0.1], 'add_nan_label': [False], 'impute_category_strategy': ['most_frequent'], 'impute_numerical_strategy': ['mean']}\n"
     ]
    }
   ],
   "source": [
    "preprocessing_paras = {}\n",
    "preprocessing_paras['drop_features']=[[]]\n",
    "preprocessing_paras['categorical_features']=[categorical_features]\n",
    "preprocessing_paras['missing_threshold_rows']=[0.2]\n",
    "preprocessing_paras['missing_threshold_columns']=[0.2]\n",
    "preprocessing_paras['correlation_threshold']=[0.98]\n",
    "preprocessing_paras['check_diff_categorical_threshold']=[0.1]\n",
    "preprocessing_paras['add_nan_label']=[False]\n",
    "preprocessing_paras['impute_category_strategy']=[\"most_frequent\"]\n",
    "preprocessing_paras['impute_numerical_strategy']=[\"mean\"]\n",
    "print (preprocessing_paras)"
   ]
  },
  {
   "cell_type": "code",
   "execution_count": 5,
   "metadata": {},
   "outputs": [
    {
     "name": "stdout",
     "output_type": "stream",
     "text": [
      "{'PCA_featureReduction_orNot': False, 'PCA_featureReduction_num': None, 'clfs': ['XGboost'], 'n_fold': 5, 'n_repeats': None, 'useDropColFeaImport': False}\n"
     ]
    }
   ],
   "source": [
    "classifier_paras = {}\n",
    "classifier_paras['PCA_featureReduction_orNot']=False\n",
    "classifier_paras['PCA_featureReduction_num']=None\n",
    "classifier_paras['clfs']=['XGboost']\n",
    "# classifier_paras['clfs']=['SVC']\n",
    "# classifier_paras['clfs']=['XGboost']\n",
    "classifier_paras['n_fold']=5\n",
    "classifier_paras['n_repeats']=None\n",
    "classifier_paras['useDropColFeaImport']=False\n",
    "print (classifier_paras)"
   ]
  },
  {
   "cell_type": "markdown",
   "metadata": {},
   "source": [
    "## breast cancer"
   ]
  },
  {
   "cell_type": "code",
   "execution_count": 6,
   "metadata": {},
   "outputs": [],
   "source": [
    "breast_result_path=cwd+\"/src_autoML/examples/breast_result\"\n",
    "breast_data_dir=cwd+\"/src_autoML/examples/data/breast_cancer.csv\"\n",
    "breast_target = 'irradiat'"
   ]
  },
  {
   "cell_type": "code",
   "execution_count": 7,
   "metadata": {},
   "outputs": [
    {
     "data": {
      "text/html": [
       "<div>\n",
       "<style scoped>\n",
       "    .dataframe tbody tr th:only-of-type {\n",
       "        vertical-align: middle;\n",
       "    }\n",
       "\n",
       "    .dataframe tbody tr th {\n",
       "        vertical-align: top;\n",
       "    }\n",
       "\n",
       "    .dataframe thead th {\n",
       "        text-align: right;\n",
       "    }\n",
       "</style>\n",
       "<table border=\"1\" class=\"dataframe\">\n",
       "  <thead>\n",
       "    <tr style=\"text-align: right;\">\n",
       "      <th></th>\n",
       "      <th>Target</th>\n",
       "      <th>age_catg</th>\n",
       "      <th>menopause</th>\n",
       "      <th>tumor-size</th>\n",
       "      <th>inv-nodes</th>\n",
       "      <th>node-caps</th>\n",
       "      <th>degree malignant</th>\n",
       "      <th>breast</th>\n",
       "      <th>breast-quad</th>\n",
       "    </tr>\n",
       "  </thead>\n",
       "  <tbody>\n",
       "    <tr>\n",
       "      <th>0</th>\n",
       "      <td>no-recurrence-events</td>\n",
       "      <td>30-39</td>\n",
       "      <td>premeno</td>\n",
       "      <td>30-34</td>\n",
       "      <td>0-2</td>\n",
       "      <td>no</td>\n",
       "      <td>3</td>\n",
       "      <td>left</td>\n",
       "      <td>left_low</td>\n",
       "    </tr>\n",
       "    <tr>\n",
       "      <th>1</th>\n",
       "      <td>no-recurrence-events</td>\n",
       "      <td>40-49</td>\n",
       "      <td>premeno</td>\n",
       "      <td>20-24</td>\n",
       "      <td>0-2</td>\n",
       "      <td>no</td>\n",
       "      <td>2</td>\n",
       "      <td>right</td>\n",
       "      <td>right_up</td>\n",
       "    </tr>\n",
       "    <tr>\n",
       "      <th>2</th>\n",
       "      <td>no-recurrence-events</td>\n",
       "      <td>40-49</td>\n",
       "      <td>premeno</td>\n",
       "      <td>20-24</td>\n",
       "      <td>0-2</td>\n",
       "      <td>no</td>\n",
       "      <td>2</td>\n",
       "      <td>left</td>\n",
       "      <td>left_low</td>\n",
       "    </tr>\n",
       "    <tr>\n",
       "      <th>3</th>\n",
       "      <td>no-recurrence-events</td>\n",
       "      <td>60-69</td>\n",
       "      <td>ge40</td>\n",
       "      <td>15-19</td>\n",
       "      <td>0-2</td>\n",
       "      <td>no</td>\n",
       "      <td>2</td>\n",
       "      <td>right</td>\n",
       "      <td>left_up</td>\n",
       "    </tr>\n",
       "    <tr>\n",
       "      <th>4</th>\n",
       "      <td>no-recurrence-events</td>\n",
       "      <td>40-49</td>\n",
       "      <td>premeno</td>\n",
       "      <td>0-4</td>\n",
       "      <td>0-2</td>\n",
       "      <td>no</td>\n",
       "      <td>2</td>\n",
       "      <td>right</td>\n",
       "      <td>right_low</td>\n",
       "    </tr>\n",
       "  </tbody>\n",
       "</table>\n",
       "</div>"
      ],
      "text/plain": [
       "                 Target age_catg menopause tumor-size inv-nodes node-caps  \\\n",
       "0  no-recurrence-events    30-39   premeno      30-34       0-2        no   \n",
       "1  no-recurrence-events    40-49   premeno      20-24       0-2        no   \n",
       "2  no-recurrence-events    40-49   premeno      20-24       0-2        no   \n",
       "3  no-recurrence-events    60-69      ge40      15-19       0-2        no   \n",
       "4  no-recurrence-events    40-49   premeno        0-4       0-2        no   \n",
       "\n",
       "   degree malignant breast breast-quad  \n",
       "0                 3   left    left_low  \n",
       "1                 2  right    right_up  \n",
       "2                 2   left    left_low  \n",
       "3                 2  right     left_up  \n",
       "4                 2  right   right_low  "
      ]
     },
     "execution_count": 7,
     "metadata": {},
     "output_type": "execute_result"
    }
   ],
   "source": [
    "breast_data=pd.read_csv(breast_data_dir)\n",
    "y_breast = breast_data[breast_target]\n",
    "x_breast = breast_data.drop([breast_target], axis=1)\n",
    "x_breast.head()"
   ]
  },
  {
   "cell_type": "code",
   "execution_count": 8,
   "metadata": {},
   "outputs": [],
   "source": [
    "aml_breast=PharmAutoML(x_breast,y_breast)"
   ]
  },
  {
   "cell_type": "code",
   "execution_count": 9,
   "metadata": {},
   "outputs": [
    {
     "name": "stdout",
     "output_type": "stream",
     "text": [
      "Preprocessing Step 1: Manually Drop Features\n",
      "manually drop 0 features.\n",
      "Preprocessing Step 2: Find Single Unique Features\n",
      "0 features with a single unique value.\n",
      "Preprocessing Step 4: Find Collinear Features by Pearson Correlations\n",
      "0 features with a correlation magnitude greater than 0.98.\n"
     ]
    },
    {
     "name": "stderr",
     "output_type": "stream",
     "text": [
      "Tight layout not applied. The bottom and top margins cannot be made large enough to accommodate all axes decorations. \n"
     ]
    },
    {
     "name": "stdout",
     "output_type": "stream",
     "text": [
      "Data Preprocessor Summary\n",
      "0 total features out of 9 identified for removal.\n",
      "{'drop_features': [], 'single_unique': [], 'collinear': []}\n",
      "0 total instances out of 286 identified for removal.\n",
      "{}\n",
      "0 categorical features are droped due to high number of different values in categorical feature.\n",
      "[]\n",
      "imputation for training dataset\n",
      "for each preprocessing loop the allow missing classifier tuning record is\n",
      "0\n",
      "100%|██████████| 1/1 [00:01<00:00,  1.88s/trial, best loss: 0.2763157894736842]\n",
      "100%|██████████| 2/2 [00:00<00:00,  5.92trial/s, best loss: 0.2543859649122807]\n",
      "100%|██████████| 3/3 [00:21<00:00,  7.27s/trial, best loss: 0.24561403508771928]\n",
      "100%|██████████| 4/4 [00:35<00:00,  8.81s/trial, best loss: 0.24561403508771928]\n",
      "100%|██████████| 5/5 [00:33<00:00,  6.77s/trial, best loss: 0.24561403508771928]\n",
      "100%|██████████| 6/6 [00:34<00:00,  5.78s/trial, best loss: 0.24561403508771928]\n",
      "100%|██████████| 7/7 [01:04<00:00,  9.24s/trial, best loss: 0.24561403508771928]\n",
      "100%|██████████| 8/8 [00:06<00:00,  1.24trial/s, best loss: 0.24561403508771928]\n",
      "100%|██████████| 9/9 [00:34<00:00,  3.85s/trial, best loss: 0.23245614035087714]\n",
      "100%|██████████| 10/10 [00:24<00:00,  2.40s/trial, best loss: 0.23245614035087714]\n",
      "{'learner': XGBClassifier(base_score=0.5, booster=None,\n",
      "              colsample_bylevel=0.6352087701173249, colsample_bynode=None,\n",
      "              colsample_bytree=0.5788307492740131, gamma=0.008386075151248054,\n",
      "              gpu_id=None, importance_type='gain', interaction_constraints=None,\n",
      "              learning_rate=0.040383469233491384, max_delta_step=0, max_depth=2,\n",
      "              min_child_weight=3, missing=nan, monotone_constraints=None,\n",
      "              n_estimators=5200, n_jobs=None, num_parallel_tree=None,\n",
      "              objective='binary:logistic', random_state=None,\n",
      "              reg_alpha=0.23857995602029144, reg_lambda=1.9533352194426092,\n",
      "              scale_pos_weight=1, seed=0, subsample=0.6754669572374812,\n",
      "              tree_method=None, validate_parameters=False, verbosity=None), 'preprocs': (), 'ex_preprocs': ()}\n"
     ]
    },
    {
     "name": "stderr",
     "output_type": "stream",
     "text": [
      "Setting a random_state has no effect since shuffle is False. This will raise an error in 0.24. You should leave random_state to its default (None), or set shuffle=True.\n"
     ]
    },
    {
     "name": "stdout",
     "output_type": "stream",
     "text": [
      "#################################\n",
      "for preprocess strategy number\n",
      "0\n",
      "ROC AUCS\n",
      "{'XGboost': 0.669220945083014}\n",
      "ROC AUC stdev\n",
      "{'XGboost': 0.114473492240321}\n",
      "all metrics\n",
      "{'XGboost': {'acc': [0.7608695652173914, 0.7391304347826086, 0.8043478260869565, 0.7555555555555555, 0.6666666666666666], 'auroc': [0.7428571428571428, 0.6636363636363637, 0.7532467532467533, 0.7342857142857142, 0.47994652406417104], 'auprc': [0.9202905949644605, 0.8726853984655422, 0.9007590838206548, 0.9188176868149399, 0.782263501155033], 'f1': [0.8571428571428571, 0.8333333333333334, 0.8732394366197184, 0.8533333333333333, 0.7887323943661971], 'sensitivity': [0.9428571428571428, 0.8571428571428571, 0.8857142857142857, 0.9142857142857143, 0.8235294117647058], 'precision': [0.7857142857142857, 0.8108108108108109, 0.8611111111111112, 0.8, 0.7567567567567568]}}\n",
      "for para_index\n",
      "0\n",
      "['XGboost']\n",
      "[0]\n"
     ]
    },
    {
     "name": "stderr",
     "output_type": "stream",
     "text": [
      "Setting feature_perturbation = \"tree_path_dependent\" because no background data was given.\n",
      "Matplotlib is currently using agg, which is a non-GUI backend, so cannot show the figure.\n"
     ]
    },
    {
     "name": "stdout",
     "output_type": "stream",
     "text": [
      "each preprocessing loop\n",
      "0\n",
      "XGboost\n"
     ]
    },
    {
     "name": "stderr",
     "output_type": "stream",
     "text": [
      "Tight layout not applied. The left and right margins cannot be made large enough to accommodate all axes decorations. \n"
     ]
    },
    {
     "name": "stdout",
     "output_type": "stream",
     "text": [
      "0.8084415584415585\n"
     ]
    }
   ],
   "source": [
    "breast_allowMissing_path = breast_result_path+ '/resultAllowMissing'\n",
    "breast_result_allowMissing = aml_breast.AutoML_allowMissing(breast_allowMissing_path, preprocessing_paras, classifier_paras)"
   ]
  },
  {
   "cell_type": "code",
   "execution_count": null,
   "metadata": {},
   "outputs": [],
   "source": []
  }
 ],
 "metadata": {
  "kernelspec": {
   "display_name": "autoMLenv",
   "language": "python",
   "name": "automlenv"
  },
  "language_info": {
   "codemirror_mode": {
    "name": "ipython",
    "version": 3
   },
   "file_extension": ".py",
   "mimetype": "text/x-python",
   "name": "python",
   "nbconvert_exporter": "python",
   "pygments_lexer": "ipython3",
   "version": "3.7.7"
  }
 },
 "nbformat": 4,
 "nbformat_minor": 4
}
