{
 "cells": [
  {
   "cell_type": "code",
   "execution_count": 1,
   "metadata": {},
   "outputs": [
    {
     "name": "stdout",
     "output_type": "stream",
     "text": [
      "/Users/liug28/Downloads/AutoML/AutoML_package\n"
     ]
    }
   ],
   "source": [
    "import os\n",
    "cwd = os.getcwd()\n",
    "import sys\n",
    "sys.path.append(cwd+\"/src_autoML/\")\n",
    "print (cwd)"
   ]
  },
  {
   "cell_type": "code",
   "execution_count": 2,
   "metadata": {},
   "outputs": [
    {
     "name": "stdout",
     "output_type": "stream",
     "text": [
      "WARN: OMP_NUM_THREADS=None =>\n",
      "... If you are using openblas if you are using openblas set OMP_NUM_THREADS=1 or risk subprocess calls hanging indefinitely\n"
     ]
    }
   ],
   "source": [
    "import pandas as pd\n",
    "import numpy as np\n",
    "from PharmAutoML import PharmAutoML"
   ]
  },
  {
   "cell_type": "code",
   "execution_count": 3,
   "metadata": {},
   "outputs": [],
   "source": [
    "categorical_features = ['sg','al','su']"
   ]
  },
  {
   "cell_type": "code",
   "execution_count": 4,
   "metadata": {},
   "outputs": [
    {
     "name": "stdout",
     "output_type": "stream",
     "text": [
      "{'drop_features': [[]], 'categorical_features': [['sg', 'al', 'su']], 'missing_threshold_rows': [0.2], 'missing_threshold_columns': [0.2], 'correlation_threshold': [0.98], 'check_diff_categorical_threshold': [0.1], 'add_nan_label': [False], 'impute_category_strategy': ['most_frequent'], 'impute_numerical_strategy': ['mean']}\n"
     ]
    }
   ],
   "source": [
    "preprocessing_paras = {}\n",
    "preprocessing_paras['drop_features']=[[]]\n",
    "preprocessing_paras['categorical_features']=[categorical_features]\n",
    "preprocessing_paras['missing_threshold_rows']=[0.2]\n",
    "preprocessing_paras['missing_threshold_columns']=[0.2]\n",
    "preprocessing_paras['correlation_threshold']=[0.98]\n",
    "preprocessing_paras['check_diff_categorical_threshold']=[0.1]\n",
    "preprocessing_paras['add_nan_label']=[False]\n",
    "preprocessing_paras['impute_category_strategy']=[\"most_frequent\"]\n",
    "preprocessing_paras['impute_numerical_strategy']=[\"mean\"]\n",
    "print (preprocessing_paras)"
   ]
  },
  {
   "cell_type": "code",
   "execution_count": 5,
   "metadata": {},
   "outputs": [
    {
     "name": "stdout",
     "output_type": "stream",
     "text": [
      "{'PCA_featureReduction_orNot': False, 'PCA_featureReduction_num': None, 'clfs': ['XGboost'], 'n_fold': 5, 'n_repeats': None, 'useDropColFeaImport': False}\n"
     ]
    }
   ],
   "source": [
    "classifier_paras = {}\n",
    "classifier_paras['PCA_featureReduction_orNot']=False\n",
    "classifier_paras['PCA_featureReduction_num']=None\n",
    "classifier_paras['clfs']=['XGboost']\n",
    "classifier_paras['n_fold']=5\n",
    "classifier_paras['n_repeats']=None\n",
    "classifier_paras['useDropColFeaImport']=False\n",
    "print (classifier_paras)"
   ]
  },
  {
   "cell_type": "markdown",
   "metadata": {},
   "source": [
    "## chronic kidney disease dataset"
   ]
  },
  {
   "cell_type": "code",
   "execution_count": 6,
   "metadata": {},
   "outputs": [],
   "source": [
    "kidney_result_path=cwd+\"/src_autoML/examples/kidney_result\"\n",
    "kidney_data_dir=cwd+\"/src_autoML/examples/data/chronic_kidney_disease_dataset.csv\"\n",
    "kidney_target = 'classification'"
   ]
  },
  {
   "cell_type": "code",
   "execution_count": 7,
   "metadata": {},
   "outputs": [
    {
     "data": {
      "text/html": [
       "<div>\n",
       "<style scoped>\n",
       "    .dataframe tbody tr th:only-of-type {\n",
       "        vertical-align: middle;\n",
       "    }\n",
       "\n",
       "    .dataframe tbody tr th {\n",
       "        vertical-align: top;\n",
       "    }\n",
       "\n",
       "    .dataframe thead th {\n",
       "        text-align: right;\n",
       "    }\n",
       "</style>\n",
       "<table border=\"1\" class=\"dataframe\">\n",
       "  <thead>\n",
       "    <tr style=\"text-align: right;\">\n",
       "      <th></th>\n",
       "      <th>age</th>\n",
       "      <th>bp</th>\n",
       "      <th>sg</th>\n",
       "      <th>al</th>\n",
       "      <th>su</th>\n",
       "      <th>rbc</th>\n",
       "      <th>pc</th>\n",
       "      <th>pcc</th>\n",
       "      <th>ba</th>\n",
       "      <th>bgr</th>\n",
       "      <th>...</th>\n",
       "      <th>hemo</th>\n",
       "      <th>pcv</th>\n",
       "      <th>wc</th>\n",
       "      <th>rc</th>\n",
       "      <th>htn</th>\n",
       "      <th>dm</th>\n",
       "      <th>cad</th>\n",
       "      <th>appet</th>\n",
       "      <th>pe</th>\n",
       "      <th>ane</th>\n",
       "    </tr>\n",
       "  </thead>\n",
       "  <tbody>\n",
       "    <tr>\n",
       "      <th>0</th>\n",
       "      <td>48.0</td>\n",
       "      <td>80.0</td>\n",
       "      <td>1.020</td>\n",
       "      <td>1.0</td>\n",
       "      <td>0.0</td>\n",
       "      <td>NaN</td>\n",
       "      <td>normal</td>\n",
       "      <td>notpresent</td>\n",
       "      <td>notpresent</td>\n",
       "      <td>121.0</td>\n",
       "      <td>...</td>\n",
       "      <td>15.4</td>\n",
       "      <td>44.0</td>\n",
       "      <td>7800.0</td>\n",
       "      <td>5.2</td>\n",
       "      <td>yes</td>\n",
       "      <td>yes</td>\n",
       "      <td>no</td>\n",
       "      <td>good</td>\n",
       "      <td>no</td>\n",
       "      <td>no</td>\n",
       "    </tr>\n",
       "    <tr>\n",
       "      <th>1</th>\n",
       "      <td>7.0</td>\n",
       "      <td>50.0</td>\n",
       "      <td>1.020</td>\n",
       "      <td>4.0</td>\n",
       "      <td>0.0</td>\n",
       "      <td>NaN</td>\n",
       "      <td>normal</td>\n",
       "      <td>notpresent</td>\n",
       "      <td>notpresent</td>\n",
       "      <td>NaN</td>\n",
       "      <td>...</td>\n",
       "      <td>11.3</td>\n",
       "      <td>38.0</td>\n",
       "      <td>6000.0</td>\n",
       "      <td>NaN</td>\n",
       "      <td>no</td>\n",
       "      <td>no</td>\n",
       "      <td>no</td>\n",
       "      <td>good</td>\n",
       "      <td>no</td>\n",
       "      <td>no</td>\n",
       "    </tr>\n",
       "    <tr>\n",
       "      <th>2</th>\n",
       "      <td>62.0</td>\n",
       "      <td>80.0</td>\n",
       "      <td>1.010</td>\n",
       "      <td>2.0</td>\n",
       "      <td>3.0</td>\n",
       "      <td>normal</td>\n",
       "      <td>normal</td>\n",
       "      <td>notpresent</td>\n",
       "      <td>notpresent</td>\n",
       "      <td>423.0</td>\n",
       "      <td>...</td>\n",
       "      <td>9.6</td>\n",
       "      <td>31.0</td>\n",
       "      <td>7500.0</td>\n",
       "      <td>NaN</td>\n",
       "      <td>no</td>\n",
       "      <td>yes</td>\n",
       "      <td>no</td>\n",
       "      <td>poor</td>\n",
       "      <td>no</td>\n",
       "      <td>yes</td>\n",
       "    </tr>\n",
       "    <tr>\n",
       "      <th>3</th>\n",
       "      <td>48.0</td>\n",
       "      <td>70.0</td>\n",
       "      <td>1.005</td>\n",
       "      <td>4.0</td>\n",
       "      <td>0.0</td>\n",
       "      <td>normal</td>\n",
       "      <td>abnormal</td>\n",
       "      <td>present</td>\n",
       "      <td>notpresent</td>\n",
       "      <td>117.0</td>\n",
       "      <td>...</td>\n",
       "      <td>11.2</td>\n",
       "      <td>32.0</td>\n",
       "      <td>6700.0</td>\n",
       "      <td>3.9</td>\n",
       "      <td>yes</td>\n",
       "      <td>no</td>\n",
       "      <td>no</td>\n",
       "      <td>poor</td>\n",
       "      <td>yes</td>\n",
       "      <td>yes</td>\n",
       "    </tr>\n",
       "    <tr>\n",
       "      <th>4</th>\n",
       "      <td>51.0</td>\n",
       "      <td>80.0</td>\n",
       "      <td>1.010</td>\n",
       "      <td>2.0</td>\n",
       "      <td>0.0</td>\n",
       "      <td>normal</td>\n",
       "      <td>normal</td>\n",
       "      <td>notpresent</td>\n",
       "      <td>notpresent</td>\n",
       "      <td>106.0</td>\n",
       "      <td>...</td>\n",
       "      <td>11.6</td>\n",
       "      <td>35.0</td>\n",
       "      <td>7300.0</td>\n",
       "      <td>4.6</td>\n",
       "      <td>no</td>\n",
       "      <td>no</td>\n",
       "      <td>no</td>\n",
       "      <td>good</td>\n",
       "      <td>no</td>\n",
       "      <td>no</td>\n",
       "    </tr>\n",
       "  </tbody>\n",
       "</table>\n",
       "<p>5 rows × 24 columns</p>\n",
       "</div>"
      ],
      "text/plain": [
       "    age    bp     sg   al   su     rbc        pc         pcc          ba  \\\n",
       "0  48.0  80.0  1.020  1.0  0.0     NaN    normal  notpresent  notpresent   \n",
       "1   7.0  50.0  1.020  4.0  0.0     NaN    normal  notpresent  notpresent   \n",
       "2  62.0  80.0  1.010  2.0  3.0  normal    normal  notpresent  notpresent   \n",
       "3  48.0  70.0  1.005  4.0  0.0  normal  abnormal     present  notpresent   \n",
       "4  51.0  80.0  1.010  2.0  0.0  normal    normal  notpresent  notpresent   \n",
       "\n",
       "     bgr  ...  hemo   pcv      wc   rc  htn   dm  cad  appet   pe  ane  \n",
       "0  121.0  ...  15.4  44.0  7800.0  5.2  yes  yes   no   good   no   no  \n",
       "1    NaN  ...  11.3  38.0  6000.0  NaN   no   no   no   good   no   no  \n",
       "2  423.0  ...   9.6  31.0  7500.0  NaN   no  yes   no   poor   no  yes  \n",
       "3  117.0  ...  11.2  32.0  6700.0  3.9  yes   no   no   poor  yes  yes  \n",
       "4  106.0  ...  11.6  35.0  7300.0  4.6   no   no   no   good   no   no  \n",
       "\n",
       "[5 rows x 24 columns]"
      ]
     },
     "execution_count": 7,
     "metadata": {},
     "output_type": "execute_result"
    }
   ],
   "source": [
    "kidney_data=pd.read_csv(kidney_data_dir)\n",
    "y_kidney = kidney_data[kidney_target]\n",
    "x_kidney = kidney_data.drop([kidney_target], axis=1)\n",
    "x_kidney.head()"
   ]
  },
  {
   "cell_type": "code",
   "execution_count": 8,
   "metadata": {},
   "outputs": [],
   "source": [
    "aml_kidney=PharmAutoML(x_kidney,y_kidney)"
   ]
  },
  {
   "cell_type": "code",
   "execution_count": 9,
   "metadata": {},
   "outputs": [
    {
     "name": "stdout",
     "output_type": "stream",
     "text": [
      "Preprocessing Step 1: Manually Drop Features\n",
      "manually drop 0 features.\n",
      "Preprocessing Step 2: Find Single Unique Features\n",
      "0 features with a single unique value.\n",
      "Preprocessing Step 4: Find Collinear Features by Pearson Correlations\n",
      "0 features with a correlation magnitude greater than 0.98.\n",
      "Data Preprocessor Summary\n",
      "0 total features out of 24 identified for removal.\n",
      "{'drop_features': [], 'single_unique': [], 'collinear': []}\n",
      "0 total instances out of 400 identified for removal.\n",
      "{}\n",
      "imputation for training dataset\n",
      "['sg', 'al', 'su']\n",
      "0 categorical features are dropped due to high number of different values in categorical feature.\n",
      "[]\n",
      "for each preprocessing loop the allow missing classifier tuning record is\n",
      "0\n",
      "100%|██████████| 1/1 [00:10<00:00, 10.65s/trial, best loss: 0.009375000000000022]\n",
      "100%|██████████| 2/2 [00:36<00:00, 18.23s/trial, best loss: 0.009375000000000022]\n",
      "100%|██████████| 3/3 [00:12<00:00,  4.30s/trial, best loss: 0.009375000000000022]\n",
      "100%|██████████| 4/4 [00:08<00:00,  2.19s/trial, best loss: 0.009375000000000022]\n",
      "100%|██████████| 5/5 [00:05<00:00,  1.20s/trial, best loss: 0.009375000000000022]\n",
      "100%|██████████| 6/6 [00:08<00:00,  1.49s/trial, best loss: 0.009375000000000022]\n",
      "100%|██████████| 7/7 [00:09<00:00,  1.29s/trial, best loss: 0.009375000000000022]\n",
      "100%|██████████| 8/8 [00:05<00:00,  1.57trial/s, best loss: 0.009375000000000022]\n",
      "100%|██████████| 9/9 [00:10<00:00,  1.15s/trial, best loss: 0.009375000000000022]\n",
      "100%|██████████| 10/10 [00:03<00:00,  2.71trial/s, best loss: 0.009375000000000022]\n",
      "{'learner': XGBClassifier(base_score=0.5, booster=None, colsample_bylevel=0.772446586096798,\n",
      "              colsample_bynode=None, colsample_bytree=0.7610468182472572,\n",
      "              gamma=0.1140244575729465, gpu_id=None, importance_type='gain',\n",
      "              interaction_constraints=None, learning_rate=0.18712672485948104,\n",
      "              max_delta_step=0, max_depth=5, min_child_weight=1, missing=nan,\n",
      "              monotone_constraints=None, n_estimators=3800, n_jobs=None,\n",
      "              num_parallel_tree=None, objective='binary:logistic',\n",
      "              random_state=None, reg_alpha=0.0030275366142768646,\n",
      "              reg_lambda=1.363125091556292, scale_pos_weight=1, seed=0,\n",
      "              subsample=0.5193371635543145, tree_method=None,\n",
      "              validate_parameters=False, verbosity=None), 'preprocs': (), 'ex_preprocs': ()}\n"
     ]
    },
    {
     "name": "stderr",
     "output_type": "stream",
     "text": [
      "Setting a random_state has no effect since shuffle is False. This will raise an error in 0.24. You should leave random_state to its default (None), or set shuffle=True.\n"
     ]
    },
    {
     "name": "stdout",
     "output_type": "stream",
     "text": [
      "#################################\n",
      "for preprocess strategy number\n",
      "0\n",
      "ROC AUCS\n",
      "{'XGboost': 0.9996666666666667}\n",
      "ROC AUC stdev\n",
      "{'XGboost': 0.0004658474953124297}\n",
      "all metrics\n",
      "{'XGboost': {'acc': [0.96875, 1.0, 0.984375, 1.0, 1.0], 'auroc': [0.9989583333333334, 1.0, 1.0, 1.0, 1.0], 'auprc': [0.999390243902439, 1.0, 1.0, 1.0, 1.0], 'f1': [0.975, 1.0, 0.9873417721518987, 1.0, 1.0], 'sensitivity': [0.975, 1.0, 0.975, 1.0, 1.0], 'precision': [0.975, 1.0, 1.0, 1.0, 1.0]}}\n",
      "for para_index\n",
      "0\n",
      "['XGboost']\n",
      "[0]\n"
     ]
    },
    {
     "name": "stderr",
     "output_type": "stream",
     "text": [
      "Setting feature_perturbation = \"tree_path_dependent\" because no background data was given.\n",
      "Matplotlib is currently using agg, which is a non-GUI backend, so cannot show the figure.\n"
     ]
    },
    {
     "name": "stdout",
     "output_type": "stream",
     "text": [
      "each preprocessing loop\n",
      "0\n",
      "XGboost\n"
     ]
    },
    {
     "name": "stderr",
     "output_type": "stream",
     "text": [
      "Tight layout not applied. The left and right margins cannot be made large enough to accommodate all axes decorations. \n"
     ]
    },
    {
     "name": "stdout",
     "output_type": "stream",
     "text": [
      "1.0\n"
     ]
    }
   ],
   "source": [
    "kidney_allowMissing_path = kidney_result_path+ '/resultAllowMissing'\n",
    "kidney_result_allowMissing = aml_kidney.AutoML_allowMissing(kidney_allowMissing_path, preprocessing_paras, classifier_paras)"
   ]
  },
  {
   "cell_type": "code",
   "execution_count": null,
   "metadata": {},
   "outputs": [],
   "source": []
  }
 ],
 "metadata": {
  "kernelspec": {
   "display_name": "autoMLenv",
   "language": "python",
   "name": "automlenv"
  },
  "language_info": {
   "codemirror_mode": {
    "name": "ipython",
    "version": 3
   },
   "file_extension": ".py",
   "mimetype": "text/x-python",
   "name": "python",
   "nbconvert_exporter": "python",
   "pygments_lexer": "ipython3",
   "version": "3.7.7"
  }
 },
 "nbformat": 4,
 "nbformat_minor": 4
}
