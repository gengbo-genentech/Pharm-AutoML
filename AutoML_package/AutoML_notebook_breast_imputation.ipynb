{
 "cells": [
  {
   "cell_type": "code",
   "execution_count": 1,
   "metadata": {},
   "outputs": [
    {
     "name": "stdout",
     "output_type": "stream",
     "text": [
      "/Users/liug28/Downloads/AutoML/AutoML_package\n"
     ]
    }
   ],
   "source": [
    "import os\n",
    "cwd = os.getcwd()\n",
    "import sys\n",
    "sys.path.append(cwd+\"/src_autoML/\")\n",
    "print (cwd)"
   ]
  },
  {
   "cell_type": "code",
   "execution_count": 2,
   "metadata": {},
   "outputs": [
    {
     "name": "stdout",
     "output_type": "stream",
     "text": [
      "WARN: OMP_NUM_THREADS=None =>\n",
      "... If you are using openblas if you are using openblas set OMP_NUM_THREADS=1 or risk subprocess calls hanging indefinitely\n"
     ]
    }
   ],
   "source": [
    "import pandas as pd\n",
    "import numpy as np\n",
    "from PharmAutoML import PharmAutoML"
   ]
  },
  {
   "cell_type": "code",
   "execution_count": 3,
   "metadata": {},
   "outputs": [],
   "source": [
    "# remove_features = None\n",
    "categorical_features = []"
   ]
  },
  {
   "cell_type": "code",
   "execution_count": 4,
   "metadata": {},
   "outputs": [
    {
     "name": "stdout",
     "output_type": "stream",
     "text": [
      "{'drop_features': [[]], 'categorical_features': [[]], 'missing_threshold_rows': [0.2], 'missing_threshold_columns': [0.2], 'correlation_threshold': [0.98], 'check_diff_categorical_threshold': [0.1], 'add_nan_label': [False], 'impute_category_strategy': ['most_frequent'], 'impute_numerical_strategy': ['mean']}\n"
     ]
    }
   ],
   "source": [
    "preprocessing_paras = {}\n",
    "preprocessing_paras['drop_features']=[[]]\n",
    "preprocessing_paras['categorical_features']=[categorical_features]\n",
    "preprocessing_paras['missing_threshold_rows']=[0.2]\n",
    "preprocessing_paras['missing_threshold_columns']=[0.2]\n",
    "preprocessing_paras['correlation_threshold']=[0.98]\n",
    "preprocessing_paras['check_diff_categorical_threshold']=[0.1]\n",
    "preprocessing_paras['add_nan_label']=[False]\n",
    "preprocessing_paras['impute_category_strategy']=[\"most_frequent\"]\n",
    "preprocessing_paras['impute_numerical_strategy']=[\"mean\"]\n",
    "print (preprocessing_paras)"
   ]
  },
  {
   "cell_type": "code",
   "execution_count": 5,
   "metadata": {},
   "outputs": [
    {
     "name": "stdout",
     "output_type": "stream",
     "text": [
      "{'PCA_featureReduction_orNot': False, 'PCA_featureReduction_num': None, 'clfs': ['SVC', 'KNN', 'RF', 'ET', 'AB', 'GB', 'SGD', 'XGboost', 'LRC'], 'n_fold': 5, 'n_repeats': None, 'useDropColFeaImport': False}\n"
     ]
    }
   ],
   "source": [
    "classifier_paras = {}\n",
    "classifier_paras['PCA_featureReduction_orNot']=False\n",
    "classifier_paras['PCA_featureReduction_num']=None\n",
    "classifier_paras['clfs']=['SVC','KNN','RF','ET','AB','GB','SGD','XGboost','LRC']\n",
    "classifier_paras['n_fold']=5\n",
    "classifier_paras['n_repeats']=None\n",
    "classifier_paras['useDropColFeaImport']=False\n",
    "print (classifier_paras)"
   ]
  },
  {
   "cell_type": "markdown",
   "metadata": {},
   "source": [
    "## breast cancer"
   ]
  },
  {
   "cell_type": "code",
   "execution_count": 6,
   "metadata": {},
   "outputs": [],
   "source": [
    "breast_result_path=cwd+\"/src_autoML/examples/breast_result\"\n",
    "breast_data_dir=cwd+\"/src_autoML/examples/data/breast_cancer.csv\"\n",
    "breast_target = 'irradiat'"
   ]
  },
  {
   "cell_type": "code",
   "execution_count": 7,
   "metadata": {},
   "outputs": [
    {
     "data": {
      "text/html": [
       "<div>\n",
       "<style scoped>\n",
       "    .dataframe tbody tr th:only-of-type {\n",
       "        vertical-align: middle;\n",
       "    }\n",
       "\n",
       "    .dataframe tbody tr th {\n",
       "        vertical-align: top;\n",
       "    }\n",
       "\n",
       "    .dataframe thead th {\n",
       "        text-align: right;\n",
       "    }\n",
       "</style>\n",
       "<table border=\"1\" class=\"dataframe\">\n",
       "  <thead>\n",
       "    <tr style=\"text-align: right;\">\n",
       "      <th></th>\n",
       "      <th>Target</th>\n",
       "      <th>age_catg</th>\n",
       "      <th>menopause</th>\n",
       "      <th>tumor-size</th>\n",
       "      <th>inv-nodes</th>\n",
       "      <th>node-caps</th>\n",
       "      <th>degree malignant</th>\n",
       "      <th>breast</th>\n",
       "      <th>breast-quad</th>\n",
       "    </tr>\n",
       "  </thead>\n",
       "  <tbody>\n",
       "    <tr>\n",
       "      <th>0</th>\n",
       "      <td>no-recurrence-events</td>\n",
       "      <td>30-39</td>\n",
       "      <td>premeno</td>\n",
       "      <td>30-34</td>\n",
       "      <td>0-2</td>\n",
       "      <td>no</td>\n",
       "      <td>3</td>\n",
       "      <td>left</td>\n",
       "      <td>left_low</td>\n",
       "    </tr>\n",
       "    <tr>\n",
       "      <th>1</th>\n",
       "      <td>no-recurrence-events</td>\n",
       "      <td>40-49</td>\n",
       "      <td>premeno</td>\n",
       "      <td>20-24</td>\n",
       "      <td>0-2</td>\n",
       "      <td>no</td>\n",
       "      <td>2</td>\n",
       "      <td>right</td>\n",
       "      <td>right_up</td>\n",
       "    </tr>\n",
       "    <tr>\n",
       "      <th>2</th>\n",
       "      <td>no-recurrence-events</td>\n",
       "      <td>40-49</td>\n",
       "      <td>premeno</td>\n",
       "      <td>20-24</td>\n",
       "      <td>0-2</td>\n",
       "      <td>no</td>\n",
       "      <td>2</td>\n",
       "      <td>left</td>\n",
       "      <td>left_low</td>\n",
       "    </tr>\n",
       "    <tr>\n",
       "      <th>3</th>\n",
       "      <td>no-recurrence-events</td>\n",
       "      <td>60-69</td>\n",
       "      <td>ge40</td>\n",
       "      <td>15-19</td>\n",
       "      <td>0-2</td>\n",
       "      <td>no</td>\n",
       "      <td>2</td>\n",
       "      <td>right</td>\n",
       "      <td>left_up</td>\n",
       "    </tr>\n",
       "    <tr>\n",
       "      <th>4</th>\n",
       "      <td>no-recurrence-events</td>\n",
       "      <td>40-49</td>\n",
       "      <td>premeno</td>\n",
       "      <td>0-4</td>\n",
       "      <td>0-2</td>\n",
       "      <td>no</td>\n",
       "      <td>2</td>\n",
       "      <td>right</td>\n",
       "      <td>right_low</td>\n",
       "    </tr>\n",
       "  </tbody>\n",
       "</table>\n",
       "</div>"
      ],
      "text/plain": [
       "                 Target age_catg menopause tumor-size inv-nodes node-caps  \\\n",
       "0  no-recurrence-events    30-39   premeno      30-34       0-2        no   \n",
       "1  no-recurrence-events    40-49   premeno      20-24       0-2        no   \n",
       "2  no-recurrence-events    40-49   premeno      20-24       0-2        no   \n",
       "3  no-recurrence-events    60-69      ge40      15-19       0-2        no   \n",
       "4  no-recurrence-events    40-49   premeno        0-4       0-2        no   \n",
       "\n",
       "   degree malignant breast breast-quad  \n",
       "0                 3   left    left_low  \n",
       "1                 2  right    right_up  \n",
       "2                 2   left    left_low  \n",
       "3                 2  right     left_up  \n",
       "4                 2  right   right_low  "
      ]
     },
     "execution_count": 7,
     "metadata": {},
     "output_type": "execute_result"
    }
   ],
   "source": [
    "breast_data=pd.read_csv(breast_data_dir)\n",
    "y_breast = breast_data[breast_target]\n",
    "x_breast = breast_data.drop([breast_target], axis=1)\n",
    "x_breast.head()"
   ]
  },
  {
   "cell_type": "code",
   "execution_count": 8,
   "metadata": {},
   "outputs": [],
   "source": [
    "aml_breast=PharmAutoML(x_breast,y_breast)"
   ]
  },
  {
   "cell_type": "code",
   "execution_count": 9,
   "metadata": {},
   "outputs": [
    {
     "name": "stdout",
     "output_type": "stream",
     "text": [
      "preprocessing parameter dictionary is\n",
      "{'drop_features': [[]], 'categorical_features': [[]], 'missing_threshold_rows': [0.2], 'missing_threshold_columns': [0.2], 'correlation_threshold': [0.98], 'check_diff_categorical_threshold': [0.1], 'add_nan_label': [False], 'impute_category_strategy': ['most_frequent'], 'impute_numerical_strategy': ['mean']}\n",
      "parameter grid is\n",
      "[{'add_nan_label': False, 'categorical_features': [], 'check_diff_categorical_threshold': 0.1, 'correlation_threshold': 0.98, 'drop_features': [], 'impute_category_strategy': 'most_frequent', 'impute_numerical_strategy': 'mean', 'missing_threshold_columns': 0.2, 'missing_threshold_rows': 0.2}]\n",
      "param\n",
      "{'add_nan_label': False, 'categorical_features': [], 'check_diff_categorical_threshold': 0.1, 'correlation_threshold': 0.98, 'drop_features': [], 'impute_category_strategy': 'most_frequent', 'impute_numerical_strategy': 'mean', 'missing_threshold_columns': 0.2, 'missing_threshold_rows': 0.2}\n",
      "Preprocessing Step 1: Manually Drop Features\n",
      "manually drop 0 features.\n",
      "Preprocessing Step 2: Find Single Unique Features\n",
      "0 features with a single unique value.\n",
      "Preprocessing Step 3: Find Missing\n",
      "0 instances have more than 0.20 fraction of missing values.\n",
      "Preprocessing Step 3: Find Missing\n",
      "0 features have more than 0.20 fraction of missing values.\n",
      "Preprocessing Step 4: Find Collinear Features by Pearson Correlations\n",
      "0 features with a correlation magnitude greater than 0.98.\n"
     ]
    },
    {
     "name": "stderr",
     "output_type": "stream",
     "text": [
      "Tight layout not applied. The bottom and top margins cannot be made large enough to accommodate all axes decorations. \n"
     ]
    },
    {
     "name": "stdout",
     "output_type": "stream",
     "text": [
      "Data Preprocessor Summary\n",
      "0 total features out of 9 identified for removal.\n",
      "{'drop_features': [], 'single_unique': [], 'missing_features': [], 'collinear': []}\n",
      "0 total instances out of 286 identified for removal.\n",
      "{'missing_instances': []}\n",
      "imputation for training dataset\n",
      "0 categorical features are dropped due to high number of different values in categorical feature.\n",
      "[]\n",
      "the imputed categorical features include node-caps, breast-quad\n",
      "data imputation summary\n",
      "{'categorical': ['node-caps', 'breast-quad'], 'numerical': []}\n",
      "for each preprocessing loop the classifier tuning record is\n",
      "0\n",
      "100%|██████████| 1/1 [00:00<00:00, 27.60trial/s, best loss: 0.2543859649122807]\n",
      "100%|██████████| 2/2 [00:00<00:00, 62.23trial/s, best loss: 0.2543859649122807]\n",
      "100%|██████████| 3/3 [00:00<00:00, 91.71trial/s, best loss: 0.2543859649122807]\n",
      "100%|██████████| 4/4 [00:00<00:00, 118.15trial/s, best loss: 0.2543859649122807]\n",
      "100%|██████████| 5/5 [00:00<00:00, 151.05trial/s, best loss: 0.2543859649122807]\n",
      "100%|██████████| 6/6 [00:00<00:00, 180.31trial/s, best loss: 0.2543859649122807]\n",
      "100%|██████████| 7/7 [00:00<00:00, 224.63trial/s, best loss: 0.2543859649122807]\n",
      "100%|██████████| 8/8 [00:00<00:00, 193.83trial/s, best loss: 0.2543859649122807]\n",
      "100%|██████████| 9/9 [00:00<00:00, 197.55trial/s, best loss: 0.2543859649122807]\n",
      "100%|██████████| 10/10 [00:00<00:00, 269.81trial/s, best loss: 0.2543859649122807]\n",
      "{'learner': LogisticRegression(C=25.206514288611416, class_weight=None, dual=False,\n",
      "                   fit_intercept=True, intercept_scaling=3.006072011135968,\n",
      "                   l1_ratio=None, max_iter=100, multi_class='auto', n_jobs=None,\n",
      "                   penalty='l2', random_state=0, solver='liblinear',\n",
      "                   tol=0.0011733778556228104, verbose=0, warm_start=False), 'preprocs': (StandardScaler(copy=True, with_mean=True, with_std=True),), 'ex_preprocs': ()}\n",
      "100%|██████████| 1/1 [00:00<00:00, 18.14trial/s, best loss: 0.23684210526315785]\n",
      "100%|██████████| 2/2 [00:00<00:00, 15.71trial/s, best loss: 0.23684210526315785]\n",
      "100%|██████████| 3/3 [00:00<00:00, 45.96trial/s, best loss: 0.23684210526315785]\n",
      "100%|██████████| 4/4 [00:00<00:00, 42.72trial/s, best loss: 0.23684210526315785]\n",
      "100%|██████████| 5/5 [00:00<00:00, 89.93trial/s, best loss: 0.23684210526315785]\n",
      "100%|██████████| 6/6 [00:00<00:00, 89.76trial/s, best loss: 0.23245614035087714]\n",
      "100%|██████████| 7/7 [00:00<00:00, 64.13trial/s, best loss: 0.23245614035087714]\n",
      "100%|██████████| 8/8 [00:00<00:00, 107.63trial/s, best loss: 0.23245614035087714]\n",
      "100%|██████████| 9/9 [00:00<00:00, 136.47trial/s, best loss: 0.23245614035087714]\n",
      " 90%|█████████ | 9/10 [00:00<?, ?trial/s, best loss=?]"
     ]
    },
    {
     "name": "stderr",
     "output_type": "stream",
     "text": [
      "Solver terminated early (max_iter=25204239).  Consider pre-processing your data with StandardScaler or MinMaxScaler.\n",
      "\n",
      "Solver terminated early (max_iter=25204239).  Consider pre-processing your data with StandardScaler or MinMaxScaler.\n",
      "\n",
      "Solver terminated early (max_iter=25204239).  Consider pre-processing your data with StandardScaler or MinMaxScaler.\n",
      "\n",
      "Solver terminated early (max_iter=25204239).  Consider pre-processing your data with StandardScaler or MinMaxScaler.\n",
      "\n"
     ]
    },
    {
     "name": "stdout",
     "output_type": "stream",
     "text": [
      "100%|██████████| 10/10 [06:12<00:00, 37.25s/trial, best loss: 0.23245614035087714] \n",
      "{'learner': SVC(C=0.00023631400254818475, break_ties=False, cache_size=512,\n",
      "    class_weight=None, coef0=27.981642254386216, decision_function_shape='ovr',\n",
      "    degree=2.0, gamma=4.2190496628469125, kernel='poly', max_iter=140901121.0,\n",
      "    probability=True, random_state=0, shrinking=False, tol=0.001019150988956005,\n",
      "    verbose=False), 'preprocs': (StandardScaler(copy=True, with_mean=True, with_std=False),), 'ex_preprocs': ()}\n",
      "100%|██████████| 1/1 [00:00<00:00, 25.45trial/s, best loss: 0.24122807017543857]\n",
      "100%|██████████| 2/2 [00:00<00:00, 44.79trial/s, best loss: 0.24122807017543857]\n",
      "100%|██████████| 3/3 [00:00<00:00, 68.85trial/s, best loss: 0.24122807017543857]\n",
      "100%|██████████| 4/4 [00:00<00:00, 97.16trial/s, best loss: 0.24122807017543857]\n",
      "100%|██████████| 5/5 [00:00<00:00, 142.14trial/s, best loss: 0.24122807017543857]\n",
      "100%|██████████| 6/6 [00:00<00:00, 161.46trial/s, best loss: 0.23245614035087714]\n",
      "100%|██████████| 7/7 [00:00<00:00, 193.21trial/s, best loss: 0.23245614035087714]\n",
      "100%|██████████| 8/8 [00:00<00:00, 182.58trial/s, best loss: 0.23245614035087714]\n",
      "100%|██████████| 9/9 [00:00<00:00, 235.89trial/s, best loss: 0.23245614035087714]\n",
      "100%|██████████| 10/10 [00:00<00:00, 221.38trial/s, best loss: 0.23245614035087714]\n",
      "{'learner': KNeighborsClassifier(algorithm='auto', leaf_size=30, metric='euclidean',\n",
      "                     metric_params=None, n_jobs=1, n_neighbors=17, p=2,\n",
      "                     weights='distance'), 'preprocs': (StandardScaler(copy=True, with_mean=True, with_std=False),), 'ex_preprocs': ()}\n",
      "100%|██████████| 1/1 [00:00<00:00,  1.46trial/s, best loss: 0.2763157894736842]\n",
      "100%|██████████| 2/2 [00:03<00:00,  1.93s/trial, best loss: 0.2763157894736842]\n",
      "100%|██████████| 3/3 [00:00<00:00,  5.21trial/s, best loss: 0.27192982456140347]\n",
      "100%|██████████| 4/4 [00:00<00:00,  7.88trial/s, best loss: 0.27192982456140347]\n",
      "100%|██████████| 5/5 [00:06<00:00,  1.30s/trial, best loss: 0.23684210526315785]\n",
      "100%|██████████| 6/6 [00:00<00:00, 28.78trial/s, best loss: 0.23684210526315785]\n",
      "100%|██████████| 7/7 [00:00<00:00, 11.51trial/s, best loss: 0.23684210526315785]\n",
      "100%|██████████| 8/8 [00:00<00:00, 35.08trial/s, best loss: 0.23684210526315785]\n",
      "100%|██████████| 9/9 [00:00<00:00, 69.70trial/s, best loss: 0.23684210526315785]\n",
      "100%|██████████| 10/10 [00:00<00:00, 18.49trial/s, best loss: 0.23684210526315785]\n",
      "{'learner': RandomForestClassifier(bootstrap=True, ccp_alpha=0.0, class_weight=None,\n",
      "                       criterion='entropy', max_depth=2, max_features='sqrt',\n",
      "                       max_leaf_nodes=None, max_samples=None,\n",
      "                       min_impurity_decrease=0.0, min_impurity_split=None,\n",
      "                       min_samples_leaf=1, min_samples_split=2,\n",
      "                       min_weight_fraction_leaf=0.0, n_estimators=1345,\n",
      "                       n_jobs=1, oob_score=False, random_state=0, verbose=False,\n",
      "                       warm_start=False), 'preprocs': (StandardScaler(copy=True, with_mean=False, with_std=True),), 'ex_preprocs': ()}\n",
      "100%|██████████| 1/1 [00:00<00:00,  3.15trial/s, best loss: 0.29385964912280704]\n",
      "100%|██████████| 2/2 [00:00<00:00, 19.40trial/s, best loss: 0.25]\n",
      "100%|██████████| 3/3 [00:09<00:00,  3.21s/trial, best loss: 0.25]\n",
      "100%|██████████| 4/4 [00:02<00:00,  1.72trial/s, best loss: 0.25]\n",
      "100%|██████████| 5/5 [00:01<00:00,  3.04trial/s, best loss: 0.23684210526315785]\n",
      "100%|██████████| 6/6 [00:00<00:00, 11.60trial/s, best loss: 0.23684210526315785]\n",
      "100%|██████████| 7/7 [00:00<00:00, 64.82trial/s, best loss: 0.23684210526315785]\n",
      "100%|██████████| 8/8 [00:11<00:00,  1.38s/trial, best loss: 0.23684210526315785]\n",
      "100%|██████████| 9/9 [00:00<00:00, 27.39trial/s, best loss: 0.23684210526315785]\n",
      "100%|██████████| 10/10 [00:03<00:00,  2.80trial/s, best loss: 0.23684210526315785]\n",
      "{'learner': ExtraTreesClassifier(bootstrap=False, ccp_alpha=0.0, class_weight=None,\n",
      "                     criterion='entropy', max_depth=2,\n",
      "                     max_features=0.09287580762075742, max_leaf_nodes=None,\n",
      "                     max_samples=None, min_impurity_decrease=0.0,\n",
      "                     min_impurity_split=None, min_samples_leaf=45,\n",
      "                     min_samples_split=2, min_weight_fraction_leaf=0.0,\n",
      "                     n_estimators=430, n_jobs=1, oob_score=False,\n",
      "                     random_state=0, verbose=False, warm_start=False), 'preprocs': (StandardScaler(copy=True, with_mean=False, with_std=True),), 'ex_preprocs': ()}\n",
      "100%|██████████| 1/1 [00:00<00:00, 10.02trial/s, best loss: 0.2192982456140351]\n",
      "100%|██████████| 2/2 [00:00<00:00,  7.13trial/s, best loss: 0.2192982456140351]\n",
      "100%|██████████| 3/3 [00:00<00:00, 29.10trial/s, best loss: 0.2192982456140351]\n",
      "100%|██████████| 4/4 [00:00<00:00,  6.93trial/s, best loss: 0.2192982456140351]\n",
      "100%|██████████| 5/5 [00:00<00:00, 51.43trial/s, best loss: 0.2192982456140351]\n",
      "100%|██████████| 6/6 [00:02<00:00,  2.20trial/s, best loss: 0.2192982456140351]\n",
      "100%|██████████| 7/7 [00:00<00:00,  7.74trial/s, best loss: 0.2192982456140351]\n",
      "100%|██████████| 8/8 [00:00<00:00, 63.33trial/s, best loss: 0.2192982456140351]\n",
      "100%|██████████| 9/9 [00:00<00:00, 73.27trial/s, best loss: 0.2192982456140351]\n",
      "100%|██████████| 10/10 [00:00<00:00, 31.64trial/s, best loss: 0.2192982456140351]\n",
      "{'learner': AdaBoostClassifier(algorithm='SAMME.R', base_estimator=None,\n",
      "                   learning_rate=0.021206903986049422, n_estimators=12,\n",
      "                   random_state=0), 'preprocs': (StandardScaler(copy=True, with_mean=True, with_std=True),), 'ex_preprocs': ()}\n",
      "100%|██████████| 1/1 [00:00<00:00,  1.71trial/s, best loss: 0.23684210526315785]\n",
      "100%|██████████| 2/2 [00:00<00:00,  5.37trial/s, best loss: 0.23684210526315785]\n",
      "100%|██████████| 3/3 [00:01<00:00,  1.65trial/s, best loss: 0.23684210526315785]\n",
      "100%|██████████| 4/4 [00:00<00:00,  4.56trial/s, best loss: 0.23684210526315785]\n",
      "100%|██████████| 5/5 [00:00<00:00, 22.69trial/s, best loss: 0.23684210526315785]\n",
      "100%|██████████| 6/6 [00:01<00:00,  4.41trial/s, best loss: 0.23684210526315785]\n",
      "100%|██████████| 7/7 [00:00<00:00, 30.66trial/s, best loss: 0.23684210526315785]\n",
      "100%|██████████| 8/8 [00:03<00:00,  2.30trial/s, best loss: 0.23684210526315785]\n",
      "100%|██████████| 9/9 [00:02<00:00,  3.47trial/s, best loss: 0.23684210526315785]\n",
      "100%|██████████| 10/10 [00:01<00:00,  7.09trial/s, best loss: 0.23684210526315785]\n",
      "{'learner': GradientBoostingClassifier(ccp_alpha=0.0, criterion='friedman_mse', init=None,\n",
      "                           learning_rate=0.0007329957620283594,\n",
      "                           loss='exponential', max_depth=None,\n",
      "                           max_features='sqrt', max_leaf_nodes=None,\n",
      "                           min_impurity_decrease=0.0, min_impurity_split=None,\n",
      "                           min_samples_leaf=1, min_samples_split=2,\n",
      "                           min_weight_fraction_leaf=0.0, n_estimators=44,\n",
      "                           n_iter_no_change=None, presort='deprecated',\n",
      "                           random_state=0, subsample=0.8112243616819902,\n",
      "                           tol=0.0001, validation_fraction=0.1, verbose=0,\n",
      "                           warm_start=False), 'preprocs': (StandardScaler(copy=True, with_mean=True, with_std=False),), 'ex_preprocs': ()}\n",
      "100%|██████████| 1/1 [00:00<00:00, 22.42trial/s, best loss: 0.27192982456140347]\n",
      "100%|██████████| 2/2 [00:00<00:00, 45.69trial/s, best loss: 0.25877192982456143]\n",
      "100%|██████████| 3/3 [00:00<00:00, 24.77trial/s, best loss: 0.24122807017543857]\n",
      "100%|██████████| 4/4 [00:00<00:00, 106.15trial/s, best loss: 0.24122807017543857]\n",
      "100%|██████████| 5/5 [00:00<00:00, 50.70trial/s, best loss: 0.24122807017543857]\n",
      "100%|██████████| 6/6 [00:00<00:00, 46.71trial/s, best loss: 0.24122807017543857]\n",
      "100%|██████████| 7/7 [00:00<00:00, 171.30trial/s, best loss: 0.24122807017543857]\n",
      "100%|██████████| 8/8 [00:00<00:00, 160.87trial/s, best loss: 0.24122807017543857]\n",
      "100%|██████████| 9/9 [00:00<00:00, 198.91trial/s, best loss: 0.24122807017543857]\n",
      "100%|██████████| 10/10 [00:00<00:00, 28.12trial/s, best loss: 0.24122807017543857]\n",
      "{'learner': SGDClassifier(alpha=0.0007129487118926585, average=False, class_weight=None,\n",
      "              early_stopping=False, epsilon=0.1, eta0=0.0006810362686230916,\n",
      "              fit_intercept=True, l1_ratio=0.9100080019842989,\n",
      "              learning_rate='invscaling', loss='log', max_iter=84510120.0,\n",
      "              n_iter_no_change=5, n_jobs=1, penalty='elasticnet',\n",
      "              power_t=0.32274224520690664, random_state=0, shuffle=True,\n",
      "              tol=0.0001483609259397412, validation_fraction=0.1, verbose=False,\n",
      "              warm_start=False), 'preprocs': (StandardScaler(copy=True, with_mean=True, with_std=True),), 'ex_preprocs': ()}\n",
      "100%|██████████| 1/1 [00:00<00:00,  1.57trial/s, best loss: 0.25]\n",
      "100%|██████████| 2/2 [00:00<00:00,  2.39trial/s, best loss: 0.24122807017543857]\n",
      "100%|██████████| 3/3 [00:00<00:00,  3.08trial/s, best loss: 0.24122807017543857]\n",
      "100%|██████████| 4/4 [00:00<00:00, 11.99trial/s, best loss: 0.24122807017543857]\n",
      "100%|██████████| 5/5 [00:01<00:00,  2.63trial/s, best loss: 0.24122807017543857]\n",
      "100%|██████████| 6/6 [00:03<00:00,  1.90trial/s, best loss: 0.24122807017543857]\n",
      "100%|██████████| 7/7 [00:02<00:00,  2.90trial/s, best loss: 0.24122807017543857]\n",
      "100%|██████████| 8/8 [00:01<00:00,  4.83trial/s, best loss: 0.24122807017543857]\n",
      "100%|██████████| 9/9 [00:02<00:00,  3.01trial/s, best loss: 0.24122807017543857]\n",
      "100%|██████████| 10/10 [00:03<00:00,  2.76trial/s, best loss: 0.24122807017543857]\n",
      "{'learner': XGBClassifier(base_score=0.5, booster=None,\n",
      "              colsample_bylevel=0.7153195853744725, colsample_bynode=None,\n",
      "              colsample_bytree=0.7170719275249013, gamma=0.17383497050871827,\n",
      "              gpu_id=None, importance_type='gain', interaction_constraints=None,\n",
      "              learning_rate=0.4671757109673446, max_delta_step=0, max_depth=8,\n",
      "              min_child_weight=2, missing=nan, monotone_constraints=None,\n",
      "              n_estimators=1400, n_jobs=None, num_parallel_tree=None,\n",
      "              objective='binary:logistic', random_state=None,\n",
      "              reg_alpha=0.24407523413137389, reg_lambda=8.094586995140514,\n",
      "              scale_pos_weight=1, seed=0, subsample=0.6528170453675631,\n",
      "              tree_method=None, validate_parameters=False, verbosity=None), 'preprocs': (StandardScaler(copy=True, with_mean=False, with_std=False),), 'ex_preprocs': ()}\n"
     ]
    },
    {
     "name": "stderr",
     "output_type": "stream",
     "text": [
      "Setting a random_state has no effect since shuffle is False. This will raise an error in 0.24. You should leave random_state to its default (None), or set shuffle=True.\n",
      "Setting a random_state has no effect since shuffle is False. This will raise an error in 0.24. You should leave random_state to its default (None), or set shuffle=True.\n",
      "Setting a random_state has no effect since shuffle is False. This will raise an error in 0.24. You should leave random_state to its default (None), or set shuffle=True.\n",
      "Setting a random_state has no effect since shuffle is False. This will raise an error in 0.24. You should leave random_state to its default (None), or set shuffle=True.\n",
      "Setting a random_state has no effect since shuffle is False. This will raise an error in 0.24. You should leave random_state to its default (None), or set shuffle=True.\n",
      "Setting a random_state has no effect since shuffle is False. This will raise an error in 0.24. You should leave random_state to its default (None), or set shuffle=True.\n",
      "Setting a random_state has no effect since shuffle is False. This will raise an error in 0.24. You should leave random_state to its default (None), or set shuffle=True.\n",
      "Setting a random_state has no effect since shuffle is False. This will raise an error in 0.24. You should leave random_state to its default (None), or set shuffle=True.\n",
      "Setting a random_state has no effect since shuffle is False. This will raise an error in 0.24. You should leave random_state to its default (None), or set shuffle=True.\n"
     ]
    },
    {
     "name": "stdout",
     "output_type": "stream",
     "text": [
      "#################################\n",
      "for preprocess strategy number\n",
      "0\n",
      "ROC AUCS\n",
      "{'SVC': 0.6971051511281396, 'KNN': 0.6879523201362282, 'RF': 0.7595785440613027, 'ET': 0.7100361856108983, 'AB': 0.6619306087696892, 'GB': 0.6868880374627502, 'SGD': 0.7761813537675606, 'XGboost': 0.6497445721583653, 'LRC': 0.7155172413793104}\n",
      "ROC AUC stdev\n",
      "{'SVC': 0.10138255237412587, 'KNN': 0.13049232773063435, 'RF': 0.09413611974322261, 'ET': 0.10098542552038212, 'AB': 0.09463476520575428, 'GB': 0.11291906001003613, 'SGD': 0.08832135045913968, 'XGboost': 0.10377190628644543, 'LRC': 0.0551786970449394}\n",
      "all metrics\n",
      "{'SVC': {'acc': [0.7608695652173914, 0.7391304347826086, 0.7608695652173914, 0.7777777777777778, 0.7333333333333333], 'auroc': [0.7454545454545454, 0.6727272727272727, 0.8233766233766233, 0.7628571428571429, 0.5588235294117647], 'auprc': [0.8995970543204895, 0.8709587592023289, 0.9425120235478915, 0.9333992871904672, 0.8023187007360153], 'f1': [0.8641975308641976, 0.8461538461538461, 0.8641975308641976, 0.8750000000000001, 0.846153846153846], 'sensitivity': [1.0, 0.9428571428571428, 1.0, 1.0, 0.9705882352941176], 'precision': [0.7608695652173914, 0.7674418604651163, 0.7608695652173914, 0.7777777777777778, 0.75]}, 'KNN': {'acc': [0.7608695652173914, 0.7391304347826086, 0.7608695652173914, 0.8444444444444444, 0.7333333333333333], 'auroc': [0.8233766233766233, 0.5298701298701298, 0.7012987012987013, 0.8114285714285714, 0.5909090909090909], 'auprc': [0.9458752486868984, 0.7655707099828685, 0.8985887035088546, 0.9130237885022497, 0.8130634921546523], 'f1': [0.8607594936708862, 0.8421052631578947, 0.8571428571428571, 0.9090909090909091, 0.8421052631578947], 'sensitivity': [0.9714285714285714, 0.9142857142857143, 0.9428571428571428, 1.0, 0.9411764705882353], 'precision': [0.7727272727272727, 0.7804878048780488, 0.7857142857142857, 0.8333333333333334, 0.7619047619047619]}, 'RF': {'acc': [0.7608695652173914, 0.7608695652173914, 0.7608695652173914, 0.7777777777777778, 0.7333333333333333], 'auroc': [0.8857142857142858, 0.6623376623376623, 0.8207792207792208, 0.7828571428571429, 0.6818181818181818], 'auprc': [0.9685390654249834, 0.8525831119305248, 0.9404980033307799, 0.929654703418303, 0.8718349156472489], 'f1': [0.8641975308641976, 0.8607594936708862, 0.8641975308641976, 0.8750000000000001, 0.846153846153846], 'sensitivity': [1.0, 0.9714285714285714, 1.0, 1.0, 0.9705882352941176], 'precision': [0.7608695652173914, 0.7727272727272727, 0.7608695652173914, 0.7777777777777778, 0.75]}, 'ET': {'acc': [0.7608695652173914, 0.7608695652173914, 0.7608695652173914, 0.7777777777777778, 0.7555555555555555], 'auroc': [0.8051948051948051, 0.7441558441558441, 0.8051948051948052, 0.6514285714285715, 0.5748663101604278], 'auprc': [0.9449596560099797, 0.9172225896592539, 0.9369972129429689, 0.873986379407318, 0.8279794260733808], 'f1': [0.8641975308641976, 0.8641975308641976, 0.8641975308641976, 0.8750000000000001, 0.8607594936708861], 'sensitivity': [1.0, 1.0, 1.0, 1.0, 1.0], 'precision': [0.7608695652173914, 0.7608695652173914, 0.7608695652173914, 0.7777777777777778, 0.7555555555555555]}, 'AB': {'acc': [0.8260869565217391, 0.717391304347826, 0.8260869565217391, 0.7777777777777778, 0.7555555555555555], 'auroc': [0.7922077922077921, 0.6272727272727273, 0.7922077922077921, 0.75, 0.5922459893048129], 'auprc': [0.8879164313946922, 0.810997442455243, 0.8879164313946922, 0.878136200716846, 0.7914027149321267], 'f1': [0.8823529411764706, 0.8115942028985507, 0.8823529411764706, 0.8484848484848486, 0.8493150684931507], 'sensitivity': [0.8571428571428571, 0.8, 0.8571428571428571, 0.8, 0.9117647058823529], 'precision': [0.9090909090909091, 0.8235294117647058, 0.9090909090909091, 0.9032258064516129, 0.7948717948717948]}, 'GB': {'acc': [0.7608695652173914, 0.7608695652173914, 0.7608695652173914, 0.7777777777777778, 0.7555555555555555], 'auroc': [0.8402597402597403, 0.57012987012987, 0.6675324675324675, 0.7757142857142857, 0.6109625668449198], 'auprc': [0.9440067875573189, 0.7727671619629295, 0.8707696869632453, 0.8915287635481483, 0.7820591379134005], 'f1': [0.8641975308641976, 0.8641975308641976, 0.8641975308641976, 0.8750000000000001, 0.8607594936708861], 'sensitivity': [1.0, 1.0, 1.0, 1.0, 1.0], 'precision': [0.7608695652173914, 0.7608695652173914, 0.7608695652173914, 0.7777777777777778, 0.7555555555555555]}, 'SGD': {'acc': [0.8260869565217391, 0.717391304347826, 0.782608695652174, 0.7555555555555555, 0.7111111111111111], 'auroc': [0.8909090909090909, 0.7194805194805195, 0.8363636363636364, 0.8114285714285714, 0.6737967914438502], 'auprc': [0.9693013757132243, 0.8961185670396155, 0.950600022658859, 0.9382848257915876, 0.8671779365316101], 'f1': [0.888888888888889, 0.8115942028985507, 0.8571428571428571, 0.8358208955223881, 0.8115942028985507], 'sensitivity': [0.9142857142857143, 0.8, 0.8571428571428571, 0.8, 0.8235294117647058], 'precision': [0.8648648648648649, 0.8235294117647058, 0.8571428571428571, 0.875, 0.8]}, 'XGboost': {'acc': [0.7391304347826086, 0.717391304347826, 0.782608695652174, 0.7777777777777778, 0.6222222222222222], 'auroc': [0.7506493506493507, 0.5753246753246753, 0.7272727272727273, 0.7257142857142856, 0.5227272727272728], 'auprc': [0.9171270028807471, 0.8298714211548527, 0.8985209512802012, 0.9111705458234188, 0.8203649323251279], 'f1': [0.8333333333333334, 0.8219178082191781, 0.8611111111111112, 0.8648648648648648, 0.7605633802816901], 'sensitivity': [0.8571428571428571, 0.8571428571428571, 0.8857142857142857, 0.9142857142857143, 0.7941176470588235], 'precision': [0.8108108108108109, 0.7894736842105263, 0.8378378378378378, 0.8205128205128205, 0.7297297297297297]}, 'LRC': {'acc': [0.8260869565217391, 0.7608695652173914, 0.782608695652174, 0.7777777777777778, 0.6888888888888889], 'auroc': [0.7142857142857143, 0.6701298701298701, 0.7844155844155845, 0.7914285714285714, 0.6898395721925135], 'auprc': [0.845253970658756, 0.8425684157792425, 0.9074544264076982, 0.934705931191007, 0.8890274274179333], 'f1': [0.8947368421052632, 0.8493150684931505, 0.8648648648648648, 0.8648648648648648, 0.787878787878788], 'sensitivity': [0.9714285714285714, 0.8857142857142857, 0.9142857142857143, 0.9142857142857143, 0.7647058823529411], 'precision': [0.8292682926829268, 0.8157894736842105, 0.8205128205128205, 0.8205128205128205, 0.8125]}}\n",
      "for para_index\n",
      "0\n",
      "['SGD', 'RF', 'LRC', 'ET', 'SVC', 'KNN', 'GB', 'AB', 'XGboost']\n",
      "[0 1 2 3 4 5 6 7 8]\n",
      "each preprocessing loop\n",
      "0\n",
      "SVC\n"
     ]
    },
    {
     "name": "stderr",
     "output_type": "stream",
     "text": [
      "Tight layout not applied. The left and right margins cannot be made large enough to accommodate all axes decorations. \n",
      "Tight layout not applied. The left and right margins cannot be made large enough to accommodate all axes decorations. \n"
     ]
    },
    {
     "name": "stdout",
     "output_type": "stream",
     "text": [
      "0.7012987012987013\n",
      "KNN\n",
      "0.7873376623376624\n",
      "RF\n"
     ]
    },
    {
     "name": "stderr",
     "output_type": "stream",
     "text": [
      "Tight layout not applied. The left and right margins cannot be made large enough to accommodate all axes decorations. \n"
     ]
    },
    {
     "name": "stdout",
     "output_type": "stream",
     "text": [
      "0.7435064935064934\n",
      "ET\n"
     ]
    },
    {
     "name": "stderr",
     "output_type": "stream",
     "text": [
      "Tight layout not applied. The left and right margins cannot be made large enough to accommodate all axes decorations. \n",
      "Tight layout not applied. The left and right margins cannot be made large enough to accommodate all axes decorations. \n"
     ]
    },
    {
     "name": "stdout",
     "output_type": "stream",
     "text": [
      "0.75\n",
      "AB\n",
      "0.6590909090909092\n",
      "GB\n"
     ]
    },
    {
     "name": "stderr",
     "output_type": "stream",
     "text": [
      "Tight layout not applied. The left and right margins cannot be made large enough to accommodate all axes decorations. \n",
      "Tight layout not applied. The left and right margins cannot be made large enough to accommodate all axes decorations. \n"
     ]
    },
    {
     "name": "stdout",
     "output_type": "stream",
     "text": [
      "0.7280844155844156\n",
      "SGD\n",
      "0.7094155844155844\n",
      "XGboost\n"
     ]
    },
    {
     "name": "stderr",
     "output_type": "stream",
     "text": [
      "Tight layout not applied. The left and right margins cannot be made large enough to accommodate all axes decorations. \n"
     ]
    },
    {
     "name": "stdout",
     "output_type": "stream",
     "text": [
      "0.7224025974025974\n",
      "LRC\n",
      "0.6785714285714286\n"
     ]
    },
    {
     "name": "stderr",
     "output_type": "stream",
     "text": [
      "Tight layout not applied. The left and right margins cannot be made large enough to accommodate all axes decorations. \n"
     ]
    },
    {
     "name": "stdout",
     "output_type": "stream",
     "text": [
      "feature importance only works when the kernal of SVC is linear\n"
     ]
    }
   ],
   "source": [
    "breast_noMissing_path = breast_result_path+ '/resultImputeMissing'\n",
    "breast_result_noMissingAllow = aml_breast.AutoML_imputeMissing(breast_noMissing_path, preprocessing_paras, classifier_paras)"
   ]
  },
  {
   "cell_type": "code",
   "execution_count": null,
   "metadata": {},
   "outputs": [],
   "source": []
  }
 ],
 "metadata": {
  "kernelspec": {
   "display_name": "autoMLenv",
   "language": "python",
   "name": "automlenv"
  },
  "language_info": {
   "codemirror_mode": {
    "name": "ipython",
    "version": 3
   },
   "file_extension": ".py",
   "mimetype": "text/x-python",
   "name": "python",
   "nbconvert_exporter": "python",
   "pygments_lexer": "ipython3",
   "version": "3.7.7"
  }
 },
 "nbformat": 4,
 "nbformat_minor": 4
}
