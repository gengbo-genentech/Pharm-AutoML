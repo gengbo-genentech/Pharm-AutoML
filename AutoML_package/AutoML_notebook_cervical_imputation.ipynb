{
 "cells": [
  {
   "cell_type": "code",
   "execution_count": 1,
   "metadata": {},
   "outputs": [
    {
     "name": "stdout",
     "output_type": "stream",
     "text": [
      "/Users/liug28/Downloads/AutoML/AutoML_package\n"
     ]
    }
   ],
   "source": [
    "import os\n",
    "cwd = os.getcwd()\n",
    "import sys\n",
    "sys.path.append(cwd+\"/src_autoML/\")\n",
    "print (cwd)"
   ]
  },
  {
   "cell_type": "code",
   "execution_count": 2,
   "metadata": {},
   "outputs": [
    {
     "name": "stdout",
     "output_type": "stream",
     "text": [
      "WARN: OMP_NUM_THREADS=None =>\n",
      "... If you are using openblas if you are using openblas set OMP_NUM_THREADS=1 or risk subprocess calls hanging indefinitely\n"
     ]
    }
   ],
   "source": [
    "import pandas as pd\n",
    "import numpy as np\n",
    "from PharmAutoML import PharmAutoML"
   ]
  },
  {
   "cell_type": "code",
   "execution_count": 3,
   "metadata": {},
   "outputs": [],
   "source": [
    "categorical_features = []"
   ]
  },
  {
   "cell_type": "code",
   "execution_count": 4,
   "metadata": {},
   "outputs": [
    {
     "name": "stdout",
     "output_type": "stream",
     "text": [
      "{'drop_features': [[]], 'categorical_features': [[]], 'missing_threshold_rows': [0.2], 'missing_threshold_columns': [0.2], 'correlation_threshold': [0.98], 'check_diff_categorical_threshold': [0.1], 'add_nan_label': [False], 'impute_category_strategy': ['most_frequent'], 'impute_numerical_strategy': ['mean']}\n"
     ]
    }
   ],
   "source": [
    "preprocessing_paras = {}\n",
    "preprocessing_paras['drop_features']=[[]]\n",
    "preprocessing_paras['categorical_features']=[categorical_features]\n",
    "preprocessing_paras['missing_threshold_rows']=[0.2]\n",
    "preprocessing_paras['missing_threshold_columns']=[0.2]\n",
    "preprocessing_paras['correlation_threshold']=[0.98]\n",
    "preprocessing_paras['check_diff_categorical_threshold']=[0.1]\n",
    "preprocessing_paras['add_nan_label']=[False]\n",
    "preprocessing_paras['impute_category_strategy']=[\"most_frequent\"]\n",
    "preprocessing_paras['impute_numerical_strategy']=[\"mean\"]\n",
    "print (preprocessing_paras)"
   ]
  },
  {
   "cell_type": "code",
   "execution_count": 5,
   "metadata": {},
   "outputs": [
    {
     "name": "stdout",
     "output_type": "stream",
     "text": [
      "{'PCA_featureReduction_orNot': False, 'PCA_featureReduction_num': None, 'clfs': ['SVC', 'KNN', 'RF', 'ET', 'AB', 'GB', 'SGD', 'XGboost', 'LRC'], 'n_fold': 5, 'n_repeats': None, 'useDropColFeaImport': False}\n"
     ]
    }
   ],
   "source": [
    "classifier_paras = {}\n",
    "classifier_paras['PCA_featureReduction_orNot']=False\n",
    "classifier_paras['PCA_featureReduction_num']=None\n",
    "classifier_paras['clfs']=['SVC','KNN','RF','ET','AB','GB','SGD','XGboost','LRC']\n",
    "classifier_paras['n_fold']=5\n",
    "classifier_paras['n_repeats']=None\n",
    "classifier_paras['useDropColFeaImport']=False\n",
    "print (classifier_paras)"
   ]
  },
  {
   "cell_type": "markdown",
   "metadata": {},
   "source": [
    "## risk factors cervical cancer dataset\n",
    "\n",
    "Numerical data with lots of missings"
   ]
  },
  {
   "cell_type": "code",
   "execution_count": 6,
   "metadata": {},
   "outputs": [],
   "source": [
    "cervical_result_path=cwd+\"/src_autoML/examples/cervical_result\"\n",
    "cervical_data_dir=cwd+\"/src_autoML/examples/data/risk_factors_cervical_cancer.csv\"\n",
    "cervical_target = 'Biopsy'"
   ]
  },
  {
   "cell_type": "code",
   "execution_count": 7,
   "metadata": {},
   "outputs": [
    {
     "data": {
      "text/html": [
       "<div>\n",
       "<style scoped>\n",
       "    .dataframe tbody tr th:only-of-type {\n",
       "        vertical-align: middle;\n",
       "    }\n",
       "\n",
       "    .dataframe tbody tr th {\n",
       "        vertical-align: top;\n",
       "    }\n",
       "\n",
       "    .dataframe thead th {\n",
       "        text-align: right;\n",
       "    }\n",
       "</style>\n",
       "<table border=\"1\" class=\"dataframe\">\n",
       "  <thead>\n",
       "    <tr style=\"text-align: right;\">\n",
       "      <th></th>\n",
       "      <th>Age</th>\n",
       "      <th>Number of sexual partners</th>\n",
       "      <th>First sexual intercourse</th>\n",
       "      <th>Num of pregnancies</th>\n",
       "      <th>Smokes</th>\n",
       "      <th>Smokes (years)</th>\n",
       "      <th>Smokes (packs/year)</th>\n",
       "      <th>Hormonal Contraceptives</th>\n",
       "      <th>Hormonal Contraceptives (years)</th>\n",
       "      <th>IUD</th>\n",
       "      <th>...</th>\n",
       "      <th>STDs: Number of diagnosis</th>\n",
       "      <th>STDs: Time since first diagnosis</th>\n",
       "      <th>STDs: Time since last diagnosis</th>\n",
       "      <th>Dx:Cancer</th>\n",
       "      <th>Dx:CIN</th>\n",
       "      <th>Dx:HPV</th>\n",
       "      <th>Dx</th>\n",
       "      <th>Hinselmann</th>\n",
       "      <th>Schiller</th>\n",
       "      <th>Citology</th>\n",
       "    </tr>\n",
       "  </thead>\n",
       "  <tbody>\n",
       "    <tr>\n",
       "      <th>0</th>\n",
       "      <td>18</td>\n",
       "      <td>4.0</td>\n",
       "      <td>15.0</td>\n",
       "      <td>1.0</td>\n",
       "      <td>0.0</td>\n",
       "      <td>0.0</td>\n",
       "      <td>0.0</td>\n",
       "      <td>0.0</td>\n",
       "      <td>0.0</td>\n",
       "      <td>0.0</td>\n",
       "      <td>...</td>\n",
       "      <td>0</td>\n",
       "      <td>NaN</td>\n",
       "      <td>NaN</td>\n",
       "      <td>0</td>\n",
       "      <td>0</td>\n",
       "      <td>0</td>\n",
       "      <td>0</td>\n",
       "      <td>0</td>\n",
       "      <td>0</td>\n",
       "      <td>0</td>\n",
       "    </tr>\n",
       "    <tr>\n",
       "      <th>1</th>\n",
       "      <td>15</td>\n",
       "      <td>1.0</td>\n",
       "      <td>14.0</td>\n",
       "      <td>1.0</td>\n",
       "      <td>0.0</td>\n",
       "      <td>0.0</td>\n",
       "      <td>0.0</td>\n",
       "      <td>0.0</td>\n",
       "      <td>0.0</td>\n",
       "      <td>0.0</td>\n",
       "      <td>...</td>\n",
       "      <td>0</td>\n",
       "      <td>NaN</td>\n",
       "      <td>NaN</td>\n",
       "      <td>0</td>\n",
       "      <td>0</td>\n",
       "      <td>0</td>\n",
       "      <td>0</td>\n",
       "      <td>0</td>\n",
       "      <td>0</td>\n",
       "      <td>0</td>\n",
       "    </tr>\n",
       "    <tr>\n",
       "      <th>2</th>\n",
       "      <td>34</td>\n",
       "      <td>1.0</td>\n",
       "      <td>NaN</td>\n",
       "      <td>1.0</td>\n",
       "      <td>0.0</td>\n",
       "      <td>0.0</td>\n",
       "      <td>0.0</td>\n",
       "      <td>0.0</td>\n",
       "      <td>0.0</td>\n",
       "      <td>0.0</td>\n",
       "      <td>...</td>\n",
       "      <td>0</td>\n",
       "      <td>NaN</td>\n",
       "      <td>NaN</td>\n",
       "      <td>0</td>\n",
       "      <td>0</td>\n",
       "      <td>0</td>\n",
       "      <td>0</td>\n",
       "      <td>0</td>\n",
       "      <td>0</td>\n",
       "      <td>0</td>\n",
       "    </tr>\n",
       "    <tr>\n",
       "      <th>3</th>\n",
       "      <td>52</td>\n",
       "      <td>5.0</td>\n",
       "      <td>16.0</td>\n",
       "      <td>4.0</td>\n",
       "      <td>1.0</td>\n",
       "      <td>37.0</td>\n",
       "      <td>37.0</td>\n",
       "      <td>1.0</td>\n",
       "      <td>3.0</td>\n",
       "      <td>0.0</td>\n",
       "      <td>...</td>\n",
       "      <td>0</td>\n",
       "      <td>NaN</td>\n",
       "      <td>NaN</td>\n",
       "      <td>1</td>\n",
       "      <td>0</td>\n",
       "      <td>1</td>\n",
       "      <td>0</td>\n",
       "      <td>0</td>\n",
       "      <td>0</td>\n",
       "      <td>0</td>\n",
       "    </tr>\n",
       "    <tr>\n",
       "      <th>4</th>\n",
       "      <td>46</td>\n",
       "      <td>3.0</td>\n",
       "      <td>21.0</td>\n",
       "      <td>4.0</td>\n",
       "      <td>0.0</td>\n",
       "      <td>0.0</td>\n",
       "      <td>0.0</td>\n",
       "      <td>1.0</td>\n",
       "      <td>15.0</td>\n",
       "      <td>0.0</td>\n",
       "      <td>...</td>\n",
       "      <td>0</td>\n",
       "      <td>NaN</td>\n",
       "      <td>NaN</td>\n",
       "      <td>0</td>\n",
       "      <td>0</td>\n",
       "      <td>0</td>\n",
       "      <td>0</td>\n",
       "      <td>0</td>\n",
       "      <td>0</td>\n",
       "      <td>0</td>\n",
       "    </tr>\n",
       "  </tbody>\n",
       "</table>\n",
       "<p>5 rows × 35 columns</p>\n",
       "</div>"
      ],
      "text/plain": [
       "   Age  Number of sexual partners  First sexual intercourse  \\\n",
       "0   18                        4.0                      15.0   \n",
       "1   15                        1.0                      14.0   \n",
       "2   34                        1.0                       NaN   \n",
       "3   52                        5.0                      16.0   \n",
       "4   46                        3.0                      21.0   \n",
       "\n",
       "   Num of pregnancies  Smokes  Smokes (years)  Smokes (packs/year)  \\\n",
       "0                 1.0     0.0             0.0                  0.0   \n",
       "1                 1.0     0.0             0.0                  0.0   \n",
       "2                 1.0     0.0             0.0                  0.0   \n",
       "3                 4.0     1.0            37.0                 37.0   \n",
       "4                 4.0     0.0             0.0                  0.0   \n",
       "\n",
       "   Hormonal Contraceptives  Hormonal Contraceptives (years)  IUD  ...  \\\n",
       "0                      0.0                              0.0  0.0  ...   \n",
       "1                      0.0                              0.0  0.0  ...   \n",
       "2                      0.0                              0.0  0.0  ...   \n",
       "3                      1.0                              3.0  0.0  ...   \n",
       "4                      1.0                             15.0  0.0  ...   \n",
       "\n",
       "   STDs: Number of diagnosis  STDs: Time since first diagnosis  \\\n",
       "0                          0                               NaN   \n",
       "1                          0                               NaN   \n",
       "2                          0                               NaN   \n",
       "3                          0                               NaN   \n",
       "4                          0                               NaN   \n",
       "\n",
       "   STDs: Time since last diagnosis  Dx:Cancer  Dx:CIN  Dx:HPV  Dx  Hinselmann  \\\n",
       "0                              NaN          0       0       0   0           0   \n",
       "1                              NaN          0       0       0   0           0   \n",
       "2                              NaN          0       0       0   0           0   \n",
       "3                              NaN          1       0       1   0           0   \n",
       "4                              NaN          0       0       0   0           0   \n",
       "\n",
       "   Schiller  Citology  \n",
       "0         0         0  \n",
       "1         0         0  \n",
       "2         0         0  \n",
       "3         0         0  \n",
       "4         0         0  \n",
       "\n",
       "[5 rows x 35 columns]"
      ]
     },
     "execution_count": 7,
     "metadata": {},
     "output_type": "execute_result"
    }
   ],
   "source": [
    "cervical_data=pd.read_csv(cervical_data_dir)\n",
    "y_cervical = cervical_data[cervical_target]\n",
    "x_cervical = cervical_data.drop([cervical_target], axis=1)\n",
    "x_cervical.head()"
   ]
  },
  {
   "cell_type": "code",
   "execution_count": 8,
   "metadata": {},
   "outputs": [],
   "source": [
    "aml_cervical=PharmAutoML(x_cervical,y_cervical)"
   ]
  },
  {
   "cell_type": "code",
   "execution_count": 9,
   "metadata": {},
   "outputs": [
    {
     "name": "stdout",
     "output_type": "stream",
     "text": [
      "preprocessing parameter dictionary is\n",
      "{'drop_features': [[]], 'categorical_features': [[]], 'missing_threshold_rows': [0.2], 'missing_threshold_columns': [0.2], 'correlation_threshold': [0.98], 'check_diff_categorical_threshold': [0.1], 'add_nan_label': [False], 'impute_category_strategy': ['most_frequent'], 'impute_numerical_strategy': ['mean']}\n",
      "parameter grid is\n",
      "[{'add_nan_label': False, 'categorical_features': [], 'check_diff_categorical_threshold': 0.1, 'correlation_threshold': 0.98, 'drop_features': [], 'impute_category_strategy': 'most_frequent', 'impute_numerical_strategy': 'mean', 'missing_threshold_columns': 0.2, 'missing_threshold_rows': 0.2}]\n",
      "param\n",
      "{'add_nan_label': False, 'categorical_features': [], 'check_diff_categorical_threshold': 0.1, 'correlation_threshold': 0.98, 'drop_features': [], 'impute_category_strategy': 'most_frequent', 'impute_numerical_strategy': 'mean', 'missing_threshold_columns': 0.2, 'missing_threshold_rows': 0.2}\n",
      "Preprocessing Step 1: Manually Drop Features\n",
      "manually drop 0 features.\n",
      "Preprocessing Step 2: Find Single Unique Features\n",
      "2 features with a single unique value.\n",
      "Preprocessing Step 3: Find Missing\n",
      "106 instances have more than 0.20 fraction of missing values.\n",
      "Preprocessing Step 3: Find Missing\n",
      "2 features have more than 0.20 fraction of missing values.\n",
      "Preprocessing Step 4: Find Collinear Features by Pearson Correlations\n",
      "1 features with a correlation magnitude greater than 0.98.\n"
     ]
    },
    {
     "name": "stderr",
     "output_type": "stream",
     "text": [
      "Tight layout not applied. The left and right margins cannot be made large enough to accommodate all axes decorations. \n"
     ]
    },
    {
     "name": "stdout",
     "output_type": "stream",
     "text": [
      "Data Preprocessor Summary\n",
      "5 total features out of 35 identified for removal.\n",
      "{'drop_features': [], 'single_unique': ['STDs:cervical condylomatosis', 'STDs:AIDS'], 'missing_features': ['STDs: Time since first diagnosis', 'STDs: Time since last diagnosis'], 'collinear': ['STDs:vulvo-perineal condylomatosis']}\n",
      "106 total instances out of 858 identified for removal.\n",
      "{'missing_instances': [71, 74, 90, 95, 98, 102, 111, 117, 141, 142, 143, 149, 164, 176, 178, 189, 193, 220, 225, 228, 234, 243, 256, 263, 267, 271, 272, 279, 281, 284, 299, 304, 307, 316, 319, 321, 323, 328, 330, 338, 341, 343, 345, 346, 350, 353, 381, 391, 398, 405, 408, 412, 417, 419, 436, 443, 445, 452, 453, 457, 460, 476, 489, 495, 505, 512, 525, 527, 528, 542, 544, 547, 551, 552, 564, 576, 586, 595, 603, 607, 619, 633, 696, 700, 701, 705, 732, 735, 741, 751, 757, 761, 762, 767, 769, 771, 772, 778, 783, 785, 788, 792, 794, 807, 814, 816]}\n",
      "imputation for training dataset\n",
      "0 categorical features are dropped due to high number of different values in categorical feature.\n",
      "[]\n",
      "the imputed numerical features includeNumber of sexual partners, First sexual intercourse, Num of pregnancies, Smokes, Smokes (years), Smokes (packs/year), Hormonal Contraceptives, Hormonal Contraceptives (years), IUD, IUD (years), STDs: Time since first diagnosis, STDs: Time since last diagnosis\n",
      "data imputation summary\n",
      "{'categorical': [], 'numerical': ['Number of sexual partners', 'First sexual intercourse', 'Num of pregnancies', 'Smokes', 'Smokes (years)', 'Smokes (packs/year)', 'Hormonal Contraceptives', 'Hormonal Contraceptives (years)', 'IUD', 'IUD (years)', 'STDs: Time since first diagnosis', 'STDs: Time since last diagnosis']}\n",
      "for each preprocessing loop the classifier tuning record is\n",
      "0\n",
      "100%|██████████| 1/1 [00:00<00:00, 23.48trial/s, best loss: 0.04991680532445919]\n",
      "100%|██████████| 2/2 [00:00<00:00, 49.57trial/s, best loss: 0.04991680532445919]\n",
      "100%|██████████| 3/3 [00:00<00:00, 61.81trial/s, best loss: 0.04991680532445919]\n",
      "100%|██████████| 4/4 [00:00<00:00, 70.89trial/s, best loss: 0.04991680532445919]\n",
      "100%|██████████| 5/5 [00:00<00:00, 90.05trial/s, best loss: 0.04991680532445919]\n",
      "100%|██████████| 6/6 [00:00<00:00, 88.50trial/s, best loss: 0.04991680532445919]\n",
      "100%|██████████| 7/7 [00:00<00:00, 192.91trial/s, best loss: 0.04991680532445919]\n",
      "100%|██████████| 8/8 [00:00<00:00, 174.31trial/s, best loss: 0.04658901830282858]\n",
      "100%|██████████| 9/9 [00:00<00:00, 145.27trial/s, best loss: 0.04658901830282858]\n",
      "100%|██████████| 10/10 [00:00<00:00, 194.40trial/s, best loss: 0.04658901830282858]\n",
      "{'learner': LogisticRegression(C=0.3463072839706183, class_weight=None, dual=False,\n",
      "                   fit_intercept=True, intercept_scaling=3.64820806016151,\n",
      "                   l1_ratio=None, max_iter=100, multi_class='auto', n_jobs=None,\n",
      "                   penalty='l2', random_state=0, solver='liblinear',\n",
      "                   tol=0.0004456703361184295, verbose=0, warm_start=False), 'preprocs': (StandardScaler(copy=True, with_mean=True, with_std=True),), 'ex_preprocs': ()}\n",
      "100%|██████████| 1/1 [00:00<00:00, 13.25trial/s, best loss: 0.06988352745424298]\n",
      "100%|██████████| 2/2 [00:00<00:00,  9.43trial/s, best loss: 0.06988352745424298]\n",
      "100%|██████████| 3/3 [00:55<00:00, 18.43s/trial, best loss: 0.05990016638935103]\n",
      "100%|██████████| 4/4 [00:00<00:00, 53.23trial/s, best loss: 0.05990016638935103]\n",
      " 80%|████████  | 4/5 [00:00<?, ?trial/s, best loss=?]"
     ]
    },
    {
     "name": "stderr",
     "output_type": "stream",
     "text": [
      "Solver terminated early (max_iter=20625983).  Consider pre-processing your data with StandardScaler or MinMaxScaler.\n",
      "\n"
     ]
    },
    {
     "name": "stdout",
     "output_type": "stream",
     "text": [
      "100%|██████████| 5/5 [03:13<00:00, 38.71s/trial, best loss: 0.056572379367720416] \n",
      "100%|██████████| 6/6 [00:00<00:00, 60.87trial/s, best loss: 0.048252911813643884]\n",
      "100%|██████████| 7/7 [00:00<00:00, 20.97trial/s, best loss: 0.048252911813643884]\n",
      "100%|██████████| 8/8 [00:00<00:00, 83.25trial/s, best loss: 0.048252911813643884]\n",
      "100%|██████████| 9/9 [00:00<00:00, 28.23trial/s, best loss: 0.048252911813643884]\n",
      "100%|██████████| 10/10 [00:00<00:00, 113.95trial/s, best loss: 0.048252911813643884]\n",
      "{'learner': SVC(C=0.004941872311199889, break_ties=False, cache_size=512, class_weight=None,\n",
      "    coef0=0.0, decision_function_shape='ovr', degree=1, gamma='auto',\n",
      "    kernel='linear', max_iter=15429773.0, probability=True, random_state=0,\n",
      "    shrinking=False, tol=0.0002603924763557108, verbose=False), 'preprocs': (StandardScaler(copy=True, with_mean=True, with_std=True),), 'ex_preprocs': ()}\n",
      "100%|██████████| 1/1 [00:00<00:00, 16.27trial/s, best loss: 0.06988352745424298]\n",
      "100%|██████████| 2/2 [00:00<00:00, 22.98trial/s, best loss: 0.06988352745424298]\n",
      "100%|██████████| 3/3 [00:00<00:00, 43.55trial/s, best loss: 0.06322795341098175]\n",
      "100%|██████████| 4/4 [00:00<00:00, 94.17trial/s, best loss: 0.06322795341098175]\n",
      "100%|██████████| 5/5 [00:00<00:00, 112.85trial/s, best loss: 0.06322795341098175]\n",
      "100%|██████████| 6/6 [00:00<00:00, 84.92trial/s, best loss: 0.06322795341098175]\n",
      "100%|██████████| 7/7 [00:00<00:00, 65.75trial/s, best loss: 0.06322795341098175]\n",
      "100%|██████████| 8/8 [00:00<00:00, 135.28trial/s, best loss: 0.06322795341098175]\n",
      "100%|██████████| 9/9 [00:00<00:00, 140.62trial/s, best loss: 0.06322795341098175]\n",
      "100%|██████████| 10/10 [00:00<00:00, 207.33trial/s, best loss: 0.06322795341098175]\n",
      "{'learner': KNeighborsClassifier(algorithm='auto', leaf_size=30, metric='euclidean',\n",
      "                     metric_params=None, n_jobs=1, n_neighbors=7, p=2,\n",
      "                     weights='uniform'), 'preprocs': (StandardScaler(copy=True, with_mean=False, with_std=True),), 'ex_preprocs': ()}\n",
      "100%|██████████| 1/1 [00:02<00:00,  2.97s/trial, best loss: 0.048252911813643884]\n",
      "100%|██████████| 2/2 [00:16<00:00,  8.15s/trial, best loss: 0.048252911813643884]\n",
      "100%|██████████| 3/3 [00:00<00:00, 19.03trial/s, best loss: 0.048252911813643884]\n",
      "100%|██████████| 4/4 [00:00<00:00, 27.52trial/s, best loss: 0.048252911813643884]\n",
      "100%|██████████| 5/5 [00:15<00:00,  3.02s/trial, best loss: 0.048252911813643884]\n",
      "100%|██████████| 6/6 [00:00<00:00, 22.34trial/s, best loss: 0.048252911813643884]\n",
      "100%|██████████| 7/7 [00:00<00:00, 32.07trial/s, best loss: 0.048252911813643884]\n",
      "100%|██████████| 8/8 [00:03<00:00,  2.33trial/s, best loss: 0.048252911813643884]\n",
      "100%|██████████| 9/9 [00:02<00:00,  3.65trial/s, best loss: 0.048252911813643884]\n",
      "100%|██████████| 10/10 [00:00<00:00, 40.00trial/s, best loss: 0.048252911813643884]\n",
      "{'learner': RandomForestClassifier(bootstrap=True, ccp_alpha=0.0, class_weight=None,\n",
      "                       criterion='entropy', max_depth=None,\n",
      "                       max_features=0.4059780259682205, max_leaf_nodes=None,\n",
      "                       max_samples=None, min_impurity_decrease=0.0,\n",
      "                       min_impurity_split=None, min_samples_leaf=1,\n",
      "                       min_samples_split=2, min_weight_fraction_leaf=0.0,\n",
      "                       n_estimators=436, n_jobs=1, oob_score=False,\n",
      "                       random_state=0, verbose=False, warm_start=False), 'preprocs': (StandardScaler(copy=True, with_mean=False, with_std=True),), 'ex_preprocs': ()}\n",
      "100%|██████████| 1/1 [00:02<00:00,  2.01s/trial, best loss: 0.06322795341098175]\n",
      "100%|██████████| 2/2 [00:01<00:00,  1.05trial/s, best loss: 0.0515806988352745]\n",
      "100%|██████████| 3/3 [00:09<00:00,  3.00s/trial, best loss: 0.048252911813643884]\n",
      "100%|██████████| 4/4 [00:00<00:00, 36.00trial/s, best loss: 0.048252911813643884]\n",
      "100%|██████████| 5/5 [00:01<00:00,  3.27trial/s, best loss: 0.048252911813643884]\n",
      "100%|██████████| 6/6 [00:01<00:00,  4.92trial/s, best loss: 0.048252911813643884]\n",
      "100%|██████████| 7/7 [00:00<00:00, 40.25trial/s, best loss: 0.048252911813643884]\n",
      "100%|██████████| 8/8 [00:03<00:00,  2.13trial/s, best loss: 0.048252911813643884]\n",
      "100%|██████████| 9/9 [00:00<00:00, 31.28trial/s, best loss: 0.048252911813643884]\n",
      "100%|██████████| 10/10 [00:00<00:00, 12.39trial/s, best loss: 0.048252911813643884]\n",
      "{'learner': ExtraTreesClassifier(bootstrap=True, ccp_alpha=0.0, class_weight=None,\n",
      "                     criterion='entropy', max_depth=None,\n",
      "                     max_features=0.8663932969699696, max_leaf_nodes=None,\n",
      "                     max_samples=None, min_impurity_decrease=0.0,\n",
      "                     min_impurity_split=None, min_samples_leaf=1,\n",
      "                     min_samples_split=2, min_weight_fraction_leaf=0.0,\n",
      "                     n_estimators=1499, n_jobs=1, oob_score=False,\n",
      "                     random_state=0, verbose=False, warm_start=False), 'preprocs': (StandardScaler(copy=True, with_mean=True, with_std=True),), 'ex_preprocs': ()}\n",
      "100%|██████████| 1/1 [00:00<00:00,  3.82trial/s, best loss: 0.05490848585690511]\n",
      "100%|██████████| 2/2 [00:00<00:00,  3.36trial/s, best loss: 0.04492512479201327]\n",
      "100%|██████████| 3/3 [00:00<00:00, 12.02trial/s, best loss: 0.04492512479201327]\n",
      "100%|██████████| 4/4 [00:00<00:00,  7.90trial/s, best loss: 0.04492512479201327]\n",
      "100%|██████████| 5/5 [00:00<00:00, 39.09trial/s, best loss: 0.04492512479201327]\n",
      "100%|██████████| 6/6 [00:00<00:00, 15.32trial/s, best loss: 0.04492512479201327]\n",
      "100%|██████████| 7/7 [00:00<00:00, 35.52trial/s, best loss: 0.04492512479201327]\n",
      "100%|██████████| 8/8 [00:01<00:00,  4.34trial/s, best loss: 0.04492512479201327]\n",
      "100%|██████████| 9/9 [00:01<00:00,  7.70trial/s, best loss: 0.04492512479201327]\n",
      "100%|██████████| 10/10 [00:00<00:00, 19.97trial/s, best loss: 0.04492512479201327]\n",
      "{'learner': AdaBoostClassifier(algorithm='SAMME.R', base_estimator=None,\n",
      "                   learning_rate=0.0009112161057378149, n_estimators=83,\n",
      "                   random_state=0), 'preprocs': (StandardScaler(copy=True, with_mean=True, with_std=True),), 'ex_preprocs': ()}\n",
      "100%|██████████| 1/1 [00:01<00:00,  1.89s/trial, best loss: 0.04492512479201327]\n",
      "100%|██████████| 2/2 [00:01<00:00,  1.09trial/s, best loss: 0.04492512479201327]\n",
      "100%|██████████| 3/3 [00:00<00:00, 29.78trial/s, best loss: 0.04492512479201327]\n",
      "100%|██████████| 4/4 [00:00<00:00, 11.68trial/s, best loss: 0.04492512479201327]\n",
      "100%|██████████| 5/5 [00:00<00:00,  5.64trial/s, best loss: 0.04492512479201327]\n",
      "100%|██████████| 6/6 [00:00<00:00, 15.62trial/s, best loss: 0.04492512479201327]\n",
      "100%|██████████| 7/7 [00:00<00:00, 10.56trial/s, best loss: 0.04492512479201327]\n",
      "100%|██████████| 8/8 [00:01<00:00,  6.17trial/s, best loss: 0.04492512479201327]\n",
      "100%|██████████| 9/9 [00:00<00:00, 122.40trial/s, best loss: 0.04492512479201327]\n",
      "100%|██████████| 10/10 [00:00<00:00, 31.42trial/s, best loss: 0.04492512479201327]\n",
      "{'learner': GradientBoostingClassifier(ccp_alpha=0.0, criterion='friedman_mse', init=None,\n",
      "                           learning_rate=0.06211573904704122, loss='deviance',\n",
      "                           max_depth=None, max_features=0.29340780474269756,\n",
      "                           max_leaf_nodes=None, min_impurity_decrease=0.0,\n",
      "                           min_impurity_split=None, min_samples_leaf=1,\n",
      "                           min_samples_split=2, min_weight_fraction_leaf=0.0,\n",
      "                           n_estimators=518, n_iter_no_change=None,\n",
      "                           presort='deprecated', random_state=0,\n",
      "                           subsample=0.7914722557669576, tol=0.0001,\n",
      "                           validation_fraction=0.1, verbose=0,\n",
      "                           warm_start=False), 'preprocs': (StandardScaler(copy=True, with_mean=True, with_std=False),), 'ex_preprocs': ()}\n",
      "100%|██████████| 1/1 [00:00<00:00,  3.98trial/s, best loss: 0.06988352745424298]\n",
      "100%|██████████| 2/2 [00:00<00:00, 17.79trial/s, best loss: 0.05990016638935103]\n",
      "100%|██████████| 3/3 [00:00<00:00, 72.00trial/s, best loss: 0.05990016638935103]\n",
      "100%|██████████| 4/4 [00:00<00:00, 80.16trial/s, best loss: 0.056572379367720416]\n",
      "100%|██████████| 5/5 [00:00<00:00, 47.67trial/s, best loss: 0.056572379367720416]\n",
      "100%|██████████| 6/6 [00:00<00:00, 117.43trial/s, best loss: 0.056572379367720416]\n",
      "100%|██████████| 7/7 [00:00<00:00, 166.92trial/s, best loss: 0.056572379367720416]\n",
      "100%|██████████| 8/8 [00:00<00:00, 167.54trial/s, best loss: 0.056572379367720416]\n",
      "100%|██████████| 9/9 [00:00<00:00, 47.04trial/s, best loss: 0.056572379367720416]\n",
      "100%|██████████| 10/10 [00:00<00:00, 253.19trial/s, best loss: 0.056572379367720416]\n",
      "{'learner': SGDClassifier(alpha=7.317910026038522e-05, average=False, class_weight=None,\n",
      "              early_stopping=False, epsilon=0.1, eta0=0.05265988079854866,\n",
      "              fit_intercept=True, l1_ratio=0.2762302486969621,\n",
      "              learning_rate='optimal', loss='modified_huber',\n",
      "              max_iter=130015528.0, n_iter_no_change=5, n_jobs=1,\n",
      "              penalty='elasticnet', power_t=0.18236283927166497, random_state=0,\n",
      "              shuffle=True, tol=0.0002918255436707143, validation_fraction=0.1,\n",
      "              verbose=False, warm_start=False), 'preprocs': (StandardScaler(copy=True, with_mean=False, with_std=True),), 'ex_preprocs': ()}\n",
      "100%|██████████| 1/1 [00:03<00:00,  3.68s/trial, best loss: 0.06489184692179706]\n",
      "100%|██████████| 2/2 [00:01<00:00,  1.82trial/s, best loss: 0.048252911813643884]\n",
      "100%|██████████| 3/3 [00:07<00:00,  2.39s/trial, best loss: 0.048252911813643884]\n",
      "100%|██████████| 4/4 [00:04<00:00,  1.08s/trial, best loss: 0.048252911813643884]\n",
      "100%|██████████| 5/5 [00:00<00:00, 10.16trial/s, best loss: 0.048252911813643884]\n",
      "100%|██████████| 6/6 [00:06<00:00,  1.13s/trial, best loss: 0.048252911813643884]\n",
      "100%|██████████| 7/7 [00:02<00:00,  2.91trial/s, best loss: 0.04658901830282858]\n",
      "100%|██████████| 8/8 [00:00<00:00, 15.51trial/s, best loss: 0.04658901830282858]\n",
      "100%|██████████| 9/9 [00:04<00:00,  2.23trial/s, best loss: 0.04658901830282858]\n",
      "100%|██████████| 10/10 [00:06<00:00,  1.60trial/s, best loss: 0.04658901830282858]\n",
      "{'learner': XGBClassifier(base_score=0.5, booster=None,\n",
      "              colsample_bylevel=0.5156814438485289, colsample_bynode=None,\n",
      "              colsample_bytree=0.8099826739805513, gamma=0.5461647836547375,\n",
      "              gpu_id=None, importance_type='gain', interaction_constraints=None,\n",
      "              learning_rate=0.0018033511930328745, max_delta_step=0,\n",
      "              max_depth=1, min_child_weight=1, missing=nan,\n",
      "              monotone_constraints=None, n_estimators=1800, n_jobs=None,\n",
      "              num_parallel_tree=None, objective='binary:logistic',\n",
      "              random_state=None, reg_alpha=0.0023974176193762337,\n",
      "              reg_lambda=5.359073451671746, scale_pos_weight=1, seed=0,\n",
      "              subsample=0.8654486756746869, tree_method=None,\n",
      "              validate_parameters=False, verbosity=None), 'preprocs': (StandardScaler(copy=True, with_mean=True, with_std=True),), 'ex_preprocs': ()}\n"
     ]
    },
    {
     "name": "stderr",
     "output_type": "stream",
     "text": [
      "Setting a random_state has no effect since shuffle is False. This will raise an error in 0.24. You should leave random_state to its default (None), or set shuffle=True.\n",
      "Setting a random_state has no effect since shuffle is False. This will raise an error in 0.24. You should leave random_state to its default (None), or set shuffle=True.\n",
      "Setting a random_state has no effect since shuffle is False. This will raise an error in 0.24. You should leave random_state to its default (None), or set shuffle=True.\n",
      "Setting a random_state has no effect since shuffle is False. This will raise an error in 0.24. You should leave random_state to its default (None), or set shuffle=True.\n",
      "Setting a random_state has no effect since shuffle is False. This will raise an error in 0.24. You should leave random_state to its default (None), or set shuffle=True.\n",
      "Setting a random_state has no effect since shuffle is False. This will raise an error in 0.24. You should leave random_state to its default (None), or set shuffle=True.\n",
      "Setting a random_state has no effect since shuffle is False. This will raise an error in 0.24. You should leave random_state to its default (None), or set shuffle=True.\n",
      "Setting a random_state has no effect since shuffle is False. This will raise an error in 0.24. You should leave random_state to its default (None), or set shuffle=True.\n",
      "Setting a random_state has no effect since shuffle is False. This will raise an error in 0.24. You should leave random_state to its default (None), or set shuffle=True.\n"
     ]
    },
    {
     "name": "stdout",
     "output_type": "stream",
     "text": [
      "#################################\n",
      "for preprocess strategy number\n",
      "0\n",
      "ROC AUCS\n",
      "{'SVC': 0.9183064997018486, 'KNN': 0.9095536246699037, 'RF': 0.9497614788312463, 'ET': 0.9332992588806543, 'AB': 0.8851265014055711, 'GB': 0.9652440582673141, 'SGD': 0.7871624499531477, 'XGboost': 0.9403697078115683, 'LRC': 0.9272936365959622}\n",
      "ROC AUC stdev\n",
      "{'SVC': 0.08863131304499977, 'KNN': 0.07130340014636463, 'RF': 0.0508476642349907, 'ET': 0.0791259869127128, 'AB': 0.06905653533942581, 'GB': 0.06445646614955701, 'SGD': 0.08000840052438972, 'XGboost': 0.02426999742205938, 'LRC': 0.0788333039613291}\n",
      "all metrics\n",
      "{'SVC': {'acc': [0.9421487603305785, 0.9583333333333334, 0.9666666666666667, 0.9583333333333334, 0.9416666666666667], 'auroc': [0.7847222222222222, 0.9877232142857143, 0.9866071428571429, 0.9810267857142858, 0.974974974974975], 'auprc': [0.6441677309493401, 0.7939484126984128, 0.8519230769230769, 0.6766254578754579, 0.7652255152255154], 'f1': [0.5333333333333333, 0.6153846153846154, 0.7142857142857143, 0.6153846153846154, 0.5333333333333333], 'sensitivity': [0.4444444444444444, 0.5, 0.625, 0.5, 0.4444444444444444], 'precision': [0.6666666666666666, 0.8, 0.8333333333333334, 0.8, 0.6666666666666666]}, 'KNN': {'acc': [0.9173553719008265, 0.95, 0.95, 0.9416666666666667, 0.9333333333333333], 'auroc': [0.7981150793650793, 0.9614955357142858, 0.9626116071428571, 0.9581473214285714, 0.8953953953953954], 'auprc': [0.4025711662075298, 0.6037834448160535, 0.5761554621848739, 0.5194444444444445, 0.43349952516619183], 'f1': [0.16666666666666666, 0.4, 0.5, 0.36363636363636365, 0.42857142857142855], 'sensitivity': [0.1111111111111111, 0.25, 0.375, 0.25, 0.3333333333333333], 'precision': [0.3333333333333333, 1.0, 0.75, 0.6666666666666666, 0.6]}, 'RF': {'acc': [0.9173553719008265, 0.975, 0.975, 0.95, 0.95], 'auroc': [0.8685515873015872, 0.9832589285714286, 0.9877232142857144, 0.9771205357142857, 0.9794794794794796], 'auprc': [0.40831778262286955, 0.7295003607503607, 0.829204822954823, 0.603720238095238, 0.8000407000407002], 'f1': [0.375, 0.823529411764706, 0.823529411764706, 0.625, 0.6666666666666666], 'sensitivity': [0.3333333333333333, 0.875, 0.875, 0.625, 0.6666666666666666], 'precision': [0.42857142857142855, 0.7777777777777778, 0.7777777777777778, 0.625, 0.6666666666666666]}, 'ET': {'acc': [0.9338842975206612, 0.975, 0.9583333333333334, 0.95, 0.95], 'auroc': [0.8020833333333333, 0.9832589285714286, 0.984375, 0.9765625, 0.96996996996997], 'auprc': [0.43548763245732935, 0.6753336940836941, 0.764423076923077, 0.6662202380952381, 0.6739435945318297], 'f1': [0.5555555555555556, 0.823529411764706, 0.7058823529411765, 0.625, 0.6666666666666666], 'sensitivity': [0.5555555555555556, 0.875, 0.75, 0.625, 0.6666666666666666], 'precision': [0.5555555555555556, 0.7777777777777778, 0.6666666666666666, 0.625, 0.6666666666666666]}, 'AB': {'acc': [0.9256198347107438, 0.975, 0.9583333333333334, 0.9666666666666667, 0.95], 'auroc': [0.806547619047619, 0.9285714285714285, 0.9776785714285715, 0.9241071428571428, 0.972972972972973], 'auprc': [0.3581267217630854, 0.6888888888888889, 0.6153846153846154, 0.6208333333333332, 0.6], 'f1': [0.5714285714285715, 0.823529411764706, 0.761904761904762, 0.7777777777777777, 0.7499999999999999], 'sensitivity': [0.6666666666666666, 0.875, 1.0, 0.875, 1.0], 'precision': [0.5, 0.7777777777777778, 0.6153846153846154, 0.7, 0.6]}, 'GB': {'acc': [0.9173553719008265, 0.975, 0.9583333333333334, 0.9416666666666667, 0.95], 'auroc': [0.8392857142857143, 0.9854910714285714, 0.9866071428571429, 0.9810267857142857, 0.97997997997998], 'auprc': [0.405343523723586, 0.7469246031746032, 0.8125, 0.713379329004329, 0.836614774114774], 'f1': [0.375, 0.823529411764706, 0.6666666666666666, 0.5333333333333333, 0.6666666666666666], 'sensitivity': [0.3333333333333333, 0.875, 0.625, 0.5, 0.6666666666666666], 'precision': [0.42857142857142855, 0.7777777777777778, 0.7142857142857143, 0.5714285714285714, 0.6666666666666666]}, 'SGD': {'acc': [0.9090909090909091, 0.9583333333333334, 0.9333333333333333, 0.9416666666666667, 0.9166666666666666], 'auroc': [0.7976190476190476, 0.6875, 0.90625, 0.7946428571428572, 0.7507507507507507], 'auprc': [0.3105076741440378, 0.4166666666666667, 0.44583333333333336, 0.37222222222222223, 0.28585858585858587], 'f1': [0.5217391304347826, 0.5454545454545454, 0.6363636363636364, 0.5882352941176471, 0.5], 'sensitivity': [0.6666666666666666, 0.375, 0.875, 0.625, 0.5555555555555556], 'precision': [0.42857142857142855, 1.0, 0.5, 0.5555555555555556, 0.45454545454545453]}, 'XGboost': {'acc': [0.9421487603305785, 0.9583333333333334, 0.9666666666666667, 0.9583333333333334, 0.9416666666666667], 'auroc': [0.9290674603174602, 0.9776785714285715, 0.9910714285714285, 0.9799107142857143, 0.9794794794794796], 'auprc': [0.6076505410886962, 0.7977362914862915, 0.8918650793650793, 0.7527777777777778, 0.7977411477411478], 'f1': [0.5333333333333333, 0.6153846153846154, 0.7142857142857143, 0.6153846153846154, 0.5333333333333333], 'sensitivity': [0.4444444444444444, 0.5, 0.625, 0.5, 0.4444444444444444], 'precision': [0.6666666666666666, 0.8, 0.8333333333333334, 0.8, 0.6666666666666666]}, 'LRC': {'acc': [0.9504132231404959, 0.9666666666666667, 0.9583333333333334, 0.9666666666666667, 0.925], 'auroc': [0.8055555555555556, 0.9921875, 0.9754464285714286, 0.9854910714285714, 0.96996996996997], 'auprc': [0.6246561115617815, 0.883531746031746, 0.7225160256410257, 0.776271645021645, 0.7413766788766789], 'f1': [0.6666666666666666, 0.7142857142857143, 0.7058823529411765, 0.75, 0.5263157894736842], 'sensitivity': [0.6666666666666666, 0.625, 0.75, 0.75, 0.5555555555555556], 'precision': [0.6666666666666666, 0.8333333333333334, 0.6666666666666666, 0.75, 0.5]}}\n",
      "for para_index\n",
      "0\n",
      "['GB', 'RF', 'XGboost', 'ET', 'LRC', 'SVC', 'KNN', 'AB', 'SGD']\n",
      "[0 1 2 3 4 5 6 7 8]\n",
      "the following model for shap analysis\n",
      "GradientBoostingClassifier(ccp_alpha=0.0, criterion='friedman_mse', init=None,\n",
      "                           learning_rate=0.06211573904704122, loss='deviance',\n",
      "                           max_depth=None, max_features=0.29340780474269756,\n",
      "                           max_leaf_nodes=None, min_impurity_decrease=0.0,\n",
      "                           min_impurity_split=None, min_samples_leaf=1,\n",
      "                           min_samples_split=2, min_weight_fraction_leaf=0.0,\n",
      "                           n_estimators=518, n_iter_no_change=None,\n",
      "                           presort='deprecated', random_state=0,\n",
      "                           subsample=0.7914722557669576, tol=0.0001,\n",
      "                           validation_fraction=0.1, verbose=0,\n",
      "                           warm_start=False)\n"
     ]
    },
    {
     "name": "stderr",
     "output_type": "stream",
     "text": [
      "Setting feature_perturbation = \"tree_path_dependent\" because no background data was given.\n",
      "The sklearn.ensemble.gradient_boosting module is  deprecated in version 0.22 and will be removed in version 0.24. The corresponding classes / functions should instead be imported from sklearn.ensemble. Anything that cannot be imported from sklearn.ensemble is now part of the private API.\n",
      "Matplotlib is currently using agg, which is a non-GUI backend, so cannot show the figure.\n"
     ]
    },
    {
     "name": "stdout",
     "output_type": "stream",
     "text": [
      "each preprocessing loop\n",
      "0\n",
      "SVC\n"
     ]
    },
    {
     "name": "stderr",
     "output_type": "stream",
     "text": [
      "Tight layout not applied. The left and right margins cannot be made large enough to accommodate all axes decorations. \n"
     ]
    },
    {
     "name": "stdout",
     "output_type": "stream",
     "text": [
      "0.9038961038961039\n",
      "KNN\n"
     ]
    },
    {
     "name": "stderr",
     "output_type": "stream",
     "text": [
      "Tight layout not applied. The left and right margins cannot be made large enough to accommodate all axes decorations. \n"
     ]
    },
    {
     "name": "stdout",
     "output_type": "stream",
     "text": [
      "0.877922077922078\n",
      "RF\n"
     ]
    },
    {
     "name": "stderr",
     "output_type": "stream",
     "text": [
      "Tight layout not applied. The left and right margins cannot be made large enough to accommodate all axes decorations. \n"
     ]
    },
    {
     "name": "stdout",
     "output_type": "stream",
     "text": [
      "0.961038961038961\n",
      "ET\n"
     ]
    },
    {
     "name": "stderr",
     "output_type": "stream",
     "text": [
      "Tight layout not applied. The left and right margins cannot be made large enough to accommodate all axes decorations. \n"
     ]
    },
    {
     "name": "stdout",
     "output_type": "stream",
     "text": [
      "0.9246753246753248\n",
      "AB\n"
     ]
    },
    {
     "name": "stderr",
     "output_type": "stream",
     "text": [
      "Tight layout not applied. The left and right margins cannot be made large enough to accommodate all axes decorations. \n"
     ]
    },
    {
     "name": "stdout",
     "output_type": "stream",
     "text": [
      "0.9402597402597402\n",
      "GB\n"
     ]
    },
    {
     "name": "stderr",
     "output_type": "stream",
     "text": [
      "Tight layout not applied. The left and right margins cannot be made large enough to accommodate all axes decorations. \n"
     ]
    },
    {
     "name": "stdout",
     "output_type": "stream",
     "text": [
      "0.9675324675324675\n",
      "SGD\n"
     ]
    },
    {
     "name": "stderr",
     "output_type": "stream",
     "text": [
      "Tight layout not applied. The left and right margins cannot be made large enough to accommodate all axes decorations. \n"
     ]
    },
    {
     "name": "stdout",
     "output_type": "stream",
     "text": [
      "0.6266233766233765\n",
      "XGboost\n"
     ]
    },
    {
     "name": "stderr",
     "output_type": "stream",
     "text": [
      "Tight layout not applied. The left and right margins cannot be made large enough to accommodate all axes decorations. \n"
     ]
    },
    {
     "name": "stdout",
     "output_type": "stream",
     "text": [
      "0.9655844155844157\n",
      "LRC\n"
     ]
    },
    {
     "name": "stderr",
     "output_type": "stream",
     "text": [
      "Tight layout not applied. The left and right margins cannot be made large enough to accommodate all axes decorations. \n"
     ]
    },
    {
     "name": "stdout",
     "output_type": "stream",
     "text": [
      "0.9597402597402597\n"
     ]
    },
    {
     "name": "stderr",
     "output_type": "stream",
     "text": [
      "A column-vector y was passed when a 1d array was expected. Please change the shape of y to (n_samples, ), for example using ravel().\n"
     ]
    }
   ],
   "source": [
    "cervical_noMissing_path = cervical_result_path+ '/resultImputeMissing'\n",
    "cervical_result_noMissingAllow = aml_cervical.AutoML_imputeMissing(cervical_noMissing_path, preprocessing_paras, classifier_paras)"
   ]
  },
  {
   "cell_type": "code",
   "execution_count": null,
   "metadata": {},
   "outputs": [],
   "source": []
  }
 ],
 "metadata": {
  "kernelspec": {
   "display_name": "autoMLenv",
   "language": "python",
   "name": "automlenv"
  },
  "language_info": {
   "codemirror_mode": {
    "name": "ipython",
    "version": 3
   },
   "file_extension": ".py",
   "mimetype": "text/x-python",
   "name": "python",
   "nbconvert_exporter": "python",
   "pygments_lexer": "ipython3",
   "version": "3.7.7"
  }
 },
 "nbformat": 4,
 "nbformat_minor": 4
}
