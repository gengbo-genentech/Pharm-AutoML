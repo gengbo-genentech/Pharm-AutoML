{
 "cells": [
  {
   "cell_type": "code",
   "execution_count": 1,
   "metadata": {},
   "outputs": [
    {
     "name": "stdout",
     "output_type": "stream",
     "text": [
      "/Users/liug28/Downloads/AutoML/AutoML_package\n"
     ]
    }
   ],
   "source": [
    "import os\n",
    "cwd = os.getcwd()\n",
    "import sys\n",
    "sys.path.append(cwd+\"/src_autoML/\")\n",
    "print (cwd)"
   ]
  },
  {
   "cell_type": "code",
   "execution_count": 2,
   "metadata": {},
   "outputs": [
    {
     "name": "stdout",
     "output_type": "stream",
     "text": [
      "WARN: OMP_NUM_THREADS=None =>\n",
      "... If you are using openblas if you are using openblas set OMP_NUM_THREADS=1 or risk subprocess calls hanging indefinitely\n"
     ]
    }
   ],
   "source": [
    "import pandas as pd\n",
    "import numpy as np\n",
    "from PharmAutoML import PharmAutoML"
   ]
  },
  {
   "cell_type": "code",
   "execution_count": 3,
   "metadata": {},
   "outputs": [],
   "source": [
    "categorical_features = ['sg','al','su']"
   ]
  },
  {
   "cell_type": "code",
   "execution_count": 4,
   "metadata": {},
   "outputs": [
    {
     "name": "stdout",
     "output_type": "stream",
     "text": [
      "{'drop_features': [[]], 'categorical_features': [['sg', 'al', 'su']], 'missing_threshold_rows': [0.2], 'missing_threshold_columns': [0.2], 'correlation_threshold': [0.98], 'check_diff_categorical_threshold': [0.1], 'add_nan_label': [False], 'impute_category_strategy': ['most_frequent'], 'impute_numerical_strategy': ['mean']}\n"
     ]
    }
   ],
   "source": [
    "preprocessing_paras = {}\n",
    "preprocessing_paras['drop_features']=[[]]\n",
    "preprocessing_paras['categorical_features']=[categorical_features]\n",
    "preprocessing_paras['missing_threshold_rows']=[0.2]\n",
    "preprocessing_paras['missing_threshold_columns']=[0.2]\n",
    "preprocessing_paras['correlation_threshold']=[0.98]\n",
    "preprocessing_paras['check_diff_categorical_threshold']=[0.1]\n",
    "preprocessing_paras['add_nan_label']=[False]\n",
    "preprocessing_paras['impute_category_strategy']=[\"most_frequent\"]\n",
    "preprocessing_paras['impute_numerical_strategy']=[\"mean\"]\n",
    "print (preprocessing_paras)"
   ]
  },
  {
   "cell_type": "code",
   "execution_count": 5,
   "metadata": {},
   "outputs": [
    {
     "name": "stdout",
     "output_type": "stream",
     "text": [
      "{'PCA_featureReduction_orNot': False, 'PCA_featureReduction_num': None, 'clfs': ['SVC', 'KNN', 'RF', 'ET', 'AB', 'GB', 'SGD', 'XGboost', 'LRC'], 'n_fold': 5, 'n_repeats': None, 'useDropColFeaImport': False}\n"
     ]
    }
   ],
   "source": [
    "classifier_paras = {}\n",
    "classifier_paras['PCA_featureReduction_orNot']=False\n",
    "classifier_paras['PCA_featureReduction_num']=None\n",
    "classifier_paras['clfs']=['SVC','KNN','RF','ET','AB','GB','SGD','XGboost','LRC']\n",
    "classifier_paras['n_fold']=5\n",
    "classifier_paras['n_repeats']=None\n",
    "classifier_paras['useDropColFeaImport']=False\n",
    "print (classifier_paras)"
   ]
  },
  {
   "cell_type": "markdown",
   "metadata": {},
   "source": [
    "## chronic kidney disease dataset"
   ]
  },
  {
   "cell_type": "code",
   "execution_count": 6,
   "metadata": {},
   "outputs": [],
   "source": [
    "kidney_result_path=cwd+\"/src_autoML/examples/kidney_result\"\n",
    "kidney_data_dir=cwd+\"/src_autoML/examples/data/chronic_kidney_disease_dataset.csv\"\n",
    "kidney_target = 'classification'"
   ]
  },
  {
   "cell_type": "code",
   "execution_count": 7,
   "metadata": {},
   "outputs": [
    {
     "data": {
      "text/html": [
       "<div>\n",
       "<style scoped>\n",
       "    .dataframe tbody tr th:only-of-type {\n",
       "        vertical-align: middle;\n",
       "    }\n",
       "\n",
       "    .dataframe tbody tr th {\n",
       "        vertical-align: top;\n",
       "    }\n",
       "\n",
       "    .dataframe thead th {\n",
       "        text-align: right;\n",
       "    }\n",
       "</style>\n",
       "<table border=\"1\" class=\"dataframe\">\n",
       "  <thead>\n",
       "    <tr style=\"text-align: right;\">\n",
       "      <th></th>\n",
       "      <th>age</th>\n",
       "      <th>bp</th>\n",
       "      <th>sg</th>\n",
       "      <th>al</th>\n",
       "      <th>su</th>\n",
       "      <th>rbc</th>\n",
       "      <th>pc</th>\n",
       "      <th>pcc</th>\n",
       "      <th>ba</th>\n",
       "      <th>bgr</th>\n",
       "      <th>...</th>\n",
       "      <th>hemo</th>\n",
       "      <th>pcv</th>\n",
       "      <th>wc</th>\n",
       "      <th>rc</th>\n",
       "      <th>htn</th>\n",
       "      <th>dm</th>\n",
       "      <th>cad</th>\n",
       "      <th>appet</th>\n",
       "      <th>pe</th>\n",
       "      <th>ane</th>\n",
       "    </tr>\n",
       "  </thead>\n",
       "  <tbody>\n",
       "    <tr>\n",
       "      <th>0</th>\n",
       "      <td>48.0</td>\n",
       "      <td>80.0</td>\n",
       "      <td>1.020</td>\n",
       "      <td>1.0</td>\n",
       "      <td>0.0</td>\n",
       "      <td>NaN</td>\n",
       "      <td>normal</td>\n",
       "      <td>notpresent</td>\n",
       "      <td>notpresent</td>\n",
       "      <td>121.0</td>\n",
       "      <td>...</td>\n",
       "      <td>15.4</td>\n",
       "      <td>44.0</td>\n",
       "      <td>7800.0</td>\n",
       "      <td>5.2</td>\n",
       "      <td>yes</td>\n",
       "      <td>yes</td>\n",
       "      <td>no</td>\n",
       "      <td>good</td>\n",
       "      <td>no</td>\n",
       "      <td>no</td>\n",
       "    </tr>\n",
       "    <tr>\n",
       "      <th>1</th>\n",
       "      <td>7.0</td>\n",
       "      <td>50.0</td>\n",
       "      <td>1.020</td>\n",
       "      <td>4.0</td>\n",
       "      <td>0.0</td>\n",
       "      <td>NaN</td>\n",
       "      <td>normal</td>\n",
       "      <td>notpresent</td>\n",
       "      <td>notpresent</td>\n",
       "      <td>NaN</td>\n",
       "      <td>...</td>\n",
       "      <td>11.3</td>\n",
       "      <td>38.0</td>\n",
       "      <td>6000.0</td>\n",
       "      <td>NaN</td>\n",
       "      <td>no</td>\n",
       "      <td>no</td>\n",
       "      <td>no</td>\n",
       "      <td>good</td>\n",
       "      <td>no</td>\n",
       "      <td>no</td>\n",
       "    </tr>\n",
       "    <tr>\n",
       "      <th>2</th>\n",
       "      <td>62.0</td>\n",
       "      <td>80.0</td>\n",
       "      <td>1.010</td>\n",
       "      <td>2.0</td>\n",
       "      <td>3.0</td>\n",
       "      <td>normal</td>\n",
       "      <td>normal</td>\n",
       "      <td>notpresent</td>\n",
       "      <td>notpresent</td>\n",
       "      <td>423.0</td>\n",
       "      <td>...</td>\n",
       "      <td>9.6</td>\n",
       "      <td>31.0</td>\n",
       "      <td>7500.0</td>\n",
       "      <td>NaN</td>\n",
       "      <td>no</td>\n",
       "      <td>yes</td>\n",
       "      <td>no</td>\n",
       "      <td>poor</td>\n",
       "      <td>no</td>\n",
       "      <td>yes</td>\n",
       "    </tr>\n",
       "    <tr>\n",
       "      <th>3</th>\n",
       "      <td>48.0</td>\n",
       "      <td>70.0</td>\n",
       "      <td>1.005</td>\n",
       "      <td>4.0</td>\n",
       "      <td>0.0</td>\n",
       "      <td>normal</td>\n",
       "      <td>abnormal</td>\n",
       "      <td>present</td>\n",
       "      <td>notpresent</td>\n",
       "      <td>117.0</td>\n",
       "      <td>...</td>\n",
       "      <td>11.2</td>\n",
       "      <td>32.0</td>\n",
       "      <td>6700.0</td>\n",
       "      <td>3.9</td>\n",
       "      <td>yes</td>\n",
       "      <td>no</td>\n",
       "      <td>no</td>\n",
       "      <td>poor</td>\n",
       "      <td>yes</td>\n",
       "      <td>yes</td>\n",
       "    </tr>\n",
       "    <tr>\n",
       "      <th>4</th>\n",
       "      <td>51.0</td>\n",
       "      <td>80.0</td>\n",
       "      <td>1.010</td>\n",
       "      <td>2.0</td>\n",
       "      <td>0.0</td>\n",
       "      <td>normal</td>\n",
       "      <td>normal</td>\n",
       "      <td>notpresent</td>\n",
       "      <td>notpresent</td>\n",
       "      <td>106.0</td>\n",
       "      <td>...</td>\n",
       "      <td>11.6</td>\n",
       "      <td>35.0</td>\n",
       "      <td>7300.0</td>\n",
       "      <td>4.6</td>\n",
       "      <td>no</td>\n",
       "      <td>no</td>\n",
       "      <td>no</td>\n",
       "      <td>good</td>\n",
       "      <td>no</td>\n",
       "      <td>no</td>\n",
       "    </tr>\n",
       "  </tbody>\n",
       "</table>\n",
       "<p>5 rows × 24 columns</p>\n",
       "</div>"
      ],
      "text/plain": [
       "    age    bp     sg   al   su     rbc        pc         pcc          ba  \\\n",
       "0  48.0  80.0  1.020  1.0  0.0     NaN    normal  notpresent  notpresent   \n",
       "1   7.0  50.0  1.020  4.0  0.0     NaN    normal  notpresent  notpresent   \n",
       "2  62.0  80.0  1.010  2.0  3.0  normal    normal  notpresent  notpresent   \n",
       "3  48.0  70.0  1.005  4.0  0.0  normal  abnormal     present  notpresent   \n",
       "4  51.0  80.0  1.010  2.0  0.0  normal    normal  notpresent  notpresent   \n",
       "\n",
       "     bgr  ...  hemo   pcv      wc   rc  htn   dm  cad  appet   pe  ane  \n",
       "0  121.0  ...  15.4  44.0  7800.0  5.2  yes  yes   no   good   no   no  \n",
       "1    NaN  ...  11.3  38.0  6000.0  NaN   no   no   no   good   no   no  \n",
       "2  423.0  ...   9.6  31.0  7500.0  NaN   no  yes   no   poor   no  yes  \n",
       "3  117.0  ...  11.2  32.0  6700.0  3.9  yes   no   no   poor  yes  yes  \n",
       "4  106.0  ...  11.6  35.0  7300.0  4.6   no   no   no   good   no   no  \n",
       "\n",
       "[5 rows x 24 columns]"
      ]
     },
     "execution_count": 7,
     "metadata": {},
     "output_type": "execute_result"
    }
   ],
   "source": [
    "kidney_data=pd.read_csv(kidney_data_dir)\n",
    "y_kidney = kidney_data[kidney_target]\n",
    "x_kidney = kidney_data.drop([kidney_target], axis=1)\n",
    "x_kidney.head()"
   ]
  },
  {
   "cell_type": "code",
   "execution_count": 8,
   "metadata": {},
   "outputs": [],
   "source": [
    "aml_kidney=PharmAutoML(x_kidney,y_kidney)"
   ]
  },
  {
   "cell_type": "code",
   "execution_count": 9,
   "metadata": {},
   "outputs": [
    {
     "name": "stdout",
     "output_type": "stream",
     "text": [
      "preprocessing parameter dictionary is\n",
      "{'drop_features': [[]], 'categorical_features': [['sg', 'al', 'su']], 'missing_threshold_rows': [0.2], 'missing_threshold_columns': [0.2], 'correlation_threshold': [0.98], 'check_diff_categorical_threshold': [0.1], 'add_nan_label': [False], 'impute_category_strategy': ['most_frequent'], 'impute_numerical_strategy': ['mean']}\n",
      "parameter grid is\n",
      "[{'add_nan_label': False, 'categorical_features': ['sg', 'al', 'su'], 'check_diff_categorical_threshold': 0.1, 'correlation_threshold': 0.98, 'drop_features': [], 'impute_category_strategy': 'most_frequent', 'impute_numerical_strategy': 'mean', 'missing_threshold_columns': 0.2, 'missing_threshold_rows': 0.2}]\n",
      "param\n",
      "{'add_nan_label': False, 'categorical_features': ['sg', 'al', 'su'], 'check_diff_categorical_threshold': 0.1, 'correlation_threshold': 0.98, 'drop_features': [], 'impute_category_strategy': 'most_frequent', 'impute_numerical_strategy': 'mean', 'missing_threshold_columns': 0.2, 'missing_threshold_rows': 0.2}\n",
      "Preprocessing Step 1: Manually Drop Features\n",
      "manually drop 0 features.\n",
      "Preprocessing Step 2: Find Single Unique Features\n",
      "0 features with a single unique value.\n",
      "Preprocessing Step 3: Find Missing\n",
      "96 instances have more than 0.20 fraction of missing values.\n",
      "Preprocessing Step 3: Find Missing\n",
      "5 features have more than 0.20 fraction of missing values.\n",
      "Preprocessing Step 4: Find Collinear Features by Pearson Correlations\n",
      "0 features with a correlation magnitude greater than 0.98.\n",
      "Data Preprocessor Summary\n",
      "5 total features out of 24 identified for removal.\n",
      "{'drop_features': [], 'single_unique': [], 'missing_features': ['rbc', 'sod', 'pot', 'wc', 'rc'], 'collinear': []}\n",
      "96 total instances out of 400 identified for removal.\n",
      "{'missing_instances': [1, 10, 13, 17, 21, 23, 28, 29, 30, 34, 37, 41, 47, 50, 55, 57, 59, 60, 64, 65, 67, 68, 72, 75, 78, 81, 82, 85, 86, 88, 89, 95, 96, 98, 104, 106, 109, 112, 113, 114, 116, 118, 119, 121, 122, 123, 125, 131, 132, 136, 138, 140, 142, 148, 151, 156, 160, 161, 162, 165, 166, 169, 174, 179, 183, 186, 187, 188, 192, 194, 197, 201, 202, 203, 205, 208, 209, 211, 215, 216, 220, 221, 222, 224, 228, 231, 232, 236, 238, 245, 268, 280, 283, 295, 315, 322]}\n",
      "imputation for training dataset\n",
      "['sg', 'al', 'su']\n",
      "0 categorical features are dropped due to high number of different values in categorical feature.\n",
      "[]\n",
      "the imputed categorical features include pc, appet, htn, ba, su, pcc, sg, ane, rbc, dm, pe, al, cad\n",
      "the imputed numerical features includehemo, pcv, bp, sod, bgr, bu, age, pot, sc, wc, rc\n",
      "data imputation summary\n",
      "{'categorical': ['pc', 'appet', 'htn', 'ba', 'su', 'pcc', 'sg', 'ane', 'rbc', 'dm', 'pe', 'al', 'cad'], 'numerical': ['hemo', 'pcv', 'bp', 'sod', 'bgr', 'bu', 'age', 'pot', 'sc', 'wc', 'rc']}\n",
      "for each preprocessing loop the classifier tuning record is\n",
      "0\n",
      "100%|██████████| 1/1 [00:00<00:00, 31.27trial/s, best loss: 0.12345679012345678]\n",
      "100%|██████████| 2/2 [00:00<00:00, 57.15trial/s, best loss: 0.04115226337448563]\n",
      "100%|██████████| 3/3 [00:00<00:00, 89.32trial/s, best loss: 0.04115226337448563]\n",
      "100%|██████████| 4/4 [00:00<00:00, 109.91trial/s, best loss: 0.016460905349794275]\n",
      "100%|██████████| 5/5 [00:00<00:00, 147.17trial/s, best loss: 0.016460905349794275]\n",
      "100%|██████████| 6/6 [00:00<00:00, 175.65trial/s, best loss: 0.016460905349794275]\n",
      "100%|██████████| 7/7 [00:00<00:00, 191.04trial/s, best loss: 0.016460905349794275]\n",
      "100%|██████████| 8/8 [00:00<00:00, 176.70trial/s, best loss: 0.016460905349794275]\n",
      "100%|██████████| 9/9 [00:00<00:00, 192.66trial/s, best loss: 0.012345679012345734]\n",
      "100%|██████████| 10/10 [00:00<00:00, 260.60trial/s, best loss: 0.012345679012345734]\n",
      "{'learner': LogisticRegression(C=415.87034962919876, class_weight=None, dual=False,\n",
      "                   fit_intercept=True, intercept_scaling=5.594858847375837,\n",
      "                   l1_ratio=None, max_iter=100, multi_class='auto', n_jobs=None,\n",
      "                   penalty='l2', random_state=0, solver='liblinear',\n",
      "                   tol=4.5102294456356836e-05, verbose=0, warm_start=False), 'preprocs': (StandardScaler(copy=True, with_mean=True, with_std=False),), 'ex_preprocs': ()}\n",
      "100%|██████████| 1/1 [00:00<00:00, 21.74trial/s, best loss: 0.4814814814814815]\n",
      "100%|██████████| 2/2 [00:00<00:00, 20.02trial/s, best loss: 0.4732510288065843]\n",
      "100%|██████████| 3/3 [00:00<00:00, 37.67trial/s, best loss: 0.4732510288065843]\n",
      "100%|██████████| 4/4 [00:00<00:00, 78.44trial/s, best loss: 0.016460905349794275]\n",
      "100%|██████████| 5/5 [00:00<00:00, 45.71trial/s, best loss: 0.016460905349794275]\n",
      "100%|██████████| 6/6 [00:00<00:00, 106.85trial/s, best loss: 0.016460905349794275]\n",
      "100%|██████████| 7/7 [00:00<00:00, 73.16trial/s, best loss: 0.016460905349794275]\n",
      "100%|██████████| 8/8 [00:00<00:00, 79.12trial/s, best loss: 0.016460905349794275]\n",
      "100%|██████████| 9/9 [00:00<00:00, 224.78trial/s, best loss: 0.016460905349794275]\n",
      "100%|██████████| 10/10 [00:00<00:00, 120.72trial/s, best loss: 0.016460905349794275]\n",
      "{'learner': SVC(C=585.4762719331975, break_ties=False, cache_size=512, class_weight=None,\n",
      "    coef0=0.0, decision_function_shape='ovr', degree=1, gamma='auto',\n",
      "    kernel='linear', max_iter=13373697.0, probability=True, random_state=0,\n",
      "    shrinking=False, tol=0.000196952232327865, verbose=False), 'preprocs': (StandardScaler(copy=True, with_mean=True, with_std=True),), 'ex_preprocs': ()}\n",
      "100%|██████████| 1/1 [00:00<00:00, 30.07trial/s, best loss: 0.30452674897119336]\n",
      "100%|██████████| 2/2 [00:00<00:00, 45.38trial/s, best loss: 0.024691358024691357]\n",
      "100%|██████████| 3/3 [00:00<00:00, 70.05trial/s, best loss: 0.024691358024691357]\n",
      "100%|██████████| 4/4 [00:00<00:00, 88.46trial/s, best loss: 0.024691358024691357]\n",
      "100%|██████████| 5/5 [00:00<00:00, 113.35trial/s, best loss: 0.024691358024691357]\n",
      "100%|██████████| 6/6 [00:00<00:00, 131.80trial/s, best loss: 0.016460905349794275]\n",
      "100%|██████████| 7/7 [00:00<00:00, 92.37trial/s, best loss: 0.016460905349794275]\n",
      "100%|██████████| 8/8 [00:00<00:00, 173.72trial/s, best loss: 0.016460905349794275]\n",
      "100%|██████████| 9/9 [00:00<00:00, 225.94trial/s, best loss: 0.016460905349794275]\n",
      "100%|██████████| 10/10 [00:00<00:00, 215.17trial/s, best loss: 0.016460905349794275]\n",
      "{'learner': KNeighborsClassifier(algorithm='auto', leaf_size=30, metric='euclidean',\n",
      "                     metric_params=None, n_jobs=1, n_neighbors=1, p=2,\n",
      "                     weights='uniform'), 'preprocs': (StandardScaler(copy=True, with_mean=True, with_std=True),), 'ex_preprocs': ()}\n",
      "100%|██████████| 1/1 [00:10<00:00, 10.07s/trial, best loss: 0.03292181069958844]\n",
      "100%|██████████| 2/2 [00:01<00:00,  1.02trial/s, best loss: 0.020576131687242816]\n",
      "100%|██████████| 3/3 [00:00<00:00,  3.20trial/s, best loss: 0.020576131687242816]\n",
      "100%|██████████| 4/4 [00:00<00:00, 39.99trial/s, best loss: 0.020576131687242816]\n",
      "100%|██████████| 5/5 [00:00<00:00, 37.20trial/s, best loss: 0.020576131687242816]\n",
      "100%|██████████| 6/6 [00:00<00:00, 14.60trial/s, best loss: 0.008230452674897082]\n",
      "100%|██████████| 7/7 [00:03<00:00,  1.82trial/s, best loss: 0.008230452674897082]\n",
      "100%|██████████| 8/8 [00:01<00:00,  6.25trial/s, best loss: 0.004115226337448541]\n",
      "100%|██████████| 9/9 [00:12<00:00,  1.36s/trial, best loss: 0.004115226337448541]\n",
      "100%|██████████| 10/10 [00:00<00:00, 39.78trial/s, best loss: 0.004115226337448541]\n",
      "{'learner': RandomForestClassifier(bootstrap=True, ccp_alpha=0.0, class_weight=None,\n",
      "                       criterion='entropy', max_depth=None,\n",
      "                       max_features=0.400312604580936, max_leaf_nodes=None,\n",
      "                       max_samples=None, min_impurity_decrease=0.0,\n",
      "                       min_impurity_split=None, min_samples_leaf=1,\n",
      "                       min_samples_split=2, min_weight_fraction_leaf=0.0,\n",
      "                       n_estimators=229, n_jobs=1, oob_score=False,\n",
      "                       random_state=0, verbose=False, warm_start=False), 'preprocs': (StandardScaler(copy=True, with_mean=True, with_std=True),), 'ex_preprocs': ()}\n",
      "100%|██████████| 1/1 [00:02<00:00,  2.22s/trial, best loss: 0.03292181069958844]\n",
      "100%|██████████| 2/2 [00:01<00:00,  1.38trial/s, best loss: 0.008230452674897082]\n",
      "100%|██████████| 3/3 [00:02<00:00,  1.10trial/s, best loss: 0.008230452674897082]\n",
      "100%|██████████| 4/4 [00:00<00:00, 46.52trial/s, best loss: 0.004115226337448541]\n",
      "100%|██████████| 5/5 [00:03<00:00,  1.31trial/s, best loss: 0.004115226337448541]\n",
      "100%|██████████| 6/6 [00:00<00:00,  7.72trial/s, best loss: 0.004115226337448541]\n",
      "100%|██████████| 7/7 [00:06<00:00,  1.01trial/s, best loss: 0.004115226337448541]\n",
      "100%|██████████| 8/8 [00:04<00:00,  1.63trial/s, best loss: 0.004115226337448541]\n",
      "100%|██████████| 9/9 [00:03<00:00,  2.34trial/s, best loss: 0.004115226337448541]\n",
      "100%|██████████| 10/10 [00:00<00:00, 21.08trial/s, best loss: 0.004115226337448541]\n",
      "{'learner': ExtraTreesClassifier(bootstrap=False, ccp_alpha=0.0, class_weight=None,\n",
      "                     criterion='entropy', max_depth=None, max_features='log2',\n",
      "                     max_leaf_nodes=None, max_samples=None,\n",
      "                     min_impurity_decrease=0.0, min_impurity_split=None,\n",
      "                     min_samples_leaf=1, min_samples_split=2,\n",
      "                     min_weight_fraction_leaf=0.0, n_estimators=14, n_jobs=1,\n",
      "                     oob_score=False, random_state=0, verbose=False,\n",
      "                     warm_start=False), 'preprocs': (StandardScaler(copy=True, with_mean=False, with_std=False),), 'ex_preprocs': ()}\n",
      "100%|██████████| 1/1 [00:01<00:00,  1.06s/trial, best loss: 0.008230452674897082]\n",
      "100%|██████████| 2/2 [00:00<00:00, 12.17trial/s, best loss: 0.008230452674897082]\n",
      "100%|██████████| 3/3 [00:00<00:00, 22.98trial/s, best loss: 0.008230452674897082]\n",
      "100%|██████████| 4/4 [00:00<00:00,  9.71trial/s, best loss: 0.008230452674897082]\n",
      "100%|██████████| 5/5 [00:00<00:00, 14.67trial/s, best loss: 0.004115226337448541]\n",
      "100%|██████████| 6/6 [00:01<00:00,  4.16trial/s, best loss: 0.004115226337448541]\n",
      "100%|██████████| 7/7 [00:00<00:00, 13.22trial/s, best loss: 0.004115226337448541]\n",
      "100%|██████████| 8/8 [00:00<00:00, 12.79trial/s, best loss: 0.004115226337448541]\n",
      "100%|██████████| 9/9 [00:00<00:00, 70.70trial/s, best loss: 0.004115226337448541]\n",
      "100%|██████████| 10/10 [00:01<00:00,  5.31trial/s, best loss: 0.004115226337448541]\n",
      "{'learner': AdaBoostClassifier(algorithm='SAMME.R', base_estimator=None,\n",
      "                   learning_rate=0.029413064274551416, n_estimators=52,\n",
      "                   random_state=0), 'preprocs': (StandardScaler(copy=True, with_mean=False, with_std=False),), 'ex_preprocs': ()}\n",
      "100%|██████████| 1/1 [00:00<00:00, 13.87trial/s, best loss: 0.4732510288065843]\n",
      "100%|██████████| 2/2 [00:00<00:00, 28.00trial/s, best loss: 0.4732510288065843]\n",
      "100%|██████████| 3/3 [00:00<00:00, 32.83trial/s, best loss: 0.03292181069958844]\n",
      "100%|██████████| 4/4 [00:01<00:00,  3.92trial/s, best loss: 0.012345679012345734]\n",
      "100%|██████████| 5/5 [00:01<00:00,  4.07trial/s, best loss: 0.012345679012345734]\n",
      "100%|██████████| 6/6 [00:00<00:00, 29.67trial/s, best loss: 0.012345679012345734]\n",
      "100%|██████████| 7/7 [00:00<00:00, 36.73trial/s, best loss: 0.012345679012345734]\n",
      "100%|██████████| 8/8 [00:00<00:00, 29.85trial/s, best loss: 0.008230452674897082]\n",
      "100%|██████████| 9/9 [00:00<00:00, 31.49trial/s, best loss: 0.008230452674897082]\n",
      "100%|██████████| 10/10 [00:04<00:00,  2.04trial/s, best loss: 0.008230452674897082]\n",
      "{'learner': GradientBoostingClassifier(ccp_alpha=0.0, criterion='friedman_mse', init=None,\n",
      "                           learning_rate=0.15890940746568677,\n",
      "                           loss='exponential', max_depth=None,\n",
      "                           max_features=0.4517500083366395, max_leaf_nodes=None,\n",
      "                           min_impurity_decrease=0.0, min_impurity_split=None,\n",
      "                           min_samples_leaf=3, min_samples_split=2,\n",
      "                           min_weight_fraction_leaf=0.0, n_estimators=41,\n",
      "                           n_iter_no_change=None, presort='deprecated',\n",
      "                           random_state=0, subsample=0.8002665111434768,\n",
      "                           tol=0.0001, validation_fraction=0.1, verbose=0,\n",
      "                           warm_start=False), 'preprocs': (StandardScaler(copy=True, with_mean=True, with_std=False),), 'ex_preprocs': ()}\n",
      "100%|██████████| 1/1 [00:00<00:00,  9.50trial/s, best loss: 0.024691358024691357]\n",
      "100%|██████████| 2/2 [00:00<00:00, 54.36trial/s, best loss: 0.012345679012345734]\n",
      "100%|██████████| 3/3 [00:00<00:00, 82.32trial/s, best loss: 0.012345679012345734]\n",
      "100%|██████████| 4/4 [00:00<00:00, 109.54trial/s, best loss: 0.012345679012345734]\n",
      "100%|██████████| 5/5 [00:00<00:00, 137.13trial/s, best loss: 0.012345679012345734]\n",
      "100%|██████████| 6/6 [00:00<00:00, 176.49trial/s, best loss: 0.012345679012345734]\n",
      "100%|██████████| 7/7 [00:00<00:00, 185.65trial/s, best loss: 0.012345679012345734]\n",
      "100%|██████████| 8/8 [00:00<00:00, 190.96trial/s, best loss: 0.012345679012345734]\n",
      "100%|██████████| 9/9 [00:00<00:00, 240.27trial/s, best loss: 0.012345679012345734]\n",
      "100%|██████████| 10/10 [00:00<00:00, 272.79trial/s, best loss: 0.012345679012345734]\n",
      "{'learner': SGDClassifier(alpha=9.897054418420122e-06, average=False, class_weight=None,\n",
      "              early_stopping=False, epsilon=0.1, eta0=0.0017926076887632414,\n",
      "              fit_intercept=True, l1_ratio=0.2871304367242127,\n",
      "              learning_rate='optimal', loss='modified_huber',\n",
      "              max_iter=212902966.0, n_iter_no_change=5, n_jobs=1, penalty='l2',\n",
      "              power_t=0.29685125280584135, random_state=0, shuffle=True,\n",
      "              tol=0.0013261780136492555, validation_fraction=0.1, verbose=False,\n",
      "              warm_start=False), 'preprocs': (StandardScaler(copy=True, with_mean=False, with_std=True),), 'ex_preprocs': ()}\n",
      "100%|██████████| 1/1 [00:03<00:00,  3.07s/trial, best loss: 0.020576131687242816]\n",
      "100%|██████████| 2/2 [00:05<00:00,  2.89s/trial, best loss: 0.020576131687242816]\n",
      "100%|██████████| 3/3 [00:01<00:00,  2.16trial/s, best loss: 0.020576131687242816]\n",
      "100%|██████████| 4/4 [00:06<00:00,  1.67s/trial, best loss: 0.020576131687242816]\n",
      "100%|██████████| 5/5 [00:06<00:00,  1.38s/trial, best loss: 0.020576131687242816]\n",
      "100%|██████████| 6/6 [00:02<00:00,  2.22trial/s, best loss: 0.016460905349794275]\n",
      "100%|██████████| 7/7 [00:14<00:00,  2.05s/trial, best loss: 0.016460905349794275]\n",
      "100%|██████████| 8/8 [00:01<00:00,  5.97trial/s, best loss: 0.016460905349794275]\n",
      "100%|██████████| 9/9 [00:15<00:00,  1.70s/trial, best loss: 0.016460905349794275]\n",
      "100%|██████████| 10/10 [00:10<00:00,  1.02s/trial, best loss: 0.016460905349794275]\n",
      "{'learner': XGBClassifier(base_score=0.5, booster=None,\n",
      "              colsample_bylevel=0.7396652580351272, colsample_bynode=None,\n",
      "              colsample_bytree=0.6512782872102452, gamma=0.0003271862656736129,\n",
      "              gpu_id=None, importance_type='gain', interaction_constraints=None,\n",
      "              learning_rate=0.11158721544627533, max_delta_step=0, max_depth=5,\n",
      "              min_child_weight=1, missing=nan, monotone_constraints=None,\n",
      "              n_estimators=800, n_jobs=None, num_parallel_tree=None,\n",
      "              objective='binary:logistic', random_state=None,\n",
      "              reg_alpha=0.22055329282938482, reg_lambda=1.4060441984956777,\n",
      "              scale_pos_weight=1, seed=0, subsample=0.8944512592649424,\n",
      "              tree_method=None, validate_parameters=False, verbosity=None), 'preprocs': (StandardScaler(copy=True, with_mean=True, with_std=True),), 'ex_preprocs': ()}\n"
     ]
    },
    {
     "name": "stderr",
     "output_type": "stream",
     "text": [
      "Setting a random_state has no effect since shuffle is False. This will raise an error in 0.24. You should leave random_state to its default (None), or set shuffle=True.\n",
      "Setting a random_state has no effect since shuffle is False. This will raise an error in 0.24. You should leave random_state to its default (None), or set shuffle=True.\n",
      "Setting a random_state has no effect since shuffle is False. This will raise an error in 0.24. You should leave random_state to its default (None), or set shuffle=True.\n",
      "Setting a random_state has no effect since shuffle is False. This will raise an error in 0.24. You should leave random_state to its default (None), or set shuffle=True.\n",
      "Setting a random_state has no effect since shuffle is False. This will raise an error in 0.24. You should leave random_state to its default (None), or set shuffle=True.\n",
      "Setting a random_state has no effect since shuffle is False. This will raise an error in 0.24. You should leave random_state to its default (None), or set shuffle=True.\n",
      "Setting a random_state has no effect since shuffle is False. This will raise an error in 0.24. You should leave random_state to its default (None), or set shuffle=True.\n",
      "Setting a random_state has no effect since shuffle is False. This will raise an error in 0.24. You should leave random_state to its default (None), or set shuffle=True.\n",
      "Setting a random_state has no effect since shuffle is False. This will raise an error in 0.24. You should leave random_state to its default (None), or set shuffle=True.\n"
     ]
    },
    {
     "name": "stdout",
     "output_type": "stream",
     "text": [
      "#################################\n",
      "for preprocess strategy number\n",
      "0\n",
      "ROC AUCS\n",
      "{'SVC': 0.9966711956521739, 'KNN': 0.984375, 'RF': 0.9992527173913043, 'ET': 1.0, 'AB': 0.9932744565217392, 'GB': 0.9991847826086957, 'SGD': 0.984375, 'XGboost': 0.9990489130434782, 'LRC': 0.994633152173913}\n",
      "ROC AUC stdev\n",
      "{'SVC': 0.004644953992064288, 'KNN': 0.01664633868801114, 'RF': 0.0015555255495650299, 'ET': 0.0, 'AB': 0.0007478488219062837, 'GB': 0.002333288324347613, 'SGD': 0.01664633868801114, 'XGboost': 0.0007478488219062837, 'LRC': 0.009722034684781687}\n",
      "all metrics\n",
      "{'SVC': {'acc': [1.0, 0.9795918367346939, 0.9795918367346939, 0.9791666666666666, 1.0], 'auroc': [1.0, 0.9949832775919732, 1.0, 0.9895652173913043, 1.0], 'auprc': [1.0, 0.9960212201591512, 1.0, 0.9922580645161291, 1.0], 'f1': [1.0, 0.9803921568627451, 0.9803921568627451, 0.9795918367346939, 1.0], 'sensitivity': [1.0, 0.9615384615384616, 0.9615384615384616, 0.96, 1.0], 'precision': [1.0, 1.0, 1.0, 1.0, 1.0]}, 'KNN': {'acc': [1.0, 0.9795918367346939, 0.9795918367346939, 0.9583333333333334, 1.0], 'auroc': [1.0, 0.9807692307692308, 0.9807692307692308, 0.96, 1.0], 'auprc': [1.0, 0.9819466248037677, 0.9819466248037677, 0.9616666666666667, 1.0], 'f1': [1.0, 0.9803921568627451, 0.9803921568627451, 0.9583333333333334, 1.0], 'sensitivity': [1.0, 0.9615384615384616, 0.9615384615384616, 0.92, 1.0], 'precision': [1.0, 1.0, 1.0, 1.0, 1.0]}, 'RF': {'acc': [0.9795918367346939, 0.9591836734693877, 1.0, 0.9791666666666666, 1.0], 'auroc': [0.9999999999999999, 1.0, 1.0, 0.9965217391304348, 1.0], 'auprc': [1.0, 1.0, 1.0, 0.997037037037037, 1.0], 'f1': [0.9811320754716981, 0.9600000000000001, 1.0, 0.9795918367346939, 1.0], 'sensitivity': [1.0, 0.9230769230769231, 1.0, 0.96, 1.0], 'precision': [0.9629629629629629, 1.0, 1.0, 1.0, 1.0]}, 'ET': {'acc': [1.0, 1.0, 0.9795918367346939, 1.0, 1.0], 'auroc': [1.0, 1.0, 1.0, 1.0, 1.0], 'auprc': [1.0, 1.0, 1.0, 1.0, 1.0], 'f1': [1.0, 1.0, 0.9803921568627451, 1.0, 1.0], 'sensitivity': [1.0, 1.0, 0.9615384615384616, 1.0, 1.0], 'precision': [1.0, 1.0, 1.0, 1.0, 1.0]}, 'AB': {'acc': [0.9795918367346939, 0.9591836734693877, 1.0, 0.9791666666666666, 1.0], 'auroc': [0.9983277591973244, 1.0, 1.0, 1.0, 1.0], 'auprc': [0.9985754985754984, 1.0000000000000002, 1.0, 1.0, 1.0], 'f1': [0.9811320754716981, 0.9600000000000001, 1.0, 0.9795918367346939, 1.0], 'sensitivity': [1.0, 0.9230769230769231, 1.0, 0.96, 1.0], 'precision': [0.9629629629629629, 1.0, 1.0, 1.0, 1.0]}, 'GB': {'acc': [0.9795918367346939, 0.9795918367346939, 1.0, 0.9791666666666666, 1.0], 'auroc': [1.0, 1.0, 1.0, 0.9947826086956522, 1.0], 'auprc': [1.0, 1.0, 1.0, 0.9957142857142858, 1.0], 'f1': [0.9811320754716981, 0.9803921568627451, 1.0, 0.9795918367346939, 1.0], 'sensitivity': [1.0, 0.9615384615384616, 1.0, 0.96, 1.0], 'precision': [0.9629629629629629, 1.0, 1.0, 1.0, 1.0]}, 'SGD': {'acc': [1.0, 0.9795918367346939, 0.9795918367346939, 0.9583333333333334, 1.0], 'auroc': [1.0, 0.9807692307692308, 0.9807692307692308, 0.96, 1.0], 'auprc': [1.0, 0.9819466248037677, 0.9819466248037677, 0.9616666666666667, 1.0], 'f1': [1.0, 0.9803921568627451, 0.9803921568627451, 0.9583333333333334, 1.0], 'sensitivity': [1.0, 0.9615384615384616, 0.9615384615384616, 0.92, 1.0], 'precision': [1.0, 1.0, 1.0, 1.0, 1.0]}, 'XGboost': {'acc': [0.9795918367346939, 0.9795918367346939, 0.9795918367346939, 0.9791666666666666, 1.0], 'auroc': [0.9983277591973244, 1.0, 1.0, 1.0, 1.0], 'auprc': [0.9985754985754985, 1.0, 0.9999999999999999, 1.0, 1.0], 'f1': [0.9811320754716981, 0.9803921568627451, 0.9803921568627451, 0.9795918367346939, 1.0], 'sensitivity': [1.0, 0.9615384615384616, 0.9615384615384616, 0.96, 1.0], 'precision': [0.9629629629629629, 1.0, 1.0, 1.0, 1.0]}, 'LRC': {'acc': [0.9795918367346939, 0.9795918367346939, 0.9795918367346939, 1.0, 1.0], 'auroc': [1.0, 0.9782608695652174, 1.0, 1.0, 1.0], 'auprc': [1.0, 0.9871794871794872, 1.0, 1.0, 1.0], 'f1': [0.9811320754716981, 0.9803921568627451, 0.9803921568627451, 1.0, 1.0], 'sensitivity': [1.0, 0.9615384615384616, 0.9615384615384616, 1.0, 1.0], 'precision': [0.9629629629629629, 1.0, 1.0, 1.0, 1.0]}}\n",
      "for para_index\n",
      "0\n",
      "['ET', 'RF', 'GB', 'XGboost', 'SVC', 'LRC', 'AB', 'KNN', 'SGD']\n",
      "[0 1 2 3 4 5 6 7 8]\n",
      "the following model for shap analysis\n",
      "ExtraTreesClassifier(bootstrap=False, ccp_alpha=0.0, class_weight=None,\n",
      "                     criterion='entropy', max_depth=None, max_features='log2',\n",
      "                     max_leaf_nodes=None, max_samples=None,\n",
      "                     min_impurity_decrease=0.0, min_impurity_split=None,\n",
      "                     min_samples_leaf=1, min_samples_split=2,\n",
      "                     min_weight_fraction_leaf=0.0, n_estimators=14, n_jobs=1,\n",
      "                     oob_score=False, random_state=0, verbose=False,\n",
      "                     warm_start=False)\n"
     ]
    },
    {
     "name": "stderr",
     "output_type": "stream",
     "text": [
      "Setting feature_perturbation = \"tree_path_dependent\" because no background data was given.\n",
      "Matplotlib is currently using agg, which is a non-GUI backend, so cannot show the figure.\n"
     ]
    },
    {
     "name": "stdout",
     "output_type": "stream",
     "text": [
      "each preprocessing loop\n",
      "0\n",
      "SVC\n"
     ]
    },
    {
     "name": "stderr",
     "output_type": "stream",
     "text": [
      "Tight layout not applied. The left and right margins cannot be made large enough to accommodate all axes decorations. \n"
     ]
    },
    {
     "name": "stdout",
     "output_type": "stream",
     "text": [
      "0.9978448275862069\n",
      "KNN\n"
     ]
    },
    {
     "name": "stderr",
     "output_type": "stream",
     "text": [
      "Tight layout not applied. The left and right margins cannot be made large enough to accommodate all axes decorations. \n"
     ]
    },
    {
     "name": "stdout",
     "output_type": "stream",
     "text": [
      "0.984375\n",
      "RF\n"
     ]
    },
    {
     "name": "stderr",
     "output_type": "stream",
     "text": [
      "Tight layout not applied. The left and right margins cannot be made large enough to accommodate all axes decorations. \n"
     ]
    },
    {
     "name": "stdout",
     "output_type": "stream",
     "text": [
      "1.0\n",
      "ET\n"
     ]
    },
    {
     "name": "stderr",
     "output_type": "stream",
     "text": [
      "Tight layout not applied. The left and right margins cannot be made large enough to accommodate all axes decorations. \n"
     ]
    },
    {
     "name": "stdout",
     "output_type": "stream",
     "text": [
      "1.0\n",
      "AB\n"
     ]
    },
    {
     "name": "stderr",
     "output_type": "stream",
     "text": [
      "Tight layout not applied. The left and right margins cannot be made large enough to accommodate all axes decorations. \n"
     ]
    },
    {
     "name": "stdout",
     "output_type": "stream",
     "text": [
      "1.0\n",
      "GB\n"
     ]
    },
    {
     "name": "stderr",
     "output_type": "stream",
     "text": [
      "Tight layout not applied. The left and right margins cannot be made large enough to accommodate all axes decorations. \n"
     ]
    },
    {
     "name": "stdout",
     "output_type": "stream",
     "text": [
      "0.9978448275862069\n",
      "SGD\n"
     ]
    },
    {
     "name": "stderr",
     "output_type": "stream",
     "text": [
      "Tight layout not applied. The left and right margins cannot be made large enough to accommodate all axes decorations. \n"
     ]
    },
    {
     "name": "stdout",
     "output_type": "stream",
     "text": [
      "1.0\n",
      "XGboost\n"
     ]
    },
    {
     "name": "stderr",
     "output_type": "stream",
     "text": [
      "Tight layout not applied. The left and right margins cannot be made large enough to accommodate all axes decorations. \n"
     ]
    },
    {
     "name": "stdout",
     "output_type": "stream",
     "text": [
      "0.9913793103448276\n",
      "LRC\n"
     ]
    },
    {
     "name": "stderr",
     "output_type": "stream",
     "text": [
      "Tight layout not applied. The left and right margins cannot be made large enough to accommodate all axes decorations. \n"
     ]
    },
    {
     "name": "stdout",
     "output_type": "stream",
     "text": [
      "0.9989224137931035\n"
     ]
    },
    {
     "name": "stderr",
     "output_type": "stream",
     "text": [
      "A column-vector y was passed when a 1d array was expected. Please change the shape of y to (n_samples, ), for example using ravel().\n",
      "Solver terminated early (max_iter=13373697).  Consider pre-processing your data with StandardScaler or MinMaxScaler.\n"
     ]
    }
   ],
   "source": [
    "kidney_noMissing_path = kidney_result_path+ '/resultImputeMissing'\n",
    "kidney_result_noMissingAllow = aml_kidney.AutoML_imputeMissing(kidney_noMissing_path, preprocessing_paras, classifier_paras)"
   ]
  },
  {
   "cell_type": "code",
   "execution_count": null,
   "metadata": {},
   "outputs": [],
   "source": []
  }
 ],
 "metadata": {
  "kernelspec": {
   "display_name": "autoMLenv",
   "language": "python",
   "name": "automlenv"
  },
  "language_info": {
   "codemirror_mode": {
    "name": "ipython",
    "version": 3
   },
   "file_extension": ".py",
   "mimetype": "text/x-python",
   "name": "python",
   "nbconvert_exporter": "python",
   "pygments_lexer": "ipython3",
   "version": "3.7.7"
  }
 },
 "nbformat": 4,
 "nbformat_minor": 4
}
